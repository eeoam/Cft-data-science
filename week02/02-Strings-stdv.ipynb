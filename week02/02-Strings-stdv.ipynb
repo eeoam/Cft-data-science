{
 "cells": [
  {
   "cell_type": "markdown",
   "id": "3a68a029-19c9-4467-bd9b-2614d0e3784f",
   "metadata": {},
   "source": [
    "<font color='green'><div class='alert alert-success'><strong><H2>String</H2></strong><br>\n",
    "Strings are sequence of characters. Python understands the string 'Hello' to be a sequence of letters in a specific order. This means indexing can be used to grab any particular letter(s). This idea of sequence is an important one in Python and we will touch upon it later.<br>\n",
    "In this lecture, we'll learn about the following:<br>\n",
    "<strong>1.) Creating Strings<br>\n",
    "<strong>2.) Printing Strings<br>\n",
    "<strong>3.) print Formatting<br>\n",
    "<strong>4.) String Indexing and Slicing<br>\n",
    "<strong>5.) String Propertites<br>\n",
    "<strong>6.) String methods"
   ]
  },
  {
   "cell_type": "markdown",
   "id": "8070d17e-0c32-4409-80c4-f383dfaef934",
   "metadata": {},
   "source": [
    "<font color='black'><div class='alert alert-info'><strong>1. Creating Strings</strong><br>\n"
   ]
  },
  {
   "cell_type": "code",
   "execution_count": null,
   "id": "acf0e8d0-7e7d-414a-8fa5-64a33958721e",
   "metadata": {},
   "outputs": [],
   "source": [
    "To create a string in Python, wrap word(s) with single or double quotes"
   ]
  },
  {
   "cell_type": "code",
   "execution_count": null,
   "id": "ad92dcef-8874-4fb6-b661-e0893fcf6c94",
   "metadata": {},
   "outputs": [],
   "source": [
    "# single word\n",
    "'Hello'"
   ]
  },
  {
   "cell_type": "code",
   "execution_count": null,
   "id": "437393bf-aa64-4e2c-b1ea-5e8a509a344c",
   "metadata": {},
   "outputs": [],
   "source": [
    "# Entire phrase\n",
    "'This is also a String'"
   ]
  },
  {
   "cell_type": "code",
   "execution_count": null,
   "id": "ec5107e9-ddc5-4b06-bfb8-5648e9b42292",
   "metadata": {},
   "outputs": [],
   "source": [
    "# We can also use double quotes\n",
    "\"String built with double quotes\""
   ]
  },
  {
   "cell_type": "code",
   "execution_count": null,
   "id": "57e38fcd-de5d-40d3-8a3e-59ccac142111",
   "metadata": {},
   "outputs": [],
   "source": [
    "# Be careful with how quotes are used in some cases\n",
    "'I'am using single quotes, but this will throw an error'"
   ]
  },
  {
   "cell_type": "markdown",
   "id": "184c26c9-0f13-4428-9374-d96ea8adb7f5",
   "metadata": {},
   "source": [
    "The reason for the error above is because the single quotes in I'am stoped the string. You can use combinations of both double and single quotes to get the complete statement"
   ]
  },
  {
   "cell_type": "code",
   "execution_count": null,
   "id": "8ebb44c2-0f3a-4190-b910-17bd2cfb9259",
   "metadata": {},
   "outputs": [],
   "source": [
    "\"I'm ready to use the single quotes inside a string!\""
   ]
  },
  {
   "cell_type": "markdown",
   "id": "c29399e6-0e87-4908-b9c5-6ee39e91d477",
   "metadata": {},
   "source": [
    "<font color='black'><div class='alert alert-info'><strong>2. Printing Strings</strong><br>"
   ]
  },
  {
   "cell_type": "markdown",
   "id": "cb78bf4d-083d-4f41-8ee9-1779b1bcd8e7",
   "metadata": {},
   "source": [
    "Using Jupyter notebook with a string in a cell will automatically output strings, however, the correct way to display strings in your output is by using a print function (is a block of code which is executed only when it is called)."
   ]
  },
  {
   "cell_type": "code",
   "execution_count": null,
   "id": "75db1f33-118a-405a-bcdf-47157564045f",
   "metadata": {},
   "outputs": [],
   "source": [
    "print(\"Do you know, 'Python is awesome!'\")"
   ]
  },
  {
   "cell_type": "code",
   "execution_count": null,
   "id": "90b86282-1f43-4582-90a0-dfd89ceef96f",
   "metadata": {},
   "outputs": [],
   "source": [
    "# Note that we can't output multiple strings this way\n",
    "'Hello, Data Scientists'\n",
    "'I hope you are all doing well'"
   ]
  },
  {
   "cell_type": "code",
   "execution_count": null,
   "id": "cd9ee566-c58a-4ea1-ab9c-5521aa8a4b6d",
   "metadata": {},
   "outputs": [],
   "source": [
    "# We can use a print statement to print a string\n",
    "# This tells Python to display the text Hello, world! on the screen.\n",
    "print('Hello, Data Scientists')\n",
    "print('I hope you are all doing well')"
   ]
  },
  {
   "cell_type": "code",
   "execution_count": null,
   "id": "ea917107-3e1f-4f91-b367-d8c863586a36",
   "metadata": {},
   "outputs": [],
   "source": [
    "# \\n :newline\n",
    "print('Use \\n to print a new line')"
   ]
  },
  {
   "cell_type": "code",
   "execution_count": null,
   "id": "ae53315a-1992-4edd-aeae-afc4b2b72da0",
   "metadata": {},
   "outputs": [],
   "source": [
    "# \\t: tabs\n",
    "print(\"Use \\t to add tab space to the text\")"
   ]
  },
  {
   "cell_type": "code",
   "execution_count": null,
   "id": "ccb0ec11-187d-4ee0-91a9-50666504c2cf",
   "metadata": {},
   "outputs": [],
   "source": [
    "# escape characters\n",
    "print(\"He said, \\\"Don't give up!\\\"\")"
   ]
  },
  {
   "cell_type": "code",
   "execution_count": null,
   "id": "2887cbe6-afc7-4298-aa63-83910b6461fe",
   "metadata": {},
   "outputs": [],
   "source": [
    "# How do we print quotes\n",
    "print(\"He said, \\\"Don't give up!\\\"\")"
   ]
  },
  {
   "cell_type": "code",
   "execution_count": null,
   "id": "bce95440-075e-4b9e-ac90-543f42edab56",
   "metadata": {},
   "outputs": [],
   "source": [
    "# Can we print emoji\n",
    "print(\"I am very delighted \\U0001F603\")"
   ]
  },
  {
   "cell_type": "markdown",
   "id": "2a8bfebb-895d-49c2-8d98-845a116d9dcd",
   "metadata": {},
   "source": [
    "<font color='black'><div class='alert alert-info'><strong>3. Print Formatting</strong><br>"
   ]
  },
  {
   "cell_type": "markdown",
   "id": "53bee095-1ef9-468a-8f6b-4d2c6afb7348",
   "metadata": {},
   "source": [
    "**3.1 f-strings**"
   ]
  },
  {
   "cell_type": "code",
   "execution_count": null,
   "id": "279b89a0-992b-4481-af76-2218a3971040",
   "metadata": {},
   "outputs": [],
   "source": [
    "# f-strings: introduced in Python version 3.6 and is the most recommended way"
   ]
  },
  {
   "cell_type": "code",
   "execution_count": null,
   "id": "2e174e48-adf7-47bb-b8ad-d4690f5939e9",
   "metadata": {},
   "outputs": [],
   "source": [
    "# STUDENTS TO COMPLETE"
   ]
  },
  {
   "cell_type": "markdown",
   "id": "3415a8ea-5982-4e39-a787-2f6adb481315",
   "metadata": {},
   "source": [
    "**3.2 .format()**"
   ]
  },
  {
   "cell_type": "code",
   "execution_count": null,
   "id": "6c67f490-16f3-4dfb-877b-b3a86fa3e2c3",
   "metadata": {},
   "outputs": [],
   "source": [
    "# .format() in introduced in Python 2.7+ and currently being used in version 3.x\n",
    "name = \"Alice\"\n",
    "age = 10\n",
    "print(\"My name is {} and I am {} years old.\".format(name, age))"
   ]
  },
  {
   "cell_type": "code",
   "execution_count": null,
   "id": "c43e9b94-fdd2-4ab9-a5d8-871eb6eef843",
   "metadata": {},
   "outputs": [],
   "source": [
    "print(\"My name is {n} and I am {a} years old.\".format(n=name, a=age))"
   ]
  },
  {
   "cell_type": "code",
   "execution_count": null,
   "id": "572a0d95-ad7f-494f-b43f-32d4bac195fb",
   "metadata": {},
   "outputs": [],
   "source": [
    "print(\"Name: {0}, Age: {1}\".format(name, age))"
   ]
  },
  {
   "cell_type": "markdown",
   "id": "ba1fd9f5-f1e4-4bc5-8566-ac1a75c3f19e",
   "metadata": {},
   "source": [
    "**3.3 f-string vs .format()**"
   ]
  },
  {
   "cell_type": "markdown",
   "id": "b210b5c9-2a48-47a9-9c94-da5fe9dd3c2f",
   "metadata": {},
   "source": [
    "| Style     | Code Example               |\r\n",
    "|-----------|----------------------------|\r\n",
    "| f-string  | `f\"Hello {name}\"`          |\r\n",
    "| .format() | `\"Hello {}\".format(name)`  |\r\n"
   ]
  },
  {
   "cell_type": "markdown",
   "id": "c1e650e0-d709-46b8-b4d3-f31a49ba098d",
   "metadata": {},
   "source": [
    "<font color='black'><div class='alert alert-info'><strong>4. String Indexing and Slicing</strong><br>"
   ]
  },
  {
   "cell_type": "markdown",
   "id": "7d33c5b9-6cdb-465f-b28e-65b435944998",
   "metadata": {},
   "source": [
    "**4.1 Indexing**"
   ]
  },
  {
   "cell_type": "markdown",
   "id": "f8745b66-8254-40c3-a771-c1d7a3907e0e",
   "metadata": {},
   "source": [
    "We know strings are a sequence of characters, which means Python can use indexes to call all or parts of the sequence. Let's learn how this works.<br>\n",
    "In Python, we use <strong>square brackets []</strong> after an object to call its index. It is very important to <strong>note</strong> that indexing starts at 0 (from left to right) or -1 (from right to left) in Python."
   ]
  },
  {
   "cell_type": "code",
   "execution_count": null,
   "id": "fafacd21-b836-445c-b406-4c34d1e6fc7e",
   "metadata": {},
   "outputs": [],
   "source": [
    "# Assign greeting as a string\n",
    "greeting = \"Hello to you all!\""
   ]
  },
  {
   "cell_type": "code",
   "execution_count": null,
   "id": "9791689b-6f82-4582-91f9-f0737eb26c93",
   "metadata": {},
   "outputs": [],
   "source": [
    "greeting[0]"
   ]
  },
  {
   "cell_type": "code",
   "execution_count": null,
   "id": "ba98772c-82a7-4df2-91d8-abc35014ee6a",
   "metadata": {},
   "outputs": [],
   "source": [
    "greeting[1]"
   ]
  },
  {
   "cell_type": "code",
   "execution_count": null,
   "id": "2317c880-06c1-4762-b15e-f397d265fde2",
   "metadata": {},
   "outputs": [],
   "source": [
    "greeting[5]"
   ]
  },
  {
   "cell_type": "markdown",
   "id": "84efc220-dc8c-4dde-839e-3fd360d49d92",
   "metadata": {},
   "source": [
    "**4.2 Slicing**"
   ]
  },
  {
   "cell_type": "markdown",
   "id": "361be965-247a-4d00-8513-f0ae4846d8ee",
   "metadata": {},
   "source": [
    "We can use a <strong>:</strong> (string[start:stop]) to perform slicing which graps everything up to a designated point. For example:"
   ]
  },
  {
   "cell_type": "code",
   "execution_count": null,
   "id": "0f17abeb-d6db-418d-8d81-f2d5f449f673",
   "metadata": {},
   "outputs": [],
   "source": [
    "text = \"Elephant\""
   ]
  },
  {
   "cell_type": "code",
   "execution_count": null,
   "id": "7fdfabaa-67cc-4289-99be-a67fb54b12e9",
   "metadata": {},
   "outputs": [],
   "source": [
    "# Grab everything past the first character to the length of the text, which is len(text)\n",
    "# No change to the original text variable\n",
    "text[1:]"
   ]
  },
  {
   "cell_type": "code",
   "execution_count": null,
   "id": "c5fe4fa4-9d8b-4e40-9b2a-698acb43f8d0",
   "metadata": {},
   "outputs": [],
   "source": [
    "text[:3]"
   ]
  },
  {
   "cell_type": "markdown",
   "id": "19ca2980-4f0e-4953-b60b-62e684f8018c",
   "metadata": {},
   "source": [
    "Note: The above slicing. Here we're telling Python to grab everything from index 0 up to but not including index 3"
   ]
  },
  {
   "cell_type": "code",
   "execution_count": null,
   "id": "eda2eff8-1876-4e33-9b4e-57619aeeab2e",
   "metadata": {},
   "outputs": [],
   "source": [
    "# Grap everything\n",
    "text[:]"
   ]
  },
  {
   "cell_type": "markdown",
   "id": "95f2838c-d558-4a9f-bf51-a35f9b2d8c08",
   "metadata": {},
   "source": [
    "We can also use negative index to go backwards"
   ]
  },
  {
   "cell_type": "code",
   "execution_count": null,
   "id": "4e7c6b12-5f8a-4b5c-853b-95e681094dbf",
   "metadata": {},
   "outputs": [],
   "source": [
    "# Grab everything but the last character\n",
    "text[:-1]"
   ]
  },
  {
   "cell_type": "code",
   "execution_count": null,
   "id": "8a3f4d15-b5a0-4a93-889b-24128956072a",
   "metadata": {},
   "outputs": [],
   "source": [
    "text[-8:-4]"
   ]
  },
  {
   "cell_type": "code",
   "execution_count": null,
   "id": "96706dd8-8bff-40e7-9814-8c70637b88cd",
   "metadata": {},
   "outputs": [],
   "source": [
    "# return me the word 'ant'\n",
    "text[-3:]"
   ]
  },
  {
   "cell_type": "markdown",
   "id": "79fc575c-9485-4e77-8858-19e8a11adac7",
   "metadata": {},
   "source": [
    "We can also use index and slic notations to grab elements of a sequence by specified step size (the default is 1). For instance, we can use colons in a row, then followed by a number specifying the frequency to grab elements. For example:"
   ]
  },
  {
   "cell_type": "code",
   "execution_count": null,
   "id": "c9b480e2-daf7-4339-bf81-a7914b560b2c",
   "metadata": {},
   "outputs": [],
   "source": [
    "# Grab everything, but go in steps size of 1\n",
    "greeting[::1]"
   ]
  },
  {
   "cell_type": "code",
   "execution_count": null,
   "id": "c19918d5-520c-4934-88fe-9b58b9bc3771",
   "metadata": {},
   "outputs": [],
   "source": [
    "greeting[::2]\n",
    "# greeting[2:6:2] assignment"
   ]
  },
  {
   "cell_type": "code",
   "execution_count": null,
   "id": "fdb8523a-710d-4603-bc1e-04b3e839d423",
   "metadata": {},
   "outputs": [],
   "source": [
    "greeting[::-1]"
   ]
  },
  {
   "cell_type": "markdown",
   "id": "fc79daf2-f24e-4479-b345-8fff08bc1873",
   "metadata": {},
   "source": [
    "<font color='black'><div class='alert alert-info'><strong>5. String Propertites</strong><br>"
   ]
  },
  {
   "cell_type": "markdown",
   "id": "8ba32e8a-069a-471d-88e7-b8d6c24d226d",
   "metadata": {},
   "source": [
    "It's very important to note that strings have a property known as <strong>immutability</strong>. This means that once a string is created, the elements within it can not be changed or replaced:"
   ]
  },
  {
   "cell_type": "code",
   "execution_count": null,
   "id": "e9e048d6-91d6-416a-84ce-48fcbfb8b269",
   "metadata": {},
   "outputs": [],
   "source": [
    "greet = 'Hi'\n",
    "greet[0] = 'Y'"
   ]
  },
  {
   "cell_type": "markdown",
   "id": "caa1a7c9-2906-453d-83e0-7a7164be7ecb",
   "metadata": {},
   "source": [
    "Notice how the error tells us directly what we can't do.<br>Something we can do is concatenate strings"
   ]
  },
  {
   "cell_type": "code",
   "execution_count": null,
   "id": "60d79633-ebe2-405e-929d-7d70a962c056",
   "metadata": {},
   "outputs": [],
   "source": [
    "greet + ' Seiya'"
   ]
  },
  {
   "cell_type": "code",
   "execution_count": null,
   "id": "28add231-ab75-4e46-8c1b-36c382296ede",
   "metadata": {},
   "outputs": [],
   "source": [
    "greet * 3"
   ]
  },
  {
   "cell_type": "markdown",
   "id": "59ea0a62-c876-4fc0-b3fb-ee0ebd7b687b",
   "metadata": {},
   "source": [
    "<font color='black'><div class='alert alert-info'><strong>6.0 String methods</strong><br>"
   ]
  },
  {
   "cell_type": "markdown",
   "id": "0630aab3-aa1a-437d-8dd3-d57ffe445a53",
   "metadata": {},
   "source": [
    "Objects in Python usually have built-in methods.This methods are functions inside the object(We will learn these in much more depth later in the lecture series) that can perform actions or commands on the object itself<br>We call methods with a period and then the method name. Methods are in the form object.method(parameters)<br>\n",
    "Where parameters are the extra arguments we can pass into the method. Don't worry if the details don't make 100% sense right now<br>\n",
    "Here are some examples of built-in methods in strings"
   ]
  },
  {
   "cell_type": "code",
   "execution_count": null,
   "id": "e8bb8f79-c1b4-4802-bd1e-f0e54d523e19",
   "metadata": {},
   "outputs": [],
   "source": [
    "# company = 'great'\n",
    "# dir(company)"
   ]
  },
  {
   "cell_type": "code",
   "execution_count": null,
   "id": "9f576303-7ed2-48de-bd89-5e8ab6c97856",
   "metadata": {},
   "outputs": [],
   "source": [
    "# help(str.translate)"
   ]
  },
  {
   "cell_type": "code",
   "execution_count": null,
   "id": "ae4ef0bb-d78d-4656-afce-dd1f48f5aeaf",
   "metadata": {},
   "outputs": [],
   "source": [
    "print(\"Upper:\", \"convert me to upper case string\".upper())\n",
    "print(\"Lower:\", \"CONVERT ME TO LOWER CASE STRING\".lower())\n",
    "print(\"Capitalize:\",\"maKe mE A cAP\".capitalize())\n",
    "print(\"Title:\", \"maKe mE A title striNG\".title())\n",
    "print(\"Swapcase:\", \"a TEST case\".swapcase())\n",
    "print(\"Casefold:\", \"Hi straße\".casefold()) # Best for comparisons across languages\n",
    "print(\"ljust 10:\", \"Hola!\".ljust(10, \"x\"))\n",
    "print(\"rjust 10:\", \"Hola!\".rjust(10, \"x\"))\n",
    "print(\"Center 10:\", \"Hola!\".center(10, \"x\"))\n",
    "print(\"zfill 20:\", \"Hola!\".zfill(20))\n",
    "print(\"zfill 2:\", str(1).zfill(2))\n",
    "print(\"zfill 3:\", str(100).zfill(3))"
   ]
  },
  {
   "cell_type": "markdown",
   "id": "9cf359fc-e890-4a6a-8ced-0e72615b5107",
   "metadata": {},
   "source": [
    "**Trimming and Padding**<br>\n",
    "text = 'Hello, Python 123!'<br>\n",
    "\n",
    "| Method       | Description                   | Example             | Output                  |\n",
    "|--------------|-------------------------------|---------------------|--------------------------|\n",
    "| `strip()`    | Removes leading/trailing spaces| `text.strip()`      | `'Hello, Python 123!'`   |\n",
    "| `lstrip()`   | Removes spaces from left only | `text.lstrip()`     | `'Hello, Python 123!  '` |\n",
    "| `rstrip()`   | Removes spaces from right only| `text.rstrip()`     | `'  Hello, Python 123!'` |\n",
    "| `zfill(n)`   | Pads with zeros to length `n` | `'42'.zfill(5)`     | `'00042'`                |\n"
   ]
  },
  {
   "cell_type": "markdown",
   "id": "a0ba5563-28a7-44ae-b32e-538e72d1893e",
   "metadata": {},
   "source": [
    "**Validation Methods (Return True/False)**<br>\n",
    "\n",
    "| Method         | Description               | Example             | Output   |\n",
    "|----------------|---------------------------|---------------------|----------|\n",
    "| `isdigit()`    | All characters are digits | `\"123\".isdigit()`   | `True`   |\n",
    "| `isalpha()`    | Only letters              | `\"abc\".isalpha()`   | `True`   |\n",
    "| `isalnum()`    | Letters and/or numbers    | `\"abc123\".isalnum()`| `True`   |\n",
    "| `isupper()`    | All uppercase letters     | `\"HELLO\".isupper()` | `True`   |\n",
    "| `islower()`    | All lowercase letters     | `\"hello\".islower()` | `True`   |\n",
    "| `isspace()`    | Only whitespace           | `\"   \".isspace()`   | `True`   |"
   ]
  },
  {
   "cell_type": "code",
   "execution_count": null,
   "id": "0c7082c5-6f14-4726-baf3-32d48a13a731",
   "metadata": {},
   "outputs": [],
   "source": []
  }
 ],
 "metadata": {
  "kernelspec": {
   "display_name": "Python 3 (ipykernel)",
   "language": "python",
   "name": "python3"
  },
  "language_info": {
   "codemirror_mode": {
    "name": "ipython",
    "version": 3
   },
   "file_extension": ".py",
   "mimetype": "text/x-python",
   "name": "python",
   "nbconvert_exporter": "python",
   "pygments_lexer": "ipython3",
   "version": "3.11.9"
  }
 },
 "nbformat": 4,
 "nbformat_minor": 5
}
