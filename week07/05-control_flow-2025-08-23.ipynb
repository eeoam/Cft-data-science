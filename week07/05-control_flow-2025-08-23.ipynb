{
 "cells": [
  {
   "cell_type": "markdown",
   "metadata": {},
   "source": [
    "</font><div class=\"alert alert-success\"></i><H1><strong>Control flow/structures</strong></H1><br><br>Control statements in Python gives Python the flexibiliy to control the flow of execution of a series of Python expressions.<br>\n",
    "Commonly used control structures in Python are:<br><br>\n",
    "<strong>1.) if and else: Used for testing a condition and acting on it<br>\n",
    "<strong>2.) if, elif and else: Used for testing a condition and acting on it<br>\n",
    "<strong>3.) for: Required to execute a loop a fixed number of times<br>\n",
    "<strong>4.) zip()<br>\n",
    "<strong>5.) enumerate()<br>\n",
    "<strong>6.) while: Required to execute some block of code continuously until a condition is met<br>\n",
    "<strong>7.) break: Used to break the execution of a loop<br>\n",
    "<strong>8.) continue: Used to skip an iteration of a loop<br>\n",
    "</div></font>"
   ]
  },
  {
   "cell_type": "markdown",
   "metadata": {},
   "source": [
    "<div class=\"alert alert-success\"></i><strong>1.0 if-else</strong><br>\n",
    "if-else control structure is one of the most commonly used in programming.This structure allows one to test a condition if it returns true or false and act on it accordinly.The general format of an if and else <b>OR</b> if-else statement is given below."
   ]
  },
  {
   "cell_type": "code",
   "execution_count": null,
   "metadata": {},
   "outputs": [],
   "source": [
    "items = (\"Apple\", \"Bread\", \"Phone\", \"Bag\", \"Pen\")\n",
    "\n",
    "if \"Book\" in items:\n",
    "    print(\"There is a Book in the tuple\")\n",
    "else:\n",
    "    print(\"There is no Book in the tuple\")"
   ]
  },
  {
   "cell_type": "code",
   "execution_count": null,
   "metadata": {},
   "outputs": [],
   "source": [
    "items = (\"Apple\", \"Mango\", \"Water Melon\", \"Orange\", \"Pear\")\n",
    "\n",
    "if \"Apple\" in items:\n",
    "    print(\"\"\"\n",
    "        There is Apple in the tuple.As you know Apple is my favourite fruit and\n",
    "        Apple is said to be very rich in vitamin C. The last time I had Apple \n",
    "        was a week ago and am really looking forward to\n",
    "        eating Apple when I visit my grandma's Apple farm\n",
    "        \"\"\")\n",
    "else:\n",
    "    print(\"There is no Apple in the tuple\")"
   ]
  },
  {
   "cell_type": "markdown",
   "metadata": {},
   "source": [
    "<div class=\"alert alert-info\"><i class=\"icon-lightbulb\"></i><strong>Discussion:</strong><br>How do we make the code above re-usable/generic.At the moment, if we choose to change the item from \"Apple\" to say \"Mango\", we would need to manually make changes on all the print statments where Apple appears.This is definately not an efficient code,imagine making such changes in a very large code, this will be a lot of work and error is bound.<br>\n",
    "</div>"
   ]
  },
  {
   "cell_type": "markdown",
   "metadata": {},
   "source": [
    "<div class=\"alert alert-danger\"></i><i class=\"icon-attention-alt\"></i>**Try it out!**<br>Write an if-else statment just like the code above, that would prompt a user to enter an integer and check if the integer exists in the tuple defined.<br>\n",
    "<font color = 'red'><strong>Hint:</strong></font> Replace the items in the tuple with numbers and use the input() method to get user's input.\n",
    "</div>"
   ]
  },
  {
   "cell_type": "code",
   "execution_count": 2,
   "metadata": {},
   "outputs": [
    {
     "name": "stdout",
     "output_type": "stream",
     "text": [
      "2 is in the tuple\n"
     ]
    }
   ],
   "source": [
    "tuple_of_numbers = (2,4,6,9,10)\n",
    "\n",
    "number = int(input(\"Please enter an integer: \"))\n",
    "\n",
    "if number in tuple_of_numbers:\n",
    "    print(\"{} is in the tuple\".format(number))\n",
    "    \n",
    "else:\n",
    "    print(\"{} is not found in the tuple\".format(number))"
   ]
  },
  {
   "cell_type": "markdown",
   "metadata": {},
   "source": [
    "<div class=\"alert alert-danger\"></i><i class=\"icon-attention-alt\"></i>**Try it out!**<br>Given the dictionary {\"James\":102, \"Fumi\":108, \"Mary\":105, \"Kunle\":105, \"Ebi\":100} Write an if-else statment that would prompt a user to enter a user name and passcode and check if the these exists in the dictionary defined, if it does,ie, print a welcome message with the users name and passcode, else print \"Your user name or password is not correct\"<br>\n",
    "</div>"
   ]
  },
  {
   "cell_type": "code",
   "execution_count": 8,
   "metadata": {},
   "outputs": [
    {
     "name": "stdout",
     "output_type": "stream",
     "text": [
      "Welcome James (102)!\n"
     ]
    }
   ],
   "source": [
    "dict_of_names = { \"James\" : 102 , \"Fumi\" : 108 , \"Mary\" : 105 , \"Kunle\" : 105 , \"Ebi\" : 100}\n",
    "\n",
    "name = str(input(\"Please enter username: \"))\n",
    "code = int(input(\"Please enter a passcode: \"))\n",
    "\n",
    "result = dict_of_names.get(name)\n",
    "if result == None:\n",
    "    print(\"Your user name or password is not correct.\")\n",
    "else: \n",
    "    if result != code:\n",
    "        print(\"Your user name or password is not correct.\")\n",
    "    else:\n",
    "        print(f\"Welcome {name} ({code})!\")\n",
    "\n",
    "\n",
    "#if number in tuple_of_numbers:\n",
    "#    print(\"{} is in the tuple\".format(number))\n",
    "    \n",
    "#else:\n",
    "#    print(\"{} is not found in the tuple\".format(number))"
   ]
  },
  {
   "cell_type": "markdown",
   "metadata": {},
   "source": [
    "<div class=\"alert alert-warning\"></i><strong><h1>Indentation:</h1></strong>If you have observed, after all the if-else lines,the codes that follows are indented.These where not used to make it readable or neat like it would for most programming languages. Indentation in Python is used to indicate a block of code a statement belongs to.By default indentation is four character of empty spaces. Lets re-visit our first code to demonstrate this.\n",
    " </div>"
   ]
  },
  {
   "cell_type": "code",
   "execution_count": null,
   "metadata": {},
   "outputs": [],
   "source": [
    "items = (\"Apple\", \"Bread\", \"Phone\", \"Bag\", \"Pen\")\n",
    "\n",
    "if \"Apple\" in items:\n",
    "    print(\"There is an Apple in the tuple.\")\n",
    "else:\n",
    "    print(\"There is no Apple in the tuple.\")"
   ]
  },
  {
   "cell_type": "markdown",
   "metadata": {},
   "source": [
    "<div class=\"alert alert-success\"></i><strong>1.1 Nested if blocks</strong>."
   ]
  },
  {
   "cell_type": "code",
   "execution_count": null,
   "metadata": {},
   "outputs": [],
   "source": [
    "print(\"* \"*10 + \"Welcome to the Shipping cost Estimator app\" + \" *\"*10)\n",
    "city = input(\"What is your cargo destination: \")\n",
    "weight = int(input(\"What is the weight of your cargo: \"))\n",
    "\n",
    "if city == \"London\":\n",
    "    if weight <= 5:\n",
    "        print(\"The cost of your shipping is £2.50p\")\n",
    "    else:\n",
    "        print(\"The cost of your shipping is £5.30p\")\n",
    "else:\n",
    "    print(\"The cost of your shipping is £9.30\")"
   ]
  },
  {
   "cell_type": "markdown",
   "metadata": {},
   "source": [
    "<div class=\"alert alert-success\"></i><strong>2.0 if,elif and else</strong><br>\n",
    "The if-else control structure can be extended to check for more that two conditions using the elif and else statements, for instance,\n",
    "if logic A is true, do A action. Else, if logic B is true, do B action. Else, if none of A or B are true, do C action.\""
   ]
  },
  {
   "cell_type": "code",
   "execution_count": null,
   "metadata": {},
   "outputs": [],
   "source": [
    "age = int(input(\"Enter your age: \")) # prompt for text input\n",
    "if (age < 13):\n",
    "    print(\"A {} years old is a child\".format(age)) ## do something\n",
    "elif (age < 20):\n",
    "    print(\"A {} years old is a teenager\".format(age)) ## do something else\n",
    "else:\n",
    "    print(\"A {} years old is an adult\".format(age)) ## do something very different"
   ]
  },
  {
   "cell_type": "code",
   "execution_count": null,
   "metadata": {},
   "outputs": [],
   "source": [
    "number = int(input(\"Enter an integer: \")) # prompt for text input\n",
    "if number > 0:\n",
    "    print(\"The number you entered is Positive\") ## do something\n",
    "elif number < 0:\n",
    "    print(\"The number you typed is very nagative\") ## do something else\n",
    "else:\n",
    "    print(\"You must have entered a zero\") ## do something very different"
   ]
  },
  {
   "cell_type": "markdown",
   "metadata": {},
   "source": [
    "<div class=\"alert alert-warning\"><font color = 'red'><strong>Note:</strong></font><br>elif block can be used as many times as needed to check for validity of a condition. Let's now examine the code below:</di>"
   ]
  },
  {
   "cell_type": "code",
   "execution_count": null,
   "metadata": {},
   "outputs": [],
   "source": [
    "print(\"* \"*10 + \"Welcome to the Shipping time Estimator app\" + \" *\"*10)\n",
    "city = input(\"What is your cargo destination: \")\n",
    "\n",
    "if city == \"London\":\n",
    "    print(\"The estimated shipping time to {} is 2 working days\".format(city))\n",
    "elif city == \"Abuja\":\n",
    "    print(\"The estimated shipping time to {} is 7 working days\".format(city))\n",
    "elif city == \"Paris\":\n",
    "    print(\"The estimated shipping time to {} is 3 working days\".format(city))\n",
    "elif city == \"Port Harcourt\":\n",
    "    print(\"The estimated shipping time to {} is 8 working days\".format(city))\n",
    "else:\n",
    "    print(\"The estimated shipping time to {} is 10 working days\".format(city))"
   ]
  },
  {
   "cell_type": "markdown",
   "metadata": {},
   "source": [
    "<div class=\"alert alert-info\"><i class=\"icon-lightbulb\"></i><strong>Discussion:</strong><br>Let's have fun by building a simple calculator application.<br>\n",
    "</div>"
   ]
  },
  {
   "cell_type": "markdown",
   "metadata": {},
   "source": [
    "<div class=\"alert alert-success\"></i><strong>3.0 for loops</strong><br>\n",
    "for loops are commonly used for iterating over elements of an iterable.Objects that we can iterate over that we have covered so far in this lecture series are strings, lists, tuples, and even built-in iterables for dictionaries."
   ]
  },
  {
   "cell_type": "code",
   "execution_count": null,
   "metadata": {},
   "outputs": [],
   "source": [
    "# Here is the general format of a for loop in Python\n",
    "\n",
    "\"\"\"\n",
    "for item in object:\n",
    "    carry out an operation\n",
    "\"\"\""
   ]
  },
  {
   "cell_type": "code",
   "execution_count": 9,
   "metadata": {},
   "outputs": [
    {
     "name": "stdout",
     "output_type": "stream",
     "text": [
      "P\n",
      "e\n",
      "t\n",
      "e\n",
      "r\n",
      "s\n",
      "o\n",
      "n\n"
     ]
    }
   ],
   "source": [
    "# iterate over a string\n",
    "my_name = \"Peterson\"\n",
    "\n",
    "for letters in my_name:\n",
    "    print(letters)"
   ]
  },
  {
   "cell_type": "code",
   "execution_count": 10,
   "metadata": {},
   "outputs": [
    {
     "name": "stdout",
     "output_type": "stream",
     "text": [
      "David\n",
      "John\n",
      "Chika\n",
      "Tariowei\n",
      "Ebika\n",
      "Mary\n"
     ]
    }
   ],
   "source": [
    "# iterate over a list\n",
    "cft_students_list = [\"David\",\"John\",\"Chika\",\"Tariowei\",\"Ebika\",\"Mary\"]\n",
    "\n",
    "for name in cft_students_list:\n",
    "    print(name)"
   ]
  },
  {
   "cell_type": "code",
   "execution_count": 11,
   "metadata": {},
   "outputs": [
    {
     "name": "stdout",
     "output_type": "stream",
     "text": [
      "1\n",
      "2\n",
      "3\n",
      "4\n",
      "5\n",
      "6\n"
     ]
    }
   ],
   "source": [
    "# iterate over a list\n",
    "list_of_numbers = [1,2,3,4,5,6]\n",
    "\n",
    "for numbers in list_of_numbers:\n",
    "    print(numbers)"
   ]
  },
  {
   "cell_type": "code",
   "execution_count": 12,
   "metadata": {},
   "outputs": [
    {
     "name": "stdout",
     "output_type": "stream",
     "text": [
      "The sum of items in my list is: 73\n"
     ]
    }
   ],
   "source": [
    "# sum all the numbers in the list\n",
    "sum_list = 0 \n",
    "my_number_list = [2,4,6,19,30,12]\n",
    "\n",
    "for nums in my_number_list:\n",
    "    sum_list = sum_list + nums\n",
    "\n",
    "print(\"The sum of items in my list is: {}\".format(sum_list))"
   ]
  },
  {
   "cell_type": "code",
   "execution_count": 13,
   "metadata": {},
   "outputs": [
    {
     "name": "stdout",
     "output_type": "stream",
     "text": [
      "10\n",
      "15\n",
      "16\n"
     ]
    }
   ],
   "source": [
    "# iterate over a tuple\n",
    "position = (10,15,16)\n",
    "\n",
    "for x in position:\n",
    "    print(x)"
   ]
  },
  {
   "cell_type": "code",
   "execution_count": 17,
   "metadata": {},
   "outputs": [
    {
     "name": "stdout",
     "output_type": "stream",
     "text": [
      "James login code is 102\n",
      "Fumi login code is 108\n",
      "Mary login code is 105\n",
      "Kunle login code is 105\n",
      "Ebi login code is 100\n",
      "n\n"
     ]
    }
   ],
   "source": [
    "# iterate over a dictionary\n",
    "my_dictionary = {\"James\":102, \"Fumi\":108, \"Mary\":105, \"Kunle\":105, \"Ebi\":100}\n",
    "\n",
    "for name, code in my_dictionary.items():\n",
    "    print(\"{} login code is {}\".format(name, code))\n",
    "\n",
    "if (name , code) in my_dictionary:\n",
    "    print(\"yes\")\n",
    "else :\n",
    "    print (\"n\")"
   ]
  },
  {
   "cell_type": "markdown",
   "metadata": {},
   "source": [
    "<div class=\"alert alert-danger\"></i><i class=\"icon-attention-alt\"></i>**Try it out!**<br>Given the range(100), write a for loop to print all the even and odd numbers separately and also save them into two different lists called even_numbers and odd_numbers</div>"
   ]
  },
  {
   "cell_type": "code",
   "execution_count": null,
   "metadata": {},
   "outputs": [
    {
     "name": "stdout",
     "output_type": "stream",
     "text": [
      "[0, 2, 4, 6, 8, 10, 12, 14, 16, 18, 20, 22, 24, 26, 28, 30, 32, 34, 36, 38, 40, 42, 44, 46, 48, 50, 52, 54, 56, 58, 60, 62, 64, 66, 68, 70, 72, 74, 76, 78, 80, 82, 84, 86, 88, 90, 92, 94, 96, 98]\n",
      "[1, 3, 5, 7, 9, 11, 13, 15, 17, 19, 21, 23, 25, 27, 29, 31, 33, 35, 37, 39, 41, 43, 45, 47, 49, 51, 53, 55, 57, 59, 61, 63, 65, 67, 69, 71, 73, 75, 77, 79, 81, 83, 85, 87, 89, 91, 93, 95, 97, 99]\n"
     ]
    }
   ],
   "source": [
    "evens = []\n",
    "odds = []\n",
    "\n",
    "for k in range(100):\n",
    "    if k % 2 == 0:\n",
    "        evens.append(k)\n",
    "    else:\n",
    "        odds.append(k)\n",
    "\n",
    "print(evens)\n",
    "print(odds)\n"
   ]
  },
  {
   "cell_type": "markdown",
   "metadata": {},
   "source": [
    "<div class=\"alert alert-danger\"></i><i class=\"icon-attention-alt\"></i>**Try it out!**<br>Given the range(30), write a for loop to print the square root of all the numbers and save into a variable called sq_root</div>"
   ]
  },
  {
   "cell_type": "code",
   "execution_count": 25,
   "metadata": {},
   "outputs": [
    {
     "name": "stdout",
     "output_type": "stream",
     "text": [
      "0.0\n",
      "1.0\n",
      "1.4142135623730951\n",
      "1.7320508075688772\n",
      "2.0\n",
      "2.23606797749979\n",
      "2.449489742783178\n",
      "2.6457513110645907\n",
      "2.8284271247461903\n",
      "3.0\n",
      "3.1622776601683795\n",
      "3.3166247903554\n",
      "3.4641016151377544\n",
      "3.605551275463989\n",
      "3.7416573867739413\n",
      "3.872983346207417\n",
      "4.0\n",
      "4.123105625617661\n",
      "4.242640687119285\n",
      "4.358898943540674\n",
      "4.47213595499958\n",
      "4.58257569495584\n",
      "4.69041575982343\n",
      "4.795831523312719\n",
      "4.898979485566356\n",
      "5.0\n",
      "5.0990195135927845\n",
      "5.196152422706632\n",
      "5.291502622129181\n",
      "5.385164807134504\n",
      "[0.0, 1.0, 1.4142135623730951, 1.7320508075688772, 2.0, 2.23606797749979, 2.449489742783178, 2.6457513110645907, 2.8284271247461903, 3.0, 3.1622776601683795, 3.3166247903554, 3.4641016151377544, 3.605551275463989, 3.7416573867739413, 3.872983346207417, 4.0, 4.123105625617661, 4.242640687119285, 4.358898943540674, 4.47213595499958, 4.58257569495584, 4.69041575982343, 4.795831523312719, 4.898979485566356, 5.0, 5.0990195135927845, 5.196152422706632, 5.291502622129181, 5.385164807134504]\n"
     ]
    }
   ],
   "source": [
    "roots = []\n",
    "for x in range(30):\n",
    "    y = x ** 0.5\n",
    "    print(\"{}\".format(y))\n",
    "    roots.append(y)\n",
    "\n",
    "print(roots)"
   ]
  },
  {
   "cell_type": "markdown",
   "metadata": {},
   "source": [
    "<div class=\"alert alert-danger\"></i><i class=\"icon-attention-alt\"></i>**Try it out!**<br>Given the [\"David\",\"John\",\"Chika\",\"Tariowei\",\"Ebika\",\"Mary\",\"Daniel\",\"Mark\",\"Moses\"], write a for loop to print only names whose first letter starts with \"D\"</div>"
   ]
  },
  {
   "cell_type": "code",
   "execution_count": 26,
   "metadata": {},
   "outputs": [
    {
     "name": "stdout",
     "output_type": "stream",
     "text": [
      "David\n",
      "Daniel\n"
     ]
    }
   ],
   "source": [
    "names = [ \"David\", \"John\", \"Chika\", \"Tariowei\", \"Ebika\", \"Mary\", \"Daniel\", \"Mark\", \"Moses\"]\n",
    "\n",
    "for name in names:\n",
    "    if name[0] == \"D\":\n",
    "        print(name)\n",
    "    else:\n",
    "        continue"
   ]
  },
  {
   "cell_type": "markdown",
   "metadata": {},
   "source": [
    "<div class=\"alert alert-success\"></i><strong>4.0 zip()</strong><br>\n",
    "zip() combines multiple iterables (lists, tuples, etc.) element-wise into tuples and is used to pair related items from two or more lists."
   ]
  },
  {
   "cell_type": "code",
   "execution_count": null,
   "metadata": {},
   "outputs": [],
   "source": [
    "names = [\"Alice\", \"Bob\", \"Charlie\"]\n",
    "ages = [25, 30, 22]\n",
    "\n",
    "for name, age in zip(names, ages):\n",
    "    print(f\"{name} is {age} years old.\")"
   ]
  },
  {
   "cell_type": "markdown",
   "metadata": {},
   "source": [
    "<div class=\"alert alert-danger\"></i><i class=\"icon-attention-alt\"></i>**Try it out!**<br>In addtion to the lists above, create a new list object called location = [\"Paris\", \"Port Harcourt\", \"Lagos\"] and apply the zip function to all three lists. What is your output,<br><br>\n",
    "\n",
    "If your remove \"Lagos\" from the location list, and call the zip function, what output did you get?\n",
    "</div>"
   ]
  },
  {
   "cell_type": "code",
   "execution_count": 34,
   "metadata": {},
   "outputs": [
    {
     "name": "stdout",
     "output_type": "stream",
     "text": [
      "Alice is 25 years old and is located in Paris\n",
      "Bob is 30 years old and is located in Port Harcourt\n",
      "Charlie is 22 years old and is located in Lagos\n",
      "\n",
      "After removing Lagos:\n",
      "Alice is 25 years old and is located in Paris.\n",
      "Bob is 30 years old and is located in Port Harcourt.\n"
     ]
    }
   ],
   "source": [
    "names = [ \"Alice\", \"Bob\", \"Charlie\"]\n",
    "ages = [25, 30, 22]\n",
    "locations = [ \"Paris\", \"Port Harcourt\", \"Lagos\"]\n",
    "\n",
    "for name, age, location in zip(names, ages, locations):\n",
    "    print(f\"{name} is {age} years old and is located in {location}\")\n",
    "\n",
    "print(\"\\nAfter removing Lagos:\")\n",
    "\n",
    "locations.remove(\"Lagos\")\n",
    "for name, age, location in zip(names, ages, locations):\n",
    "    print(f\"{name} is {age} years old and is located in {location}.\")"
   ]
  },
  {
   "cell_type": "markdown",
   "metadata": {},
   "source": [
    "<div class=\"alert alert-success\"></i><strong>5.0 enumerate()</strong><br>\n",
    "enumerate() adds an index to an iterable and is widely used when there is a need for both the item and its position in a loop"
   ]
  },
  {
   "cell_type": "code",
   "execution_count": null,
   "metadata": {},
   "outputs": [],
   "source": [
    "fruits = [\"apple\", \"banana\", \"cherry\"]\n",
    "\n",
    "for index, fruit in enumerate(fruits):\n",
    "    print(f\"{index}: {fruit}\")"
   ]
  },
  {
   "cell_type": "code",
   "execution_count": null,
   "metadata": {},
   "outputs": [],
   "source": []
  },
  {
   "cell_type": "markdown",
   "metadata": {},
   "source": [
    "<div class=\"alert alert-success\"></i><strong>6.0 while loop</strong><br>\n",
    "while loop is used to execute some block of code continuously until a condition is met. A major concern when working with a while loop is to ensure that at some point the condition should become true, otherwise the while loop will go forever. If you find yourself in an endless loop, press <strong>Crtl-C</strong> to kill the process."
   ]
  },
  {
   "cell_type": "code",
   "execution_count": null,
   "metadata": {},
   "outputs": [],
   "source": [
    "# The general syntax of a while loop is given as:\n",
    "while (condition):\n",
    "    # Code executed here \n",
    "    # while condition is true"
   ]
  },
  {
   "cell_type": "code",
   "execution_count": null,
   "metadata": {},
   "outputs": [],
   "source": [
    "timer_counter = 10\n",
    "while(timer_counter > 0):\n",
    "    print(f\"The timer is now {timer_counter}\")\n",
    "    timer_counter = timer_counter - 1"
   ]
  },
  {
   "cell_type": "code",
   "execution_count": null,
   "metadata": {},
   "outputs": [],
   "source": [
    "numbers = [22, 34, 12, 32, 21]\n",
    "\n",
    "sum = 0\n",
    "i = len(numbers)\n",
    "\n",
    "while (i != 0):\n",
    "    \n",
    "    i -= 1\n",
    "    sum = sum + numbers[i]\n",
    "\n",
    "print(\"The sum of the numbers in the list is:\", sum)"
   ]
  },
  {
   "cell_type": "markdown",
   "metadata": {},
   "source": [
    "<div class=\"alert alert-success\"></i><strong>7.0 break</strong><br>\n",
    "break statement is used to terminate a loop if a condition is true or met."
   ]
  },
  {
   "cell_type": "code",
   "execution_count": null,
   "metadata": {},
   "outputs": [],
   "source": [
    "# This code generates random integers\n",
    "# and would only break if a generated interger is 7\n",
    "import random\n",
    "\n",
    "while(True):\n",
    "\n",
    "    my_value = random.randint(1, 30)\n",
    "    print(my_value, end=\" \")\n",
    "   \n",
    "    if (my_value ==  7):\n",
    "        break"
   ]
  },
  {
   "cell_type": "code",
   "execution_count": null,
   "metadata": {},
   "outputs": [],
   "source": [
    "my_list2 = range(7)\n",
    "for i in my_list2:\n",
    "    print(i)"
   ]
  },
  {
   "cell_type": "code",
   "execution_count": null,
   "metadata": {},
   "outputs": [],
   "source": [
    "my_list3 = range(7)\n",
    "for j in my_list3:\n",
    "    if(j == 3):\n",
    "        print(\"We have reached 3, which is my break condition\")\n",
    "        break\n",
    "    print(j)"
   ]
  },
  {
   "cell_type": "markdown",
   "metadata": {},
   "source": [
    "<div class=\"alert alert-info\"><i class=\"icon-lightbulb\"></i><strong>Discussion:</strong><br>Let's have fun by building a number guessing application together.<br>\n",
    "</div>"
   ]
  },
  {
   "cell_type": "markdown",
   "metadata": {},
   "source": [
    "<div class=\"alert alert-success\"></i><strong>8.0 continue</strong><br>\n",
    "The continue statement is used to skip the rest of a code inside a loop."
   ]
  },
  {
   "cell_type": "code",
   "execution_count": null,
   "metadata": {},
   "outputs": [],
   "source": [
    "my_list3 = range(7)\n",
    "for j in my_list3:\n",
    "    if(j == 3):\n",
    "        print(\"We have reached 3 and am asked to skip it\")\n",
    "        continue\n",
    "    print(j)"
   ]
  },
  {
   "cell_type": "markdown",
   "metadata": {},
   "source": [
    "# End"
   ]
  }
 ],
 "metadata": {
  "kernelspec": {
   "display_name": "Python 3",
   "language": "python",
   "name": "python3"
  },
  "language_info": {
   "codemirror_mode": {
    "name": "ipython",
    "version": 3
   },
   "file_extension": ".py",
   "mimetype": "text/x-python",
   "name": "python",
   "nbconvert_exporter": "python",
   "pygments_lexer": "ipython3",
   "version": "3.11.8"
  }
 },
 "nbformat": 4,
 "nbformat_minor": 4
}
