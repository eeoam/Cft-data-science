{
 "cells": [
  {
   "cell_type": "markdown",
   "id": "3889e87e",
   "metadata": {},
   "source": [
    "# List\n",
    "\n",
    "A list is a heterogeneous, mutable sequence, meaning the elements inside a list can hold different object types and can be changed. A list can be defined using square brackets '[]' or using the list type function.\n",
    "In this lecture, we'll learn about the following:\n",
    "1. Creating lists\n",
    "2. Slicing and Indexing\n",
    "3. Concatenation\n",
    "4. List methods"
   ]
  },
  {
   "cell_type": "markdown",
   "id": "a5505188",
   "metadata": {},
   "source": [
    "## 1. Creating a List"
   ]
  },
  {
   "cell_type": "code",
   "execution_count": 2,
   "id": "ed2f90af",
   "metadata": {},
   "outputs": [],
   "source": [
    "# A list can be created by assigning a variable to a pair of open-closed square brackets.\n",
    "empty_list = []"
   ]
  },
  {
   "cell_type": "code",
   "execution_count": 3,
   "id": "fec3b38f",
   "metadata": {},
   "outputs": [
    {
     "name": "stdout",
     "output_type": "stream",
     "text": [
      "[]\n"
     ]
    }
   ],
   "source": [
    "print(empty_list)"
   ]
  },
  {
   "cell_type": "code",
   "execution_count": 4,
   "id": "1818df32",
   "metadata": {},
   "outputs": [],
   "source": [
    "# Assign a list of 'integers' to a variable named my_integer_list\n",
    "my_integer_list = [1,2,3]"
   ]
  },
  {
   "cell_type": "code",
   "execution_count": 5,
   "id": "f62d0040",
   "metadata": {},
   "outputs": [
    {
     "data": {
      "text/plain": [
       "3"
      ]
     },
     "execution_count": 5,
     "metadata": {},
     "output_type": "execute_result"
    }
   ],
   "source": [
    "# To obtain the number of elements in a list, use the len() function\n",
    "len(my_integer_list)"
   ]
  },
  {
   "cell_type": "code",
   "execution_count": 6,
   "id": "c1021e43",
   "metadata": {},
   "outputs": [],
   "source": [
    "# Assign a list of 'strings' to a variable named my_string_list\n",
    "my_string_list = [\"Hello\", \"Hola!\", \"Bonjour\", \"Hallo\", \"how far\"]"
   ]
  },
  {
   "cell_type": "code",
   "execution_count": 7,
   "id": "76e31f85",
   "metadata": {},
   "outputs": [
    {
     "name": "stdout",
     "output_type": "stream",
     "text": [
      "[1, 2, 3, 'am a string', 7, 's', True]\n"
     ]
    }
   ],
   "source": [
    "# Assign a list ofboth integers and strings to the variable named my_mixed_list using the [] technique\n",
    "my_mixed_list = [1,2,3, \"am a string\", 7, \"s\", True]\n",
    "print(my_mixed_list)"
   ]
  },
  {
   "cell_type": "code",
   "execution_count": 8,
   "id": "31ffc527",
   "metadata": {},
   "outputs": [
    {
     "name": "stdout",
     "output_type": "stream",
     "text": [
      "[1, 2, 3, 4, 5, ['Hello', 'Hola!', 'CFT']]\n"
     ]
    }
   ],
   "source": [
    "# A list can be embedded in another list\n",
    "my_list_another_list = [1,2,3,4,5, [\"Hello\", \"Hola!\", \"CFT\"]]\n",
    "print(my_list_another_list)"
   ]
  },
  {
   "cell_type": "markdown",
   "id": "17d035c2",
   "metadata": {},
   "source": [
    "## Slicing and Indexing\n",
    "Slicing is the process of extracting a series of elements fron an object, while indexing is a technique to obtain an element. These two techniques are often used together in Python. **Note**: Indexing in Python starts from 0. \n",
    "The general form of slicing is given as:\n",
    "slice = seq[start: stop: step]\n",
    "\n",
    "This concept will be made clearer soon."
   ]
  },
  {
   "cell_type": "code",
   "execution_count": 9,
   "id": "687cc1fd",
   "metadata": {},
   "outputs": [],
   "source": [
    "# Let's define a variable holding a list object of fruits.\n",
    "list_of_fruits = [ \"Orange\", \"Mango\", \"Apple\", \"Grapes\", \"Watermelon\", \"Strawberries\"]"
   ]
  },
  {
   "cell_type": "code",
   "execution_count": 10,
   "id": "c35daf5e",
   "metadata": {},
   "outputs": [
    {
     "data": {
      "text/plain": [
       "'Orange'"
      ]
     },
     "execution_count": 10,
     "metadata": {},
     "output_type": "execute_result"
    }
   ],
   "source": [
    "# To extract the first element from the 'list_of_fruits' variable.abs\n",
    "list_of_fruits[0]"
   ]
  },
  {
   "cell_type": "code",
   "execution_count": 11,
   "id": "2b3e60fe",
   "metadata": {},
   "outputs": [
    {
     "data": {
      "text/plain": [
       "['Mango', 'Apple', 'Grapes', 'Watermelon', 'Strawberries']"
      ]
     },
     "execution_count": 11,
     "metadata": {},
     "output_type": "execute_result"
    }
   ],
   "source": [
    "# Grab item in idex 1 and every element after it\n",
    "list_of_fruits[1:]"
   ]
  },
  {
   "cell_type": "code",
   "execution_count": 12,
   "id": "d1dd38dc",
   "metadata": {},
   "outputs": [
    {
     "data": {
      "text/plain": [
       "['Orange', 'Mango', 'Apple', 'Grapes', 'Watermelon']"
      ]
     },
     "execution_count": 12,
     "metadata": {},
     "output_type": "execute_result"
    }
   ],
   "source": [
    "# Grab everything up to index 5 (but not including index 5).\n",
    "list_of_fruits[:5]"
   ]
  },
  {
   "cell_type": "markdown",
   "id": "690e5eae",
   "metadata": {},
   "source": [
    "# Concatenate\n",
    "To concatenate lists in python, use the '+' sign."
   ]
  },
  {
   "cell_type": "code",
   "execution_count": 13,
   "id": "fc64fa66",
   "metadata": {},
   "outputs": [
    {
     "data": {
      "text/plain": [
       "['5', '8', '9', '12']"
      ]
     },
     "execution_count": 13,
     "metadata": {},
     "output_type": "execute_result"
    }
   ],
   "source": [
    "shoe_size_list = [\"5\", \"8\", \"9\"]\n",
    "shoe_size_list +[\"12\"]"
   ]
  },
  {
   "cell_type": "markdown",
   "id": "8678a8ca",
   "metadata": {},
   "source": [
    "Note: this does not change the original list!"
   ]
  },
  {
   "cell_type": "code",
   "execution_count": 14,
   "id": "08f9ba4e",
   "metadata": {},
   "outputs": [
    {
     "name": "stdout",
     "output_type": "stream",
     "text": [
      "['Apple', 'Orange', 'Mango', 'Plums', 'Banana', 'Blueberries', 'Lemons']\n"
     ]
    }
   ],
   "source": [
    "fruit_list1 = [\"Apple\", \"Orange\", \"Mango\", \"Plums\"]\n",
    "fruit_list2 = [\"Banana\", \"Blueberries\", \"Lemons\"]\n",
    "\n",
    "complete_fruit_list = fruit_list1 + fruit_list2\n",
    "\n",
    "print(complete_fruit_list)"
   ]
  },
  {
   "cell_type": "markdown",
   "id": "bceaf36f",
   "metadata": {},
   "source": [
    "We can also use the * for a duplication method similar to what we had seen in strings."
   ]
  },
  {
   "cell_type": "code",
   "execution_count": 15,
   "id": "d0c5851e",
   "metadata": {},
   "outputs": [
    {
     "data": {
      "text/plain": [
       "['5', '8', '9', '5', '8', '9']"
      ]
     },
     "execution_count": 15,
     "metadata": {},
     "output_type": "execute_result"
    }
   ],
   "source": [
    "shoe_size_list = [\"5\", \"8\", \"9\"]\n",
    "shoe_size_list * 2"
   ]
  },
  {
   "cell_type": "markdown",
   "id": "f20faafa",
   "metadata": {},
   "source": [
    "Lists are mutable. Mutable in this context mans that an object can be changed after it is created, without creating a new object."
   ]
  },
  {
   "cell_type": "code",
   "execution_count": 16,
   "id": "f08e73bc",
   "metadata": {},
   "outputs": [
    {
     "name": "stdout",
     "output_type": "stream",
     "text": [
      "['Kiwi', 'Orange', 'Mango', 'Plums', 'Banana', 'Blueberries', 'Lemons']\n"
     ]
    }
   ],
   "source": [
    "# Add Kiwi to the first spot (zero index) in the 'complete_fruit_list' variable.\n",
    "complete_fruit_list[0] = \"Kiwi\"\n",
    "print(complete_fruit_list)"
   ]
  },
  {
   "cell_type": "markdown",
   "id": "73d607e8",
   "metadata": {},
   "source": [
    "# 4. List methods"
   ]
  },
  {
   "cell_type": "code",
   "execution_count": 17,
   "id": "0816001a",
   "metadata": {},
   "outputs": [
    {
     "name": "stdout",
     "output_type": "stream",
     "text": [
      "['__add__', '__class__', '__class_getitem__', '__contains__', '__delattr__', '__delitem__', '__dir__', '__doc__', '__eq__', '__format__', '__ge__', '__getattribute__', '__getitem__', '__getstate__', '__gt__', '__hash__', '__iadd__', '__imul__', '__init__', '__init_subclass__', '__iter__', '__le__', '__len__', '__lt__', '__mul__', '__ne__', '__new__', '__reduce__', '__reduce_ex__', '__repr__', '__reversed__', '__rmul__', '__setattr__', '__setitem__', '__sizeof__', '__str__', '__subclasshook__', 'append', 'clear', 'copy', 'count', 'extend', 'index', 'insert', 'pop', 'remove', 'reverse', 'sort']\n"
     ]
    }
   ],
   "source": [
    "print(dir(list))"
   ]
  },
  {
   "cell_type": "code",
   "execution_count": 19,
   "id": "bd33b574",
   "metadata": {},
   "outputs": [
    {
     "name": "stdout",
     "output_type": "stream",
     "text": [
      "['Today', 'is', 'good', 'appending-Yes!']\n"
     ]
    }
   ],
   "source": [
    "## The append method\n",
    "\n",
    "# To add or append an element to the end of a list, use the append method\n",
    "\n",
    "list1 = [\"Today\", \"is\", \"good\"]\n",
    "list1.append(\"appending-Yes!\")\n",
    "\n",
    "print(list1)"
   ]
  },
  {
   "cell_type": "code",
   "execution_count": 21,
   "id": "59ecbc7f",
   "metadata": {},
   "outputs": [
    {
     "name": "stdout",
     "output_type": "stream",
     "text": [
      "['Today', \"it's Saturday\", 'is', 'good', 'appending-Yes!']\n"
     ]
    }
   ],
   "source": [
    "# To insert an element at a specific location of a list, use the insert method\n",
    "list1.insert(1, \"it's Saturday\")\n",
    "print(list1)"
   ]
  },
  {
   "cell_type": "code",
   "execution_count": 22,
   "id": "ee9ece5b",
   "metadata": {},
   "outputs": [
    {
     "data": {
      "text/plain": [
       "'food'"
      ]
     },
     "execution_count": 22,
     "metadata": {},
     "output_type": "execute_result"
    }
   ],
   "source": [
    "# Pop off the 0-indexes item\n",
    "list2 = [1, 20, 30, \"good\", \"food\"]\n",
    "\n",
    "# If you don't provide in index, it removes and returns the last element.\n",
    "list2.pop()"
   ]
  },
  {
   "cell_type": "code",
   "execution_count": 23,
   "id": "a543824b",
   "metadata": {},
   "outputs": [
    {
     "data": {
      "text/plain": [
       "'good'"
      ]
     },
     "execution_count": 23,
     "metadata": {},
     "output_type": "execute_result"
    }
   ],
   "source": [
    "list2 = [1, 20, 30, \"good\", \"food\"]\n",
    "list2.pop(3)"
   ]
  },
  {
   "cell_type": "markdown",
   "id": "f5d8832f",
   "metadata": {},
   "source": [
    "**Try it  out**\n",
    "What does remove do?\n",
    "Try removing the value in index 1 of the list below.\n",
    "\n",
    "list2 = [ \"Engineer\", \"Teacher\", \"Nurse\", \"Doctor\", \"Data Scientist\"]"
   ]
  },
  {
   "cell_type": "code",
   "execution_count": 25,
   "id": "6b1c044b",
   "metadata": {},
   "outputs": [
    {
     "name": "stdout",
     "output_type": "stream",
     "text": [
      "['Engineer', 'Nurse', 'Doctor', 'Data Scientist']\n"
     ]
    }
   ],
   "source": [
    "list2 = [ \"Engineer\", \"Teacher\", \"Nurse\", \"Doctor\", \"Data Scientist\"]\n",
    "list2.remove(\"Teacher\")\n",
    "print(list2)"
   ]
  },
  {
   "cell_type": "code",
   "execution_count": 26,
   "id": "8d7ad0f1",
   "metadata": {},
   "outputs": [
    {
     "name": "stdout",
     "output_type": "stream",
     "text": [
      "['day', 'good', 'a', 'is', 'This']\n"
     ]
    }
   ],
   "source": [
    "# Care must be taken when using the reverse method as the results are in-place,\n",
    "# meaning it does change the original list\n",
    "k = [ \"This\", \"is\", \"a\", \"good\", \"day\"]\n",
    "k.reverse()\n",
    "print(k)"
   ]
  },
  {
   "cell_type": "code",
   "execution_count": 27,
   "id": "f464058b",
   "metadata": {},
   "outputs": [
    {
     "name": "stdout",
     "output_type": "stream",
     "text": [
      "[10, 12, 46, 100, 200, 2001]\n"
     ]
    }
   ],
   "source": [
    "# Again, care must be taken on where to apply sort as its operation is also in-place.\n",
    "# The default order is ascending\n",
    "num = [100, 200, 46, 12, 10, 2001]\n",
    "num.sort()\n",
    "print(num)"
   ]
  },
  {
   "cell_type": "code",
   "execution_count": 28,
   "id": "d50d9125",
   "metadata": {},
   "outputs": [
    {
     "name": "stdout",
     "output_type": "stream",
     "text": [
      "[2001, 200, 100, 46, 12, 10]\n"
     ]
    }
   ],
   "source": [
    "# To get a descending output, pass the parameter reverse=True to the sort method\n",
    "num = [100, 200, 46, 12, 10, 2001]\n",
    "num.sort(reverse=True)\n",
    "print(num)"
   ]
  },
  {
   "cell_type": "code",
   "execution_count": 29,
   "id": "33abbcd9",
   "metadata": {},
   "outputs": [
    {
     "name": "stdout",
     "output_type": "stream",
     "text": [
      "This prints the list in descending order\n",
      "[46, 27, 23, 1]\n",
      "\n",
      "This prints the list in ascending order\n",
      "[1, 23, 27, 46]\n",
      "\n",
      "Original list\n",
      "[27, 1, 46, 23]\n"
     ]
    }
   ],
   "source": [
    "# If all you had wanted was to sort a list without affecting the original list, use the sorted method. \n",
    "# To demonstrate this, create a list as follows:\n",
    "num_list = [27, 1, 46, 23]\n",
    "\n",
    "print(\"This prints the list in descending order\\n{}\\n\".format(sorted(num_list, reverse=True)))\n",
    "\n",
    "print(\"This prints the list in ascending order\\n{}\\n\". format(sorted(num_list)))\n",
    "\n",
    "# We see that the original list was not affected by the sorted method\n",
    "print(\"Original list\\n{}\".format(num_list))"
   ]
  }
 ],
 "metadata": {
  "kernelspec": {
   "display_name": "Python 3",
   "language": "python",
   "name": "python3"
  },
  "language_info": {
   "codemirror_mode": {
    "name": "ipython",
    "version": 3
   },
   "file_extension": ".py",
   "mimetype": "text/x-python",
   "name": "python",
   "nbconvert_exporter": "python",
   "pygments_lexer": "ipython3",
   "version": "3.11.8"
  }
 },
 "nbformat": 4,
 "nbformat_minor": 5
}
