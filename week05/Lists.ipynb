{
 "cells": [
  {
   "cell_type": "markdown",
   "id": "3889e87e",
   "metadata": {},
   "source": [
    "# List\n",
    "\n",
    "A list is a heterogeneous, mutable sequence, meaning the elements inside a list can hold different object types and can be changed. A list can be defined using square brackets '[]' or using the list type function.\n",
    "In this lecture, we'll learn about the following:\n",
    "1. Creating lists\n",
    "2. Slicing and Indexing\n",
    "3. Concatenation\n",
    "4. List methods"
   ]
  },
  {
   "cell_type": "markdown",
   "id": "a5505188",
   "metadata": {},
   "source": [
    "## 1. Creating a List"
   ]
  },
  {
   "cell_type": "code",
   "execution_count": 2,
   "id": "ed2f90af",
   "metadata": {},
   "outputs": [],
   "source": [
    "# A list can be created by assigning a variable to a pair of open-closed square brackets.\n",
    "empty_list = []"
   ]
  },
  {
   "cell_type": "code",
   "execution_count": 3,
   "id": "fec3b38f",
   "metadata": {},
   "outputs": [
    {
     "name": "stdout",
     "output_type": "stream",
     "text": [
      "[]\n"
     ]
    }
   ],
   "source": [
    "print(empty_list)"
   ]
  },
  {
   "cell_type": "code",
   "execution_count": 4,
   "id": "1818df32",
   "metadata": {},
   "outputs": [],
   "source": [
    "# Assign a list of 'integers' to a variable named my_integer_list\n",
    "my_integer_list = [1,2,3]"
   ]
  },
  {
   "cell_type": "code",
   "execution_count": 5,
   "id": "f62d0040",
   "metadata": {},
   "outputs": [
    {
     "data": {
      "text/plain": [
       "3"
      ]
     },
     "execution_count": 5,
     "metadata": {},
     "output_type": "execute_result"
    }
   ],
   "source": [
    "# To obtain the number of elements in a list, use the len() function\n",
    "len(my_integer_list)"
   ]
  },
  {
   "cell_type": "code",
   "execution_count": 6,
   "id": "c1021e43",
   "metadata": {},
   "outputs": [],
   "source": [
    "# Assign a list of 'strings' to a variable named my_string_list\n",
    "my_string_list = [\"Hello\", \"Hola!\", \"Bonjour\", \"Hallo\", \"how far\"]"
   ]
  },
  {
   "cell_type": "code",
   "execution_count": 7,
   "id": "76e31f85",
   "metadata": {},
   "outputs": [
    {
     "name": "stdout",
     "output_type": "stream",
     "text": [
      "[1, 2, 3, 'am a string', 7, 's', True]\n"
     ]
    }
   ],
   "source": [
    "# Assign a list ofboth integers and strings to the variable named my_mixed_list using the [] technique\n",
    "my_mixed_list = [1,2,3, \"am a string\", 7, \"s\", True]\n",
    "print(my_mixed_list)"
   ]
  },
  {
   "cell_type": "code",
   "execution_count": 8,
   "id": "31ffc527",
   "metadata": {},
   "outputs": [
    {
     "name": "stdout",
     "output_type": "stream",
     "text": [
      "[1, 2, 3, 4, 5, ['Hello', 'Hola!', 'CFT']]\n"
     ]
    }
   ],
   "source": [
    "# A list can be embedded in another list\n",
    "my_list_another_list = [1,2,3,4,5, [\"Hello\", \"Hola!\", \"CFT\"]]\n",
    "print(my_list_another_list)"
   ]
  },
  {
   "cell_type": "markdown",
   "id": "17d035c2",
   "metadata": {},
   "source": [
    "## Slicing and Indexing\n"
   ]
  }
 ],
 "metadata": {
  "kernelspec": {
   "display_name": "Python 3",
   "language": "python",
   "name": "python3"
  },
  "language_info": {
   "codemirror_mode": {
    "name": "ipython",
    "version": 3
   },
   "file_extension": ".py",
   "mimetype": "text/x-python",
   "name": "python",
   "nbconvert_exporter": "python",
   "pygments_lexer": "ipython3",
   "version": "3.11.8"
  }
 },
 "nbformat": 4,
 "nbformat_minor": 5
}
