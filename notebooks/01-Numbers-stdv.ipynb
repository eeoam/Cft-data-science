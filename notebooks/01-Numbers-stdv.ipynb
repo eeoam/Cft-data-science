{
 "cells": [
  {
   "cell_type": "markdown",
   "id": "8d47b38c-022e-4d71-a083-eba2295b132d",
   "metadata": {},
   "source": [
    "<font color='green'><div class=\"alert alert-success\"><strong><H1>Numbers</H1></strong><br>\n",
    "We'll learn about the following topics:<br>\n",
    "    <strong>1.) Types of Numbers in Python<br>\n",
    "    <strong>2.) Basic arithmetic <br>\n",
    "    <strong>3.) Differences between classic division and floor division<br>\n",
    "    <strong>4.) Variable assignments<br>\n",
    "    <strong>5.) Dynamic typing and Type Casting\n",
    "</div></font>"
   ]
  },
  {
   "cell_type": "markdown",
   "id": "6e1ceed3-bee3-495f-a65f-8f6b4d289ac6",
   "metadata": {},
   "source": [
    "<font color='black'><div class=\"alert alert-info\"><strong>1. Types of Numbers in Python</strong><br>"
   ]
  },
  {
   "cell_type": "markdown",
   "id": "a9dd45e2-bb78-4bce-bd1d-ec34f042103f",
   "metadata": {},
   "source": [
    "**There are three main types of numbers in Python**<br>\n",
    "- <font color='red'>**Integers (int):**</font> These are whole numbers without a decimal point.\n",
    "- <font color='red'>**Float-point (float):**</font> These are numbers with a decimal point.\n",
    "- <font color='red'>**Complex numbers (complex):**</font> Numbers with a real an imaginary part."
   ]
  },
  {
   "cell_type": "markdown",
   "id": "d7601b2e-ad98-4f20-bcfa-8c6416407c82",
   "metadata": {},
   "source": [
    "<font color='black'><div class=\"alert alert-info\"><strong>2. Basic arithmetic</strong><br>"
   ]
  },
  {
   "cell_type": "code",
   "execution_count": 5,
   "id": "aaec719a-139e-4aaf-bbf9-342a93b61e37",
   "metadata": {},
   "outputs": [
    {
     "data": {
      "text/plain": [
       "13"
      ]
     },
     "execution_count": 5,
     "metadata": {},
     "output_type": "execute_result"
    }
   ],
   "source": [
    "# Addition\n",
    "2 + 11 I"
   ]
  },
  {
   "cell_type": "code",
   "execution_count": 6,
   "id": "c8e85622-728f-48c2-9660-d9885f75d459",
   "metadata": {},
   "outputs": [
    {
     "data": {
      "text/plain": [
       "-6"
      ]
     },
     "execution_count": 6,
     "metadata": {},
     "output_type": "execute_result"
    }
   ],
   "source": [
    "# Subtraction\n",
    "2 - 8"
   ]
  },
  {
   "cell_type": "code",
   "execution_count": 7,
   "id": "4aefed57-51f0-4f5e-97cb-484a5edfcc7a",
   "metadata": {},
   "outputs": [
    {
     "data": {
      "text/plain": [
       "15"
      ]
     },
     "execution_count": 7,
     "metadata": {},
     "output_type": "execute_result"
    }
   ],
   "source": [
    "# Multiplication/ I.\n",
    "5 * 3"
   ]
  },
  {
   "cell_type": "code",
   "execution_count": 8,
   "id": "5535cb2e-4e58-4911-8a2b-75b836f4166f",
   "metadata": {},
   "outputs": [
    {
     "data": {
      "text/plain": [
       "1.5"
      ]
     },
     "execution_count": 8,
     "metadata": {},
     "output_type": "execute_result"
    }
   ],
   "source": [
    "# Division \n",
    "3 / 2 I"
   ]
  },
  {
   "cell_type": "code",
   "execution_count": 13,
   "id": "881dfcf7-9b4c-40f5-b931-94f21b9da692",
   "metadata": {},
   "outputs": [
    {
     "data": {
      "text/plain": [
       "23"
      ]
     },
     "execution_count": 13,
     "metadata": {},
     "output_type": "execute_result"
    }
   ],
   "source": [
    "# Floor DivisionI \n",
    "95 // 4"
   ]
  },
  {
   "cell_type": "markdown",
   "id": "10632ac7-9575-4362-ad75-dce6ed163178",
   "metadata": {},
   "source": [
    "The reason for this is because we are using 'floor' division. The // operator (two forward slashes) truncates the decimal without rounding, and returns an integer result.<br><br>So What if we just want remainder after a division?"
   ]
  },
  {
   "cell_type": "code",
   "execution_count": 15,
   "id": "9163861a-7c5b-4605-873b-e1095c1a23a3",
   "metadata": {},
   "outputs": [
    {
     "data": {
      "text/plain": [
       "23.75"
      ]
     },
     "execution_count": 15,
     "metadata": {},
     "output_type": "execute_result"
    }
   ],
   "source": [
    "95/4"
   ]
  },
  {
   "cell_type": "code",
   "execution_count": 16,
   "id": "1a8f6b3a-f733-4eb6-bf13-5ca50012f54e",
   "metadata": {},
   "outputs": [
    {
     "data": {
      "text/plain": [
       "23"
      ]
     },
     "execution_count": 16,
     "metadata": {},
     "output_type": "execute_result"
    }
   ],
   "source": [
    "95//4"
   ]
  },
  {
   "cell_type": "code",
   "execution_count": 17,
   "id": "3deace8c-7a06-44af-8993-0e738f56570d",
   "metadata": {},
   "outputs": [
    {
     "data": {
      "text/plain": [
       "0"
      ]
     },
     "execution_count": 17,
     "metadata": {},
     "output_type": "execute_result"
    }
   ],
   "source": [
    "16 % 4"
   ]
  },
  {
   "cell_type": "markdown",
   "id": "77cec117-9c3f-4112-8f7a-a9cffb09c98c",
   "metadata": {},
   "source": [
    "4 goes into 7 once, with a remainder of 3. The % operator returns the remainder afetr division."
   ]
  },
  {
   "cell_type": "code",
   "execution_count": 19,
   "id": "86da2272-b619-420d-9c84-d9255d7b9d79",
   "metadata": {},
   "outputs": [
    {
     "data": {
      "text/plain": [
       "25"
      ]
     },
     "execution_count": 19,
     "metadata": {},
     "output_type": "execute_result"
    }
   ],
   "source": [
    "# Powers\n",
    "5**2"
   ]
  },
  {
   "cell_type": "code",
   "execution_count": 20,
   "id": "9829f774-e7c4-4d2b-8a06-3999ffa7a9b8",
   "metadata": {},
   "outputs": [
    {
     "data": {
      "text/plain": [
       "3.0"
      ]
     },
     "execution_count": 20,
     "metadata": {},
     "output_type": "execute_result"
    }
   ],
   "source": [
    "# roots\n",
    "9**0.5"
   ]
  },
  {
   "cell_type": "code",
   "execution_count": null,
   "id": "f2c9a3be-7ae2-40b5-a37d-d5e5d5052857",
   "metadata": {},
   "outputs": [],
   "source": [
    "# Order of operations followin PyI thon"
   ]
  },
  {
   "cell_type": "code",
   "execution_count": null,
   "id": "e2478897-3c94-47df-bc8b-5cb3be817e94",
   "metadata": {},
   "outputs": [],
   "source": [
    "2 + 4 * 3 + (4 - 1)"
   ]
  },
  {
   "cell_type": "markdown",
   "id": "e0f1bd06-82e2-4ab8-bb79-20f71d93a77d",
   "metadata": {},
   "source": [
    "<font color='black'><div class=\"alert alert-info\"><strong>3. Differences between classic division and floor division</strong><br>"
   ]
  },
  {
   "cell_type": "markdown",
   "id": "49faf384-ca36-4c80-a12d-ca1b5f07762b",
   "metadata": {},
   "source": [
    "<strong><font color='green'>classic division always returns a float output while floor division returns the whole number part (removes the decimal part)"
   ]
  },
  {
   "cell_type": "markdown",
   "id": "8620af9d-685c-4d2c-9016-09133c02fbdf",
   "metadata": {},
   "source": [
    "<font color='black'><div class=\"alert alert-info\"><strong>4. Variable assignments</strong><br>"
   ]
  },
  {
   "cell_type": "code",
   "execution_count": null,
   "id": "b1c3e1e3-9071-4004-a4e3-2bfb994a1f05",
   "metadata": {},
   "outputs": [],
   "source": [
    "# Let's create a variable called 'a' and assign it the number 5 (object). Each object has a type, a value and an ID\n",
    "a = 5"
   ]
  },
  {
   "cell_type": "code",
   "execution_count": null,
   "id": "1139d476-435e-494a-b92b-508a1cc8332a",
   "metadata": {},
   "outputs": [],
   "source": [
    "type(a)"
   ]
  },
  {
   "cell_type": "code",
   "execution_count": null,
   "id": "2df3adce-36b1-42d9-9c31-acd0c0042510",
   "metadata": {},
   "outputs": [],
   "source": [
    "id(a)"
   ]
  },
  {
   "cell_type": "code",
   "execution_count": null,
   "id": "351b6d7b-e833-4dec-9af2-859dfae3a5ee",
   "metadata": {},
   "outputs": [],
   "source": [
    "# Multiple names can point to the same object\n",
    "b = a"
   ]
  },
  {
   "cell_type": "code",
   "execution_count": null,
   "id": "35108bf7-d9ab-4851-9091-9e5e899ff747",
   "metadata": {},
   "outputs": [],
   "source": [
    "id(b)"
   ]
  },
  {
   "cell_type": "code",
   "execution_count": null,
   "id": "a8aca4ec-ce16-4c00-8aea-67035a618d80",
   "metadata": {},
   "outputs": [],
   "source": [
    "# Now if I call a in my Python script, it will treat it as the number 5 "
   ]
  },
  {
   "cell_type": "code",
   "execution_count": null,
   "id": "dbbe2feb-ee6a-4fbc-ac44-b7cdba6839bd",
   "metadata": {},
   "outputs": [],
   "source": [
    "# adding the objects \n",
    "a + a"
   ]
  },
  {
   "cell_type": "markdown",
   "id": "d96ea80f-1868-4a97-9aa3-ce4f6292cbf0",
   "metadata": {},
   "source": [
    "What happend on reassignment?. Will Python let us write it over?"
   ]
  },
  {
   "cell_type": "code",
   "execution_count": null,
   "id": "ec99c782-f23e-4aac-8e95-1a619a33f068",
   "metadata": {},
   "outputs": [],
   "source": [
    "a = 10"
   ]
  },
  {
   "cell_type": "markdown",
   "id": "35d74b26-412c-488c-b584-292e877bc95a",
   "metadata": {},
   "source": [
    "**The names used when creating variables need to follow a few rules**<br>\n",
    "1. Names can not start with numbers<br>\n",
    "2. There can be no spaces in the name, use _ instead<br>\n",
    "3. Can us use any symbols: ''',<>/?|()!@#$%^&*~-+<br>\n",
    "4. It's considered best practice (PEP8) that names are lowercase\n",
    "5. Avoid using the character 'l' (lowercase letter el), 'O'(uppercase letter oh), or 'I'(uppercase letter eye)"
   ]
  },
  {
   "cell_type": "code",
   "execution_count": null,
   "id": "9b5a794a-0bf7-4cc9-8314-0cc238f12042",
   "metadata": {},
   "outputs": [],
   "source": [
    "# Use object names to keep better track of what's going on in your code\n",
    "beans_price = 15\n",
    "discount = 0.2\n",
    "\n",
    "savings = beans_price * discount\n",
    "savings"
   ]
  },
  {
   "cell_type": "markdown",
   "id": "3aa77493-df23-494e-9d66-f49a4342d546",
   "metadata": {},
   "source": [
    "<font color='black'><div class=\"alert alert-info\"><strong>5. Dynamic typing and Type Casting</strong><br>"
   ]
  },
  {
   "cell_type": "markdown",
   "id": "e11fa939-7c16-4da4-a2ea-296b6e2dafc7",
   "metadata": {},
   "source": [
    "Python is a dynamically typed programming language, meaning\n",
    "- You don't declear variable types before using\n",
    "- Types can change automatically"
   ]
  },
  {
   "cell_type": "code",
   "execution_count": null,
   "id": "91e81579-562c-4e5b-b777-45ccefa24b90",
   "metadata": {},
   "outputs": [],
   "source": [
    "name = 'Seiya'"
   ]
  },
  {
   "cell_type": "code",
   "execution_count": null,
   "id": "28a16ace-2fc5-4847-b9b0-ee9f3744468c",
   "metadata": {},
   "outputs": [],
   "source": [
    "name = \"Mary\""
   ]
  },
  {
   "cell_type": "markdown",
   "id": "d12e744e-dd52-4ef2-aab5-aebf18ded50e",
   "metadata": {},
   "source": [
    "<font color='green'><strong>Pros of Dynamic typing</strong><br>\n",
    "- very easy to work with<br>\n",
    "- faster development time<br>\n",
    "</div></font>"
   ]
  },
  {
   "cell_type": "markdown",
   "id": "0cb6685e-65c4-4455-aeb2-a61297a6706d",
   "metadata": {},
   "source": [
    "<font color='red'><strong>Cons of Dynamic typing</strong><br>\n",
    "- may result in unexpected bugs\n",
    "- you need to be aware of the type()"
   ]
  },
  {
   "cell_type": "code",
   "execution_count": null,
   "id": "2c6cba3b-711a-4284-9d7e-c4b22e5a29be",
   "metadata": {},
   "outputs": [],
   "source": [
    "# Casting is the process of converting from one data type to another "
   ]
  },
  {
   "cell_type": "code",
   "execution_count": null,
   "id": "f827c962-b7af-4061-a6bd-0367cc94f7f4",
   "metadata": {},
   "outputs": [],
   "source": []
  }
 ],
 "metadata": {
  "kernelspec": {
   "display_name": "Python 3 (ipykernel)",
   "language": "python",
   "name": "python3"
  },
  "language_info": {
   "codemirror_mode": {
    "name": "ipython",
    "version": 3
   },
   "file_extension": ".py",
   "mimetype": "text/x-python",
   "name": "python",
   "nbconvert_exporter": "python",
   "pygments_lexer": "ipython3",
   "version": "3.11.9"
  }
 },
 "nbformat": 4,
 "nbformat_minor": 5
}
