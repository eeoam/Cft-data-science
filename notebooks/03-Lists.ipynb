{
 "cells": [
  {
   "cell_type": "markdown",
   "id": "d9b6ab02-dc95-4878-b9fc-3304acc62bf4",
   "metadata": {},
   "source": [
    "<font color='green'><div class='alert alert-success'><strong><H2>List</H2></strong><br>\n",
    "A list is a heterogeneous, mutable sequence, meaning the elements inside a list can hold different object types and can be changed. A list can be defined using square brackets '[ ]' or using the list type function.<br>\n",
    "In this lecture, we'll learn about the following:<br>\n",
    "<strong>1.) Creating List<br>\n",
    "<strong>2.) Slicing and Indexing<br>\n",
    "<strong>3.) concatenate<br>\n",
    "<strong>4.) List methods<br>"
   ]
  },
  {
   "cell_type": "markdown",
   "id": "0548bd04-46c9-43b8-af1c-dd2d916852b5",
   "metadata": {},
   "source": [
    "<font color='black'><div class=\"alert alert-info\"><strong>1. Creating a List</strong><br>"
   ]
  },
  {
   "cell_type": "code",
   "execution_count": null,
   "id": "3b68ea04-2c5a-4200-a927-0fd8c0c5592f",
   "metadata": {},
   "outputs": [],
   "source": [
    "# A can be created by assigning a variable to a pair of open-closed square parentheses\n",
    "empty_list = []"
   ]
  },
  {
   "cell_type": "code",
   "execution_count": null,
   "id": "08c5847c-f0c4-4ffd-ae4c-b1caa4d31d3b",
   "metadata": {},
   "outputs": [],
   "source": [
    "print(empty_list)"
   ]
  },
  {
   "cell_type": "code",
   "execution_count": null,
   "id": "317b42ca-a73f-4ab7-ab39-aab35d0d3503",
   "metadata": {},
   "outputs": [],
   "source": [
    "# Assign a list of 'integers' to a variable named my_integer_list\n",
    "my_integer_list = [1, 2, 3]"
   ]
  },
  {
   "cell_type": "code",
   "execution_count": null,
   "id": "0ca5a8a7-3f84-4beb-8f69-5519855dbe44",
   "metadata": {},
   "outputs": [],
   "source": [
    "# To obtain the number of elements in a list, use the len() function\n",
    "len(my_integer_list)"
   ]
  },
  {
   "cell_type": "code",
   "execution_count": null,
   "id": "b75accbe-1a44-4fb8-858e-18ab2d7f9e6a",
   "metadata": {},
   "outputs": [],
   "source": [
    "# Assign a list of 'strings' to a variable named my_string_list\n",
    "my_string_list = [\"Hello\", \"Hola!\", \"Bonjour\", \"Hallo\", \"how far\"]"
   ]
  },
  {
   "cell_type": "code",
   "execution_count": null,
   "id": "4f66133a-d9e2-4ba1-a0d9-82d4e5226920",
   "metadata": {},
   "outputs": [],
   "source": [
    "# Assign a list of both integers and strings to the variable named my_first_list using the [] technique\n",
    "my_mixed_list = [1, 2, 3, \"am a string\", 7, \"s\", True]\n",
    "print(my_first_list)"
   ]
  },
  {
   "cell_type": "code",
   "execution_count": null,
   "id": "5ec5031b-179b-42a7-971f-1eb1056680d0",
   "metadata": {},
   "outputs": [],
   "source": [
    "# A list can be embedded in another list\n",
    "my_list_another_list = [1, 2, 3, 4, 5,[\"Hello\", \"Hola!\", \"CFT\"]]\n",
    "print(my_list_another_list)"
   ]
  },
  {
   "cell_type": "markdown",
   "id": "2043cb10-ab47-4ac9-8daf-8245365c82fc",
   "metadata": {},
   "source": [
    "<font color='black'><div class=\"alert alert-info\"><strong>2. Slicing and Indexing</strong><br>\n",
    "Slicing is a process of extracting a series of elements from a objects, while indexing is a technique to obtain an element. These two techniques are often used together in Python.<br>\n",
    "<strong>Note</strong>:Indexing in Python starts from 0\n",
    "The general form of slicing a given as:<br>\n",
    "slice = seq[start: stop: step]<br><br>\n",
    "This concept will be made clearer soon."
   ]
  },
  {
   "cell_type": "code",
   "execution_count": null,
   "id": "3eb43494-afe7-40f7-ab81-c02496e540c7",
   "metadata": {},
   "outputs": [],
   "source": [
    "# Let's define a variable holding a list object of fruits\n",
    "list_of_fruits = [\"Orange\", \"Mango\", \"Apple\", \"Grapes\", \"Watermelon\", \"Strawberries\"]"
   ]
  },
  {
   "cell_type": "code",
   "execution_count": null,
   "id": "6fd47696-03c9-4c48-8cad-9fc821b97f33",
   "metadata": {},
   "outputs": [],
   "source": [
    "# To extract the first element from the 'list_of_fruits' variable\n",
    "list_of_fruits[0]"
   ]
  },
  {
   "cell_type": "code",
   "execution_count": null,
   "id": "7acc3077-ac7b-4450-8a1b-b02ab3406145",
   "metadata": {},
   "outputs": [],
   "source": [
    "# Grab item in index 1 and every element after it\n",
    "list_of_fruits[1:]"
   ]
  },
  {
   "cell_type": "code",
   "execution_count": null,
   "id": "3f9fda8e-c786-4cca-b2e3-4dd66c855b27",
   "metadata": {},
   "outputs": [],
   "source": [
    "# Grab everything up to index 5 (but not including index 5)\n",
    "list_of_fruits[:5]"
   ]
  },
  {
   "cell_type": "markdown",
   "id": "6da11719-4890-466a-9902-8512a97d4840",
   "metadata": {},
   "source": [
    "<font color='black'><div class=\"alert alert-info\"><strong>3.  concatenate</strong><br>\n",
    "To concatenate lists in Python, use the '+' sign"
   ]
  },
  {
   "cell_type": "code",
   "execution_count": null,
   "id": "4440342b-eff1-4ee4-8a8e-83635c6a2309",
   "metadata": {},
   "outputs": [],
   "source": [
    "shoe_size_list = ['5', '8', '9']\n",
    "\n",
    "shoe_size_list + ['12']"
   ]
  },
  {
   "cell_type": "code",
   "execution_count": null,
   "id": "7ac55dc2-e8b4-4012-9912-12856791e6db",
   "metadata": {},
   "outputs": [],
   "source": [
    "# Note: This doesn't change the original list!"
   ]
  },
  {
   "cell_type": "code",
   "execution_count": null,
   "id": "c7d26c38-c126-44a6-9fcd-0f276ea311bf",
   "metadata": {},
   "outputs": [],
   "source": [
    "fruit_list1 = [\"Apple\", \"Orange\", \"Mango\", \"Plums\"]\n",
    "fruit_list2 = [\"Banana\", \"Blueberries\", \"Lemons\"]\n",
    "\n",
    "complete_fruit_list = fruit_list1 + fruit_list2\n",
    "\n",
    "print(complete_fruit_list)"
   ]
  },
  {
   "cell_type": "markdown",
   "id": "bec8de1c-f3ef-4019-96c4-04c239be43f5",
   "metadata": {},
   "source": [
    "<div class=\"alert alert-success\"></i>We can also use the * for a duplication method similar to what we had seen in strings.\n",
    " </div>"
   ]
  },
  {
   "cell_type": "code",
   "execution_count": null,
   "id": "a93722b8-1235-4835-8cd4-31f7be89c180",
   "metadata": {},
   "outputs": [],
   "source": [
    "shoe_size_list = ['5', '8', '9']\n",
    "shoe_size_list * 2"
   ]
  },
  {
   "cell_type": "code",
   "execution_count": null,
   "id": "ca34112c-9423-4525-8682-ace02816093d",
   "metadata": {},
   "outputs": [],
   "source": []
  },
  {
   "cell_type": "markdown",
   "id": "c5246acb-2834-4d05-9b2f-37fd53f35d90",
   "metadata": {},
   "source": [
    " <div class=\"alert alert-success\"></i>Lists are mutable. Mutable in this context means that an object can be changed after it is created, without creating a new object.\n",
    " </div>"
   ]
  },
  {
   "cell_type": "code",
   "execution_count": null,
   "id": "1ef3d8ea-a194-4411-906d-a623ce1ee4f0",
   "metadata": {},
   "outputs": [],
   "source": [
    "# Add Kiwi at the first spot (zero index) in the 'complete_fruit_list' varibale\n",
    "complete_fruit_list[0] = \"Kiwi\"\n",
    "print(complete_fruit_list)"
   ]
  },
  {
   "cell_type": "markdown",
   "id": "6d5ecb93-b49c-48b4-8922-c60b8aaf928b",
   "metadata": {},
   "source": [
    "<font color='black'><div class=\"alert alert-info\"><strong>4. List methods</strong><br>"
   ]
  },
  {
   "cell_type": "code",
   "execution_count": null,
   "id": "5edff031-4b35-41b6-b09a-ad4a8cb5d779",
   "metadata": {},
   "outputs": [],
   "source": [
    "print(dir(list))"
   ]
  },
  {
   "cell_type": "code",
   "execution_count": null,
   "id": "181aedad-2511-4afa-ae4c-764210e707bf",
   "metadata": {},
   "outputs": [],
   "source": [
    "## The append method\n",
    "\n",
    "# To add or append an element to the end of a list, use the append method\n",
    "\n",
    "list1 = [\"Today\", \"is\", \"good\"]\n",
    "list1.append(\"appending-Yes!\")\n",
    "\n",
    "print(list1)"
   ]
  },
  {
   "cell_type": "code",
   "execution_count": null,
   "id": "ccff2bc2-e04c-4d2d-82f9-8bd4010260dc",
   "metadata": {},
   "outputs": [],
   "source": [
    "# To insert an element at a specific location of a list, use the insert method\n",
    "list1.insert(1, \"it's Saturday\")\n",
    "print(list1)"
   ]
  },
  {
   "cell_type": "code",
   "execution_count": null,
   "id": "3dccd7e0-5acd-4eff-a964-0af5c1642572",
   "metadata": {},
   "outputs": [],
   "source": [
    "# Pop off the 0-indexed item\n",
    "list2 = [1, 20, 30, \"good\", \"food\"]\n",
    "\n",
    "# If you don’t provide an index, it removes and returns the last element.\n",
    "list2.pop()"
   ]
  },
  {
   "cell_type": "code",
   "execution_count": null,
   "id": "49dffa3f-fec4-4738-ba2d-8e3513edcd3e",
   "metadata": {},
   "outputs": [],
   "source": [
    "list2 = [1, 20, 30, \"good\", \"food\"]\n",
    "list2.pop(3)"
   ]
  },
  {
   "cell_type": "markdown",
   "id": "f9732a95-d9fb-4477-ba94-5c298ab4573a",
   "metadata": {},
   "source": [
    "<div class=\"alert alert-danger\"></i><i class=\"icon-attention-alt\"></i>**Try it out**<br>what does <strong>remove</strong> do ?<br>Try removing the value in index 1 of the list below<br><br>\n",
    "list2 = [Engineer, Teacher, Nurse, \"Doctor\", \"Data Scientist\"]\n",
    "</div>"
   ]
  },
  {
   "cell_type": "code",
   "execution_count": null,
   "id": "4752cbc2-6e97-45e2-8e08-82e7167af9d8",
   "metadata": {},
   "outputs": [],
   "source": [
    "# Care must be taken when using the reverse method as the results are in-place,\n",
    "# meaning it does change the original list\n",
    "k = [\"This\", \"is\", \"a\", \"good\", \"day\"]\n",
    "k.reverse()\n",
    "print(k)"
   ]
  },
  {
   "cell_type": "code",
   "execution_count": null,
   "id": "230e266f-746c-4a21-a6de-f67b3f691fd6",
   "metadata": {},
   "outputs": [],
   "source": [
    "# Again, care must be taken on where to apply sort as its operation is also in-place.\n",
    "# The default order is ascending\n",
    "num = [100, 200, 46, 12, 10, 2001]\n",
    "num.sort()\n",
    "print(num)"
   ]
  },
  {
   "cell_type": "code",
   "execution_count": null,
   "id": "06ca2b9c-fe24-49fb-80d6-1da18161647f",
   "metadata": {},
   "outputs": [],
   "source": [
    "# To get a descending output, pass the parameter reverse=True to the sort method\n",
    "num = [100, 200, 46, 12, 10, 2001]\n",
    "num.sort(reverse=True)\n",
    "print(num)"
   ]
  },
  {
   "cell_type": "code",
   "execution_count": null,
   "id": "fa8c9dea-9b4b-418b-947e-f2ccf0445d16",
   "metadata": {},
   "outputs": [],
   "source": [
    "# If all you had wanted was sort a list without affecting the original list, use the\n",
    "# sorted method. To demonstrate this, create a list as follows:\n",
    "num_list = [27, 1, 46, 23]\n",
    "\n",
    "print(\"This prints the list in  descending order\\n{}\\n\".format(sorted(num_list, reverse=True)))\n",
    "\n",
    "print(\"This prints the list in  ascending order\\n{}\\n\".format(sorted(num_list)))\n",
    "\n",
    "# we see that the original list was not affected by the sorted method\n",
    "print(\"Original list\\n{}\".format(num_list))"
   ]
  }
 ],
 "metadata": {
  "kernelspec": {
   "display_name": "Python 3 (ipykernel)",
   "language": "python",
   "name": "python3"
  },
  "language_info": {
   "codemirror_mode": {
    "name": "ipython",
    "version": 3
   },
   "file_extension": ".py",
   "mimetype": "text/x-python",
   "name": "python",
   "nbconvert_exporter": "python",
   "pygments_lexer": "ipython3",
   "version": "3.11.9"
  }
 },
 "nbformat": 4,
 "nbformat_minor": 5
}
