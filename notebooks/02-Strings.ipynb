{
 "cells": [
  {
   "cell_type": "markdown",
   "id": "3a68a029-19c9-4467-bd9b-2614d0e3784f",
   "metadata": {},
   "source": [
    "<font color='green'><div class='alert alert-success'><strong><H2>String</H2></strong><br>\n",
    "Strings are an ordered sequence of characters. Python understands the string 'Hello' to be a sequence of letters in a specific order. This means indexing can be used to grab any particular letter(s). This idea of sequence is an important one in Python and we will touch upon it later.<br>\n",
    "In this lecture, we'll learn about the following:<br>\n",
    "<strong>1.) Creating Strings<br>\n",
    "<strong>2.) Printing Strings<br>\n",
    "<strong>3.) print Formatting<br>\n",
    "<strong>4.) User Input<br>\n",
    "<strong>5.) String Indexing and Slicing<br>\n",
    "<strong>6.) String Propertites<br>\n",
    "<strong>7.) String methods"
   ]
  },
  {
   "cell_type": "markdown",
   "id": "8070d17e-0c32-4409-80c4-f383dfaef934",
   "metadata": {},
   "source": [
    "<font color='black'><div class='alert alert-info'><strong>1. Creating Strings</strong><br>\n"
   ]
  },
  {
   "cell_type": "code",
   "execution_count": null,
   "id": "acf0e8d0-7e7d-414a-8fa5-64a33958721e",
   "metadata": {},
   "outputs": [],
   "source": [
    "# To create a string in Python, wrap word(s) with single or double quotes"
   ]
  },
  {
   "cell_type": "code",
   "execution_count": 1,
   "id": "ad92dcef-8874-4fb6-b661-e0893fcf6c94",
   "metadata": {},
   "outputs": [
    {
     "data": {
      "text/plain": [
       "'Hello'"
      ]
     },
     "execution_count": 1,
     "metadata": {},
     "output_type": "execute_result"
    }
   ],
   "source": [
    "# single word\n",
    "'Hello'"
   ]
  },
  {
   "cell_type": "code",
   "execution_count": 2,
   "id": "437393bf-aa64-4e2c-b1ea-5e8a509a344c",
   "metadata": {},
   "outputs": [
    {
     "data": {
      "text/plain": [
       "'This is also a String'"
      ]
     },
     "execution_count": 2,
     "metadata": {},
     "output_type": "execute_result"
    }
   ],
   "source": [
    "# Entire phrase\n",
    "'This is also a String'\n"
   ]
  },
  {
   "cell_type": "code",
   "execution_count": 3,
   "id": "ec5107e9-ddc5-4b06-bfb8-5648e9b42292",
   "metadata": {},
   "outputs": [
    {
     "data": {
      "text/plain": [
       "'String built with double quotes'"
      ]
     },
     "execution_count": 3,
     "metadata": {},
     "output_type": "execute_result"
    }
   ],
   "source": [
    "# We can also use double quotes\n",
    "\"String built with double quotes\""
   ]
  },
  {
   "cell_type": "code",
   "execution_count": 4,
   "id": "57e38fcd-de5d-40d3-8a3e-59ccac142111",
   "metadata": {},
   "outputs": [
    {
     "data": {
      "text/plain": [
       "'I\"am using single quotes, but this will throw an error'"
      ]
     },
     "execution_count": 4,
     "metadata": {},
     "output_type": "execute_result"
    }
   ],
   "source": [
    "# Be careful with how quotes are used in some cases I\n",
    "'I\"am using single quotes, but this will throw an error'"
   ]
  },
  {
   "cell_type": "markdown",
   "id": "184c26c9-0f13-4428-9374-d96ea8adb7f5",
   "metadata": {},
   "source": [
    "The reason for the error above is because the single quotes in I'am stoped the string. You can use combinations of both double and single quotes to get the complete statement"
   ]
  },
  {
   "cell_type": "code",
   "execution_count": 5,
   "id": "8ebb44c2-0f3a-4190-b910-17bd2cfb9259",
   "metadata": {},
   "outputs": [
    {
     "data": {
      "text/plain": [
       "\"I'm ready to use the single quotes inside a string!\""
      ]
     },
     "execution_count": 5,
     "metadata": {},
     "output_type": "execute_result"
    }
   ],
   "source": [
    "\"I'm ready to use the single quotes inside a string!\""
   ]
  },
  {
   "cell_type": "markdown",
   "id": "c29399e6-0e87-4908-b9c5-6ee39e91d477",
   "metadata": {},
   "source": [
    "<font color='black'><div class='alert alert-info'><strong>2. Printing Strings</strong><br>"
   ]
  },
  {
   "cell_type": "markdown",
   "id": "cb78bf4d-083d-4f41-8ee9-1779b1bcd8e7",
   "metadata": {},
   "source": [
    "Using Jupyter notebook with a string in a cell will automatically output strings, however, the correct way to display strings in your output is by using a print function (is a block of code which is executed only when it is called)."
   ]
  },
  {
   "cell_type": "code",
   "execution_count": 6,
   "id": "75db1f33-118a-405a-bcdf-47157564045f",
   "metadata": {},
   "outputs": [
    {
     "name": "stdout",
     "output_type": "stream",
     "text": [
      "Do you know, 'Python is awesome!'\n"
     ]
    }
   ],
   "source": [
    "print(\"Do you know, 'Python is awesome!'\")"
   ]
  },
  {
   "cell_type": "code",
   "execution_count": 7,
   "id": "90b86282-1f43-4582-90a0-dfd89ceef96f",
   "metadata": {},
   "outputs": [
    {
     "data": {
      "text/plain": [
       "'I hope you are all doing well'"
      ]
     },
     "execution_count": 7,
     "metadata": {},
     "output_type": "execute_result"
    }
   ],
   "source": [
    "# Note that we can't output multiple strings this way\n",
    "'Hello, Data Scientists'\n",
    "'I hope you are all doing well'"
   ]
  },
  {
   "cell_type": "code",
   "execution_count": 8,
   "id": "cd9ee566-c58a-4ea1-ab9c-5521aa8a4b6d",
   "metadata": {},
   "outputs": [
    {
     "name": "stdout",
     "output_type": "stream",
     "text": [
      "Hello, Data Scientists\n",
      "I hope you are all doing well\n"
     ]
    }
   ],
   "source": [
    "# We can use a print statement to print a string\n",
    "# This tells Python to display the text Hello, world! on the screen.\n",
    "print('Hello, Data Scientists')\n",
    "print('I hope you are all doing well')"
   ]
  },
  {
   "cell_type": "code",
   "execution_count": 9,
   "id": "ea917107-3e1f-4f91-b367-d8c863586a36",
   "metadata": {},
   "outputs": [
    {
     "name": "stdout",
     "output_type": "stream",
     "text": [
      "Use \n",
      " to print a new line\n"
     ]
    }
   ],
   "source": [
    "# \\n :newline\n",
    "print('Use \\n to print a new line' )"
   ]
  },
  {
   "cell_type": "code",
   "execution_count": 10,
   "id": "ae53315a-1992-4edd-aeae-afc4b2b72da0",
   "metadata": {},
   "outputs": [
    {
     "name": "stdout",
     "output_type": "stream",
     "text": [
      "Use \t to add tab space to the text\n"
     ]
    }
   ],
   "source": [
    "# \\t: tabs\n",
    "print(\"Use \\t to add tab space to the text\")"
   ]
  },
  {
   "cell_type": "code",
   "execution_count": 11,
   "id": "ccb0ec11-187d-4ee0-91a9-50666504c2cf",
   "metadata": {},
   "outputs": [
    {
     "name": "stdout",
     "output_type": "stream",
     "text": [
      "He said, \"Don't give up!\"\n"
     ]
    }
   ],
   "source": [
    "# escape characters\n",
    "print(\"He said, \\\"Don't give up!\\\"\")"
   ]
  },
  {
   "cell_type": "code",
   "execution_count": 12,
   "id": "2887cbe6-afc7-4298-aa63-83910b6461fe",
   "metadata": {},
   "outputs": [
    {
     "name": "stdout",
     "output_type": "stream",
     "text": [
      "He said, \"Don't give up!\"\n"
     ]
    }
   ],
   "source": [
    "# How do we print quotes\n",
    "print(\"He said, \\\"Don't give up!\\\"\")"
   ]
  },
  {
   "cell_type": "code",
   "execution_count": 13,
   "id": "bce95440-075e-4b9e-ac90-543f42edab56",
   "metadata": {},
   "outputs": [
    {
     "name": "stdout",
     "output_type": "stream",
     "text": [
      "I am very delighted 😃\n"
     ]
    }
   ],
   "source": [
    "# Can we print emoji\n",
    "print(\"I am very delighted \\U0001F603\")"
   ]
  },
  {
   "cell_type": "markdown",
   "id": "2a8bfebb-895d-49c2-8d98-845a116d9dcd",
   "metadata": {},
   "source": [
    "<font color='black'><div class='alert alert-info'><strong>3. Print Formatting</strong><br>"
   ]
  },
  {
   "cell_type": "markdown",
   "id": "530a084b",
   "metadata": {},
   "source": [
    "<div class=\"alert alert-success\"></i><strong>3.1 String Formatting</strong><br>\n",
    "    There are three core ways of formatting string outputs.\n",
    "    <ul>\n",
    "    <li>Formatting with placeholders</li>\n",
    "    <li>Formatting with the .format() method</li>\n",
    "    <li>Formatted String Literals (f-strings) (implemented in Python 3.6 and later)</li>\n",
    "    </ul>\n",
    "</div>"
   ]
  },
  {
   "cell_type": "code",
   "execution_count": 14,
   "id": "b7d61578-52ec-40c9-b992-7796b02aea68",
   "metadata": {},
   "outputs": [
    {
     "name": "stdout",
     "output_type": "stream",
     "text": [
      "Mary\n"
     ]
    },
    {
     "data": {
      "text/plain": [
       "2442913897328"
      ]
     },
     "execution_count": 14,
     "metadata": {},
     "output_type": "execute_result"
    }
   ],
   "source": [
    "name  = \"Mary\"\n",
    "print(name)\n",
    "id(name)"
   ]
  },
  {
   "cell_type": "code",
   "execution_count": 15,
   "id": "54dd1af7-1e0a-4560-b7cf-d5b59f17342e",
   "metadata": {},
   "outputs": [
    {
     "name": "stdout",
     "output_type": "stream",
     "text": [
      "5\n"
     ]
    },
    {
     "data": {
      "text/plain": [
       "140709286015912"
      ]
     },
     "execution_count": 15,
     "metadata": {},
     "output_type": "execute_result"
    }
   ],
   "source": [
    "name = 5\n",
    "print(name)\n",
    "id(name)"
   ]
  },
  {
   "cell_type": "code",
   "execution_count": null,
   "id": "4600445c-b365-4b86-994d-887d95c7170b",
   "metadata": {},
   "outputs": [],
   "source": []
  },
  {
   "cell_type": "markdown",
   "id": "11d00d2c",
   "metadata": {},
   "source": [
    "<div class=\"alert alert-success\"></i><strong>3.1.1 Formatting with placeholders</strong><br>\n",
    "The symbol %s, also called string formatting operator is used to insert a string(s) in appropirate parts of a print statment. irrespective of the data type, %s converts any input into string(s)\n",
    "</div>"
   ]
  },
  {
   "cell_type": "markdown",
   "id": "b2986bee",
   "metadata": {},
   "source": [
    "**3.1.2 %s — String format**<br> converts any value passed to a string"
   ]
  },
  {
   "cell_type": "code",
   "execution_count": 16,
   "id": "257794f0-c209-41c0-be12-c4f6498ccbaf",
   "metadata": {},
   "outputs": [
    {
     "name": "stdout",
     "output_type": "stream",
     "text": [
      "Hello, Mary!\n"
     ]
    }
   ],
   "source": [
    "name = \"Mary\"\n",
    "print(\"Hello, %s!\" % name)"
   ]
  },
  {
   "cell_type": "markdown",
   "id": "d0468758",
   "metadata": {},
   "source": [
    "**3.1.3 %r — String format**<br> returns the raw format of the value passed"
   ]
  },
  {
   "cell_type": "markdown",
   "id": "a2320444",
   "metadata": {},
   "source": [
    "<div class=\"alert alert-danger\"></i><i class=\"icon-attention-alt\"></i><strong>**Try it out**</strong><br><br>What will the output of the syntax below display and what is the difference with the %s format above?<br><br>\n",
    "<strong>print('I am on my way to %r for lectures.' %'Woolwich')</strong>  \n",
    "</div>"
   ]
  },
  {
   "cell_type": "markdown",
   "id": "83d17815",
   "metadata": {},
   "source": [
    "<strong>3.1.4 %d — Integer format</strong><br>\n",
    "Formats the value as an integer"
   ]
  },
  {
   "cell_type": "markdown",
   "id": "52faea45",
   "metadata": {},
   "source": [
    "<div class=\"alert alert-danger\"></i><i class=\"icon-attention-alt\"></i><strong>**Try it out**</strong><br><br>What will the output of the syntax below display?<br><br>\n",
    "<strong>print('I got paid %d per hour today.' %10.35)</strong>  \n",
    "</div>"
   ]
  },
  {
   "cell_type": "code",
   "execution_count": 17,
   "id": "df8bfa75-0d50-4a7e-81d8-0f761f903f30",
   "metadata": {},
   "outputs": [
    {
     "name": "stdout",
     "output_type": "stream",
     "text": [
      "I got paid £ 10 per hour today.\n"
     ]
    }
   ],
   "source": [
    "salary = 10.35\n",
    "print('I got paid £ %d per hour today.' %10.35)"
   ]
  },
  {
   "cell_type": "markdown",
   "id": "fba969a5",
   "metadata": {},
   "source": [
    "<strong>3.1.5 %f — Floating-point format</strong><br>\n",
    "Formats a float number; default shows 6 decimal places"
   ]
  },
  {
   "cell_type": "code",
   "execution_count": 18,
   "id": "fed592d8",
   "metadata": {},
   "outputs": [
    {
     "name": "stdout",
     "output_type": "stream",
     "text": [
      "I got paid £ 10.000000 per hour today.\n"
     ]
    }
   ],
   "source": [
    "print(\"I got paid £ %f per hour today.\" %10)"
   ]
  },
  {
   "cell_type": "markdown",
   "id": "8f6e8918",
   "metadata": {},
   "source": [
    "<div class=\"alert alert-success\"></i><strong>3.1.6 Formatting floating Point Numbers</strong><br>\n",
    "Floating point numbers are represented as %2.4f. The 2 just after the % sign is the minimum number of characters the string should have,including the decimal point. Next is the .4f which stands for how many decimal places to show.<br>\n",
    "</div>"
   ]
  },
  {
   "cell_type": "code",
   "execution_count": 19,
   "id": "b2b90088",
   "metadata": {},
   "outputs": [
    {
     "name": "stdout",
     "output_type": "stream",
     "text": [
      "Floating point numbers: 13.1447\n"
     ]
    }
   ],
   "source": [
    "print('Floating point numbers: %2.4f' %(13.14467890))"
   ]
  },
  {
   "cell_type": "markdown",
   "id": "c89e3e40",
   "metadata": {},
   "source": [
    "<div class=\"alert alert-danger\"></i><i class=\"icon-attention-alt\"></i><strong>**Try it out**</strong><br><br>Multiple Formatting<br><br>What will the output of the syntax below display?<br><br>\n",
    "<strong>print('Name: %s, loan Value: £%5.5f, Title in quotes: %r' %('John',20000.23145,'Mr.')</strong>  \n",
    "</div>"
   ]
  },
  {
   "cell_type": "code",
   "execution_count": 20,
   "id": "4226d6d3-62f1-4f10-b813-ba4f0d47780b",
   "metadata": {},
   "outputs": [
    {
     "name": "stdout",
     "output_type": "stream",
     "text": [
      "Name: John, loan Value: £20000.23145, Title in quotes: 'Mr.'\n"
     ]
    }
   ],
   "source": [
    "print('Name: %s, loan Value: £%5.5f, Title in quotes: %r' %('John',20000.23145,'Mr.'))"
   ]
  },
  {
   "cell_type": "markdown",
   "id": "9312ec04",
   "metadata": {},
   "source": [
    "<div class=\"alert alert-success\"></i><strong>3.2 Formatting with .format()</strong><br>\n",
    "Another way of formatting strings for printing is the .format() method.<br>\n",
    ".format() was first introduced in Python 2.7+ and currently being used in version 3.x\n",
    "</div>"
   ]
  },
  {
   "cell_type": "code",
   "execution_count": 21,
   "id": "48fb62a8",
   "metadata": {},
   "outputs": [
    {
     "name": "stdout",
     "output_type": "stream",
     "text": [
      "My name is Sunny\n"
     ]
    }
   ],
   "source": [
    "# Single argument\n",
    "print('My name is {}'.format('Sunny'))"
   ]
  },
  {
   "cell_type": "code",
   "execution_count": 22,
   "id": "6c67f490-16f3-4dfb-877b-b3a86fa3e2c3",
   "metadata": {},
   "outputs": [
    {
     "name": "stdout",
     "output_type": "stream",
     "text": [
      "My name is Alice and I am 10 years old.\n"
     ]
    }
   ],
   "source": [
    "# double arguments\n",
    "name = \"Alice\"\n",
    "age = 10\n",
    "print(\"My name is {} and I am {} years old.\".format(name, age))"
   ]
  },
  {
   "cell_type": "code",
   "execution_count": 23,
   "id": "c43e9b94-fdd2-4ab9-a5d8-871eb6eef843",
   "metadata": {},
   "outputs": [
    {
     "name": "stdout",
     "output_type": "stream",
     "text": [
      "My name is Alice and I am 10 years old.\n"
     ]
    }
   ],
   "source": [
    "print(\"My name is {n} and I am {a} years old.\".format(n=name, a=age))"
   ]
  },
  {
   "cell_type": "code",
   "execution_count": 24,
   "id": "572a0d95-ad7f-494f-b43f-32d4bac195fb",
   "metadata": {},
   "outputs": [
    {
     "name": "stdout",
     "output_type": "stream",
     "text": [
      "This is the first Python lectures\n"
     ]
    }
   ],
   "source": [
    "# Use index position to call inserted arguments\n",
    "print('This is the {2} {1} {0}'.format('lectures','Python','first'))"
   ]
  },
  {
   "cell_type": "code",
   "execution_count": 25,
   "id": "3087dc3a",
   "metadata": {},
   "outputs": [
    {
     "name": "stdout",
     "output_type": "stream",
     "text": [
      "The first book I ever read was Eze goes to shcool, it had 210 pages back in Nigeria\n"
     ]
    }
   ],
   "source": [
    "# Inserted variables can be assigned arguments\n",
    "print('The first book I ever read was {a}, it had {b} pages back in {c}'.format(a='Eze goes to shcool',b=210,c='Nigeria'))"
   ]
  },
  {
   "cell_type": "markdown",
   "id": "53bee095-1ef9-468a-8f6b-4d2c6afb7348",
   "metadata": {},
   "source": [
    "<div class=\"alert alert-success\"></i><strong>3.3 String Literals (f-strings)</strong><br>\n",
    "This string format was first introduced in Python version 3.6 and by far the best and is the most recommended way to format strings\n",
    "</div>"
   ]
  },
  {
   "cell_type": "code",
   "execution_count": 26,
   "id": "2e174e48-adf7-47bb-b8ad-d4690f5939e9",
   "metadata": {},
   "outputs": [
    {
     "name": "stdout",
     "output_type": "stream",
     "text": [
      "My name is Mary and I am 30 years old. Did I mention that my name is Mary? Yes, Mary is what everyone calls me.I'm proud to be 30 years old. 30 is a great age to start learning Python!. Mary is learning Python at the age of 30. That's impressive!\n"
     ]
    }
   ],
   "source": [
    "name = \"Mary\"\n",
    "age = 30\n",
    "print(f\"My name is {name} and I am {age} years old. Did I mention that my name is {name}? Yes, {name} is what everyone calls me.I'm proud to be {age} years old. {age} is a great age to start learning Python!. {name} is learning Python at the age of {age}. That's impressive!\")"
   ]
  },
  {
   "cell_type": "markdown",
   "id": "ba1fd9f5-f1e4-4bc5-8566-ac1a75c3f19e",
   "metadata": {},
   "source": [
    "**3.3.1 f-string vs .format()**"
   ]
  },
  {
   "cell_type": "markdown",
   "id": "b210b5c9-2a48-47a9-9c94-da5fe9dd3c2f",
   "metadata": {},
   "source": [
    "| Style     | Code Example               |\n",
    "|-----------|----------------------------|\n",
    "| f-string  | `f\"Hello {name}\"`          |\n",
    "| .format() | `\"Hello {}\".format(name)`  |\n"
   ]
  },
  {
   "cell_type": "markdown",
   "id": "decfee2c-1d07-4334-9811-f69886d0e0af",
   "metadata": {},
   "source": [
    "<font color='black'><div class='alert alert-info'><strong>4. User Input</strong><br>"
   ]
  },
  {
   "cell_type": "code",
   "execution_count": null,
   "id": "ad7effee",
   "metadata": {},
   "outputs": [],
   "source": [
    "name = input(\"Provide your name: \")\n",
    "print(name)"
   ]
  },
  {
   "cell_type": "code",
   "execution_count": null,
   "id": "2eecfeff-490e-4acb-ac3a-a149996ec1b6",
   "metadata": {},
   "outputs": [],
   "source": [
    "name = input(\"Provide your name: \")\n",
    "age = input(\"Privide your age: \")\n",
    "print(f\"My name is {name} and I am {age} years old. Did I mention that my name is {name}? Yes, {name} is what everyone calls me.I'm proud to be {age} years old. {age} is a great age to start learning Python!. {name} is learning Python at the age of {age}. That's impressive!\")"
   ]
  },
  {
   "cell_type": "code",
   "execution_count": null,
   "id": "268538d4",
   "metadata": {},
   "outputs": [],
   "source": [
    "name = input(\"Provide your name: \")\n",
    "age = input(\"Enter your age: \")\n",
    "\n",
    "print(f\"Hola! {name}, it's good to know you are {age} years old.\")"
   ]
  },
  {
   "cell_type": "code",
   "execution_count": null,
   "id": "345c6696",
   "metadata": {},
   "outputs": [],
   "source": [
    "name = input(\"Provide your name: \")\n",
    "age = input(\"Enter your age: \")\n",
    "\n",
    "print(f\" name is {type(name)}\")\n",
    "print(f\"Age is {type(age)}\")\n",
    "\n",
    "print(f\"Hola! {name}, it's good to know that in 4 years time, you will be {int(age) + 4} years old.\")"
   ]
  },
  {
   "cell_type": "markdown",
   "id": "c1e650e0-d709-46b8-b4d3-f31a49ba098d",
   "metadata": {},
   "source": [
    "<font color='black'><div class='alert alert-info'><strong>5. String Indexing and Slicing</strong><br>"
   ]
  },
  {
   "cell_type": "code",
   "execution_count": 27,
   "id": "b9ca2efc-a454-4fec-8211-3c912d0a9258",
   "metadata": {},
   "outputs": [
    {
     "data": {
      "text/plain": [
       "int"
      ]
     },
     "execution_count": 27,
     "metadata": {},
     "output_type": "execute_result"
    }
   ],
   "source": [
    "age = int(\"10\")\n",
    "type(age)"
   ]
  },
  {
   "cell_type": "markdown",
   "id": "7d33c5b9-6cdb-465f-b28e-65b435944998",
   "metadata": {},
   "source": [
    "**5.1 Indexing**"
   ]
  },
  {
   "cell_type": "markdown",
   "id": "f8745b66-8254-40c3-a771-c1d7a3907e0e",
   "metadata": {},
   "source": [
    "We know strings are a sequence of characters, which means Python can use indexes to call all or parts of the sequence. Let's learn how this works.<br>\n",
    "In Python, we use <strong>square brackets []</strong> after an object to call its index. It is very important to <strong>note</strong> that indexing starts at 0 (from left to right) or -1 (from right to left) in Python."
   ]
  },
  {
   "cell_type": "code",
   "execution_count": 28,
   "id": "fafacd21-b836-445c-b406-4c34d1e6fc7e",
   "metadata": {},
   "outputs": [],
   "source": [
    "# Assign greeting as a string\n",
    "greeting = \"Hello to you all!\""
   ]
  },
  {
   "cell_type": "code",
   "execution_count": 29,
   "id": "9791689b-6f82-4582-91f9-f0737eb26c93",
   "metadata": {},
   "outputs": [
    {
     "data": {
      "text/plain": [
       "'H'"
      ]
     },
     "execution_count": 29,
     "metadata": {},
     "output_type": "execute_result"
    }
   ],
   "source": [
    "greeting[0]"
   ]
  },
  {
   "cell_type": "code",
   "execution_count": 30,
   "id": "ba98772c-82a7-4df2-91d8-abc35014ee6a",
   "metadata": {},
   "outputs": [
    {
     "data": {
      "text/plain": [
       "'e'"
      ]
     },
     "execution_count": 30,
     "metadata": {},
     "output_type": "execute_result"
    }
   ],
   "source": [
    "greeting[1]"
   ]
  },
  {
   "cell_type": "code",
   "execution_count": 31,
   "id": "2317c880-06c1-4762-b15e-f397d265fde2",
   "metadata": {},
   "outputs": [
    {
     "data": {
      "text/plain": [
       "' '"
      ]
     },
     "execution_count": 31,
     "metadata": {},
     "output_type": "execute_result"
    }
   ],
   "source": [
    "greeting[5]"
   ]
  },
  {
   "cell_type": "markdown",
   "id": "84efc220-dc8c-4dde-839e-3fd360d49d92",
   "metadata": {},
   "source": [
    "**5.2 Slicing**"
   ]
  },
  {
   "cell_type": "markdown",
   "id": "361be965-247a-4d00-8513-f0ae4846d8ee",
   "metadata": {},
   "source": [
    "We can use a <strong>:</strong> (string[start:stop]) to perform slicing which grabs everything up to a designated point. For example:"
   ]
  },
  {
   "cell_type": "code",
   "execution_count": 32,
   "id": "0f17abeb-d6db-418d-8d81-f2d5f449f673",
   "metadata": {},
   "outputs": [],
   "source": [
    "text = \"Elephant\""
   ]
  },
  {
   "cell_type": "code",
   "execution_count": 33,
   "id": "7fdfabaa-67cc-4289-99be-a67fb54b12e9",
   "metadata": {},
   "outputs": [
    {
     "data": {
      "text/plain": [
       "'lephant'"
      ]
     },
     "execution_count": 33,
     "metadata": {},
     "output_type": "execute_result"
    }
   ],
   "source": [
    "# Grab everything past the first character to the length of the text, which is len(text)\n",
    "# No change to the original text variable\n",
    "text[1:]"
   ]
  },
  {
   "cell_type": "code",
   "execution_count": 34,
   "id": "c5fe4fa4-9d8b-4e40-9b2a-698acb43f8d0",
   "metadata": {},
   "outputs": [
    {
     "data": {
      "text/plain": [
       "'Ele'"
      ]
     },
     "execution_count": 34,
     "metadata": {},
     "output_type": "execute_result"
    }
   ],
   "source": [
    "text[:3]"
   ]
  },
  {
   "cell_type": "markdown",
   "id": "19ca2980-4f0e-4953-b60b-62e684f8018c",
   "metadata": {},
   "source": [
    "Note: The above slicing. Here we're telling Python to grab everything from index 0 up to but not including index 3"
   ]
  },
  {
   "cell_type": "code",
   "execution_count": 35,
   "id": "eda2eff8-1876-4e33-9b4e-57619aeeab2e",
   "metadata": {},
   "outputs": [
    {
     "data": {
      "text/plain": [
       "'Elephant'"
      ]
     },
     "execution_count": 35,
     "metadata": {},
     "output_type": "execute_result"
    }
   ],
   "source": [
    "# Grap everything\n",
    "text[:]"
   ]
  },
  {
   "cell_type": "markdown",
   "id": "95f2838c-d558-4a9f-bf51-a35f9b2d8c08",
   "metadata": {},
   "source": [
    "We can also use negative index to go backwards"
   ]
  },
  {
   "cell_type": "code",
   "execution_count": 36,
   "id": "4e7c6b12-5f8a-4b5c-853b-95e681094dbf",
   "metadata": {},
   "outputs": [
    {
     "data": {
      "text/plain": [
       "'Elephan'"
      ]
     },
     "execution_count": 36,
     "metadata": {},
     "output_type": "execute_result"
    }
   ],
   "source": [
    "# Grab everything but the last character\n",
    "text[:-1]"
   ]
  },
  {
   "cell_type": "code",
   "execution_count": 37,
   "id": "8a3f4d15-b5a0-4a93-889b-24128956072a",
   "metadata": {},
   "outputs": [
    {
     "data": {
      "text/plain": [
       "'Elep'"
      ]
     },
     "execution_count": 37,
     "metadata": {},
     "output_type": "execute_result"
    }
   ],
   "source": [
    "text[-8:-4]"
   ]
  },
  {
   "cell_type": "code",
   "execution_count": 38,
   "id": "96706dd8-8bff-40e7-9814-8c70637b88cd",
   "metadata": {},
   "outputs": [
    {
     "data": {
      "text/plain": [
       "'ant'"
      ]
     },
     "execution_count": 38,
     "metadata": {},
     "output_type": "execute_result"
    }
   ],
   "source": [
    "# return me the word 'ant'\n",
    "text[-3:]"
   ]
  },
  {
   "cell_type": "markdown",
   "id": "79fc575c-9485-4e77-8858-19e8a11adac7",
   "metadata": {},
   "source": [
    "We can also use index and slic notations to grab elements of a sequence by specified step size (the default is 1). For instance, we can use colons in a row, then followed by a number specifying the frequency to grab elements. For example:"
   ]
  },
  {
   "cell_type": "code",
   "execution_count": 39,
   "id": "c9b480e2-daf7-4339-bf81-a7914b560b2c",
   "metadata": {},
   "outputs": [
    {
     "data": {
      "text/plain": [
       "'Hello to you all!'"
      ]
     },
     "execution_count": 39,
     "metadata": {},
     "output_type": "execute_result"
    }
   ],
   "source": [
    "# Grab everything, but go in steps size of 1\n",
    "greeting[::1]"
   ]
  },
  {
   "cell_type": "code",
   "execution_count": 40,
   "id": "c19918d5-520c-4934-88fe-9b58b9bc3771",
   "metadata": {},
   "outputs": [
    {
     "data": {
      "text/plain": [
       "'Hlot o l!'"
      ]
     },
     "execution_count": 40,
     "metadata": {},
     "output_type": "execute_result"
    }
   ],
   "source": [
    "greeting[::2]\n",
    "# greeting[2:6:2] assignment"
   ]
  },
  {
   "cell_type": "code",
   "execution_count": 41,
   "id": "fdb8523a-710d-4603-bc1e-04b3e839d423",
   "metadata": {},
   "outputs": [
    {
     "data": {
      "text/plain": [
       "'!lla uoy ot olleH'"
      ]
     },
     "execution_count": 41,
     "metadata": {},
     "output_type": "execute_result"
    }
   ],
   "source": [
    "greeting[::-1]"
   ]
  },
  {
   "cell_type": "markdown",
   "id": "fc79daf2-f24e-4479-b345-8fff08bc1873",
   "metadata": {},
   "source": [
    "<font color='black'><div class='alert alert-info'><strong>6. String Propertites</strong><br>"
   ]
  },
  {
   "cell_type": "markdown",
   "id": "8ba32e8a-069a-471d-88e7-b8d6c24d226d",
   "metadata": {},
   "source": [
    "It's very important to note that strings have a property known as <strong>immutability</strong>. This means that once a string is created, the elements within it can not be changed or replaced:"
   ]
  },
  {
   "cell_type": "code",
   "execution_count": 42,
   "id": "e9e048d6-91d6-416a-84ce-48fcbfb8b269",
   "metadata": {},
   "outputs": [
    {
     "ename": "TypeError",
     "evalue": "'str' object does not support item assignment",
     "output_type": "error",
     "traceback": [
      "\u001b[31m---------------------------------------------------------------------------\u001b[39m",
      "\u001b[31mTypeError\u001b[39m                                 Traceback (most recent call last)",
      "\u001b[36mCell\u001b[39m\u001b[36m \u001b[39m\u001b[32mIn[42]\u001b[39m\u001b[32m, line 2\u001b[39m\n\u001b[32m      1\u001b[39m greet = \u001b[33m'\u001b[39m\u001b[33mHi\u001b[39m\u001b[33m'\u001b[39m\n\u001b[32m----> \u001b[39m\u001b[32m2\u001b[39m \u001b[43mgreet\u001b[49m\u001b[43m[\u001b[49m\u001b[32;43m0\u001b[39;49m\u001b[43m]\u001b[49m = \u001b[33m'\u001b[39m\u001b[33mY\u001b[39m\u001b[33m'\u001b[39m\n",
      "\u001b[31mTypeError\u001b[39m: 'str' object does not support item assignment"
     ]
    }
   ],
   "source": [
    "greet = 'Hi'\n",
    "greet[0] = 'Y'"
   ]
  },
  {
   "cell_type": "markdown",
   "id": "caa1a7c9-2906-453d-83e0-7a7164be7ecb",
   "metadata": {},
   "source": [
    "Notice how the error tells us directly what we can't do.<br>Something we can do is concatenate strings"
   ]
  },
  {
   "cell_type": "code",
   "execution_count": 43,
   "id": "60d79633-ebe2-405e-929d-7d70a962c056",
   "metadata": {},
   "outputs": [
    {
     "data": {
      "text/plain": [
       "'Hi Seiya'"
      ]
     },
     "execution_count": 43,
     "metadata": {},
     "output_type": "execute_result"
    }
   ],
   "source": [
    "greet + ' Seiya'"
   ]
  },
  {
   "cell_type": "code",
   "execution_count": 44,
   "id": "28add231-ab75-4e46-8c1b-36c382296ede",
   "metadata": {},
   "outputs": [
    {
     "data": {
      "text/plain": [
       "'HiHiHi'"
      ]
     },
     "execution_count": 44,
     "metadata": {},
     "output_type": "execute_result"
    }
   ],
   "source": [
    "greet * 3"
   ]
  },
  {
   "cell_type": "markdown",
   "id": "59ea0a62-c876-4fc0-b3fb-ee0ebd7b687b",
   "metadata": {},
   "source": [
    "<font color='black'><div class='alert alert-info'><strong>7.0 String methods</strong><br>"
   ]
  },
  {
   "cell_type": "markdown",
   "id": "0630aab3-aa1a-437d-8dd3-d57ffe445a53",
   "metadata": {},
   "source": [
    "Objects in Python usually have built-in methods.This methods are functions inside the object(We will learn these in much more depth later in the lecture series) that can perform actions or commands on the object itself<br>We call methods with a period and then the method name. Methods are in the form object.method(parameters)<br>\n",
    "Where parameters are the extra arguments we can pass into the method. Don't worry if the details don't make 100% sense right now<br>\n",
    "Here are some examples of built-in methods in strings"
   ]
  },
  {
   "cell_type": "code",
   "execution_count": null,
   "id": "e8bb8f79-c1b4-4802-bd1e-f0e54d523e19",
   "metadata": {},
   "outputs": [],
   "source": [
    "# company = 'great'\n",
    "# dir(company)"
   ]
  },
  {
   "cell_type": "code",
   "execution_count": null,
   "id": "9f576303-7ed2-48de-bd89-5e8ab6c97856",
   "metadata": {},
   "outputs": [],
   "source": [
    "# help(str.translate)"
   ]
  },
  {
   "cell_type": "code",
   "execution_count": 45,
   "id": "ae4ef0bb-d78d-4656-afce-dd1f48f5aeaf",
   "metadata": {},
   "outputs": [
    {
     "name": "stdout",
     "output_type": "stream",
     "text": [
      "Upper: CONVERT ME TO UPPER CASE STRING\n",
      "Lower: convert me to lower case string\n",
      "Capitalize: Make me a cap\n",
      "Title: Make Me A Title String\n",
      "Swapcase: A test CASE\n",
      "Casefold: hi strasse\n",
      "ljust 10: Hola!xxxxx\n",
      "rjust 10: xxxxxHola!\n",
      "Center 10: xxHola!xxx\n",
      "zfill 20: 000000000000000Hola!\n",
      "zfill 2: 01\n",
      "zfill 3: 100\n"
     ]
    }
   ],
   "source": [
    "print(\"Upper:\", \"convert me to upper case string\".upper())\n",
    "print(\"Lower:\", \"CONVERT ME TO LOWER CASE STRING\".lower())\n",
    "print(\"Capitalize:\",\"maKe mE A cAP\".capitalize())\n",
    "print(\"Title:\", \"maKe mE A title striNG\".title())\n",
    "print(\"Swapcase:\", \"a TEST case\".swapcase())\n",
    "print(\"Casefold:\", \"Hi straße\".casefold()) # Best for comparisons across languages\n",
    "print(\"ljust 10:\", \"Hola!\".ljust(10, \"x\"))\n",
    "print(\"rjust 10:\", \"Hola!\".rjust(10, \"x\"))\n",
    "print(\"Center 10:\", \"Hola!\".center(10, \"x\"))\n",
    "print(\"zfill 20:\", \"Hola!\".zfill(20))\n",
    "print(\"zfill 2:\", str(1).zfill(2))\n",
    "print(\"zfill 3:\", str(100).zfill(3))"
   ]
  },
  {
   "cell_type": "markdown",
   "id": "9cf359fc-e890-4a6a-8ced-0e72615b5107",
   "metadata": {},
   "source": [
    "**Trimming and Padding**<br>\n",
    "text = 'Hello, Python 123!'<br>\n",
    "\n",
    "| Method       | Description                   | Example             | Output                  |\n",
    "|--------------|-------------------------------|---------------------|--------------------------|\n",
    "| `strip()`    | Removes leading/trailing spaces| `text.strip()`      | `'Hello, Python 123!'`   |\n",
    "| `lstrip()`   | Removes spaces from left only | `text.lstrip()`     | `'Hello, Python 123!  '` |\n",
    "| `rstrip()`   | Removes spaces from right only| `text.rstrip()`     | `'  Hello, Python 123!'` |\n",
    "| `zfill(n)`   | Pads with zeros to length `n` | `'42'.zfill(5)`     | `'00042'`                |\n"
   ]
  },
  {
   "cell_type": "markdown",
   "id": "a0ba5563-28a7-44ae-b32e-538e72d1893e",
   "metadata": {},
   "source": [
    "**Validation Methods (Return True/False)**<br>\n",
    "\n",
    "| Method         | Description               | Example             | Output   |\n",
    "|----------------|---------------------------|---------------------|----------|\n",
    "| `isdigit()`    | All characters are digits | `\"123\".isdigit()`   | `True`   |\n",
    "| `isalpha()`    | Only letters              | `\"abc\".isalpha()`   | `True`   |\n",
    "| `isalnum()`    | Letters and/or numbers    | `\"abc123\".isalnum()`| `True`   |\n",
    "| `isupper()`    | All uppercase letters     | `\"HELLO\".isupper()` | `True`   |\n",
    "| `islower()`    | All lowercase letters     | `\"hello\".islower()` | `True`   |\n",
    "| `isspace()`    | Only whitespace           | `\"   \".isspace()`   | `True`   |"
   ]
  },
  {
   "cell_type": "code",
   "execution_count": null,
   "id": "674102db-e642-4cae-b6c2-7b6042aa932f",
   "metadata": {},
   "outputs": [],
   "source": []
  }
 ],
 "metadata": {
  "kernelspec": {
   "display_name": "Python 3 (ipykernel)",
   "language": "python",
   "name": "python3"
  },
  "language_info": {
   "codemirror_mode": {
    "name": "ipython",
    "version": 3
   },
   "file_extension": ".py",
   "mimetype": "text/x-python",
   "name": "python",
   "nbconvert_exporter": "python",
   "pygments_lexer": "ipython3",
   "version": "3.11.9"
  }
 },
 "nbformat": 4,
 "nbformat_minor": 5
}
