{
 "cells": [
  {
   "cell_type": "markdown",
   "id": "8d47b38c-022e-4d71-a083-eba2295b132d",
   "metadata": {},
   "source": [
    "<font color='green'><div class=\"alert alert-success\"><strong><H1>Numbers</H1></strong><br>\n",
    "We'll learn about the following topics:<br>\n",
    "    <strong>1.) Types of Numbers in Python<br>\n",
    "    <strong>2.) Basic arithmetic <br>\n",
    "    <strong>3.) Differences between classic division and floor division<br>\n",
    "    <strong>4.) Variable assignments<br>\n",
    "    <strong>5.) Dynamic typing and Type Casting\n",
    "</div></font>"
   ]
  },
  {
   "cell_type": "markdown",
   "id": "6e1ceed3-bee3-495f-a65f-8f6b4d289ac6",
   "metadata": {},
   "source": [
    "<font color='black'><div class=\"alert alert-info\"><strong>1. Types of Numbers in Python</strong><br>"
   ]
  },
  {
   "cell_type": "markdown",
   "id": "a9dd45e2-bb78-4bce-bd1d-ec34f042103f",
   "metadata": {},
   "source": [
    "**There are three main types of numbers in Python**<br>\n",
    "- <font color='red'>**Integers (int):**</font> These are whole numbers without a decimal point.\n",
    "- <font color='red'>**Float-point (float):**</font> These are numbers with a decimal point.\n",
    "- <font color='red'>**Complex numbers (complex):**</font> Numbers with a real an imaginary part."
   ]
  },
  {
   "cell_type": "markdown",
   "id": "d7601b2e-ad98-4f20-bcfa-8c6416407c82",
   "metadata": {},
   "source": [
    "<font color='black'><div class=\"alert alert-info\"><strong>2. Basic arithmetic</strong><br>"
   ]
  },
  {
   "cell_type": "code",
   "execution_count": 1,
   "id": "aaec719a-139e-4aaf-bbf9-342a93b61e37",
   "metadata": {},
   "outputs": [
    {
     "data": {
      "text/plain": [
       "10"
      ]
     },
     "execution_count": 1,
     "metadata": {},
     "output_type": "execute_result"
    }
   ],
   "source": [
    "# Addition\n",
    "2 + 8"
   ]
  },
  {
   "cell_type": "code",
   "execution_count": 2,
   "id": "c8e85622-728f-48c2-9660-d9885f75d459",
   "metadata": {},
   "outputs": [
    {
     "data": {
      "text/plain": [
       "-6"
      ]
     },
     "execution_count": 2,
     "metadata": {},
     "output_type": "execute_result"
    }
   ],
   "source": [
    "# Subtraction\n",
    "2 - 8"
   ]
  },
  {
   "cell_type": "code",
   "execution_count": 3,
   "id": "4aefed57-51f0-4f5e-97cb-484a5edfcc7a",
   "metadata": {},
   "outputs": [
    {
     "data": {
      "text/plain": [
       "15"
      ]
     },
     "execution_count": 3,
     "metadata": {},
     "output_type": "execute_result"
    }
   ],
   "source": [
    "# Multiplication\n",
    "5 * 3"
   ]
  },
  {
   "cell_type": "code",
   "execution_count": 4,
   "id": "5535cb2e-4e58-4911-8a2b-75b836f4166f",
   "metadata": {},
   "outputs": [
    {
     "data": {
      "text/plain": [
       "1.5"
      ]
     },
     "execution_count": 4,
     "metadata": {},
     "output_type": "execute_result"
    }
   ],
   "source": [
    "# Division\n",
    "3 / 2"
   ]
  },
  {
   "cell_type": "code",
   "execution_count": 5,
   "id": "881dfcf7-9b4c-40f5-b931-94f21b9da692",
   "metadata": {},
   "outputs": [
    {
     "data": {
      "text/plain": [
       "2"
      ]
     },
     "execution_count": 5,
     "metadata": {},
     "output_type": "execute_result"
    }
   ],
   "source": [
    "# Floor Division\n",
    "9 // 4"
   ]
  },
  {
   "cell_type": "markdown",
   "id": "10632ac7-9575-4362-ad75-dce6ed163178",
   "metadata": {},
   "source": [
    "The reason for this is because we are using 'floor' division. The // operator (two forward slashes) truncates the decimal without rounding, and returns an integer result.<br><br>So What if we just want remainder after a division?"
   ]
  },
  {
   "cell_type": "code",
   "execution_count": 6,
   "id": "3deace8c-7a06-44af-8993-0e738f56570d",
   "metadata": {},
   "outputs": [
    {
     "data": {
      "text/plain": [
       "3"
      ]
     },
     "execution_count": 6,
     "metadata": {},
     "output_type": "execute_result"
    }
   ],
   "source": [
    "7 % 4"
   ]
  },
  {
   "cell_type": "markdown",
   "id": "77cec117-9c3f-4112-8f7a-a9cffb09c98c",
   "metadata": {},
   "source": [
    "4 goes into 7 once, with a remainder of 3. The % operator returns the remainder afetr division."
   ]
  },
  {
   "cell_type": "code",
   "execution_count": 7,
   "id": "86da2272-b619-420d-9c84-d9255d7b9d79",
   "metadata": {},
   "outputs": [
    {
     "data": {
      "text/plain": [
       "8"
      ]
     },
     "execution_count": 7,
     "metadata": {},
     "output_type": "execute_result"
    }
   ],
   "source": [
    "# Powers\n",
    "2**3"
   ]
  },
  {
   "cell_type": "code",
   "execution_count": 8,
   "id": "9829f774-e7c4-4d2b-8a06-3999ffa7a9b8",
   "metadata": {},
   "outputs": [
    {
     "data": {
      "text/plain": [
       "3.0"
      ]
     },
     "execution_count": 8,
     "metadata": {},
     "output_type": "execute_result"
    }
   ],
   "source": [
    "# square roots\n",
    "9**0.5"
   ]
  },
  {
   "cell_type": "code",
   "execution_count": 9,
   "id": "b3f90813-7bb9-4a9f-82af-1cb1d4306bf2",
   "metadata": {},
   "outputs": [
    {
     "data": {
      "text/plain": [
       "3.0"
      ]
     },
     "execution_count": 9,
     "metadata": {},
     "output_type": "execute_result"
    }
   ],
   "source": [
    "# Or\n",
    "9**(1/2)"
   ]
  },
  {
   "cell_type": "code",
   "execution_count": 10,
   "id": "8f169b12-06f0-4c16-90b4-d8139c21baba",
   "metadata": {},
   "outputs": [
    {
     "data": {
      "text/plain": [
       "3.0"
      ]
     },
     "execution_count": 10,
     "metadata": {},
     "output_type": "execute_result"
    }
   ],
   "source": [
    "# for the cube root of a number\n",
    "27**(1/3)"
   ]
  },
  {
   "cell_type": "code",
   "execution_count": null,
   "id": "f2c9a3be-7ae2-40b5-a37d-d5e5d5052857",
   "metadata": {},
   "outputs": [],
   "source": [
    "# Order of operations following Python (BODMAS)"
   ]
  },
  {
   "cell_type": "code",
   "execution_count": 11,
   "id": "a906d4c6-dd88-465e-8b93-d9f79c8eb2aa",
   "metadata": {},
   "outputs": [
    {
     "data": {
      "text/plain": [
       "6"
      ]
     },
     "execution_count": 11,
     "metadata": {},
     "output_type": "execute_result"
    }
   ],
   "source": [
    "2 * 3 + 5 - 5"
   ]
  },
  {
   "cell_type": "markdown",
   "id": "e0f1bd06-82e2-4ab8-bb79-20f71d93a77d",
   "metadata": {},
   "source": [
    "<font color='black'><div class=\"alert alert-info\"><strong>3. Differences between classic division and floor division</strong><br>"
   ]
  },
  {
   "cell_type": "markdown",
   "id": "49faf384-ca36-4c80-a12d-ca1b5f07762b",
   "metadata": {},
   "source": [
    "<strong><font color='green'>classic division always returns a float output while floor division returns the whole number part (removes the decimal part)"
   ]
  },
  {
   "cell_type": "markdown",
   "id": "8620af9d-685c-4d2c-9016-09133c02fbdf",
   "metadata": {},
   "source": [
    "<font color='black'><div class=\"alert alert-info\"><strong>4. Variable assignments</strong><br>"
   ]
  },
  {
   "cell_type": "code",
   "execution_count": 12,
   "id": "b1c3e1e3-9071-4004-a4e3-2bfb994a1f05",
   "metadata": {},
   "outputs": [],
   "source": [
    "# Let's create a variable called 'a' and assign it the number 5 (object). Each object has a type, a value and an ID\n",
    "a = 5"
   ]
  },
  {
   "cell_type": "code",
   "execution_count": 13,
   "id": "1139d476-435e-494a-b92b-508a1cc8332a",
   "metadata": {},
   "outputs": [
    {
     "data": {
      "text/plain": [
       "int"
      ]
     },
     "execution_count": 13,
     "metadata": {},
     "output_type": "execute_result"
    }
   ],
   "source": [
    "type(a)"
   ]
  },
  {
   "cell_type": "code",
   "execution_count": 14,
   "id": "2df3adce-36b1-42d9-9c31-acd0c0042510",
   "metadata": {},
   "outputs": [
    {
     "data": {
      "text/plain": [
       "140709286015912"
      ]
     },
     "execution_count": 14,
     "metadata": {},
     "output_type": "execute_result"
    }
   ],
   "source": [
    "id(a) # this implies the memory location of the variable 'a'"
   ]
  },
  {
   "cell_type": "code",
   "execution_count": 15,
   "id": "351b6d7b-e833-4dec-9af2-859dfae3a5ee",
   "metadata": {},
   "outputs": [],
   "source": [
    "# Multiple names can point to the same object\n",
    "b = a"
   ]
  },
  {
   "cell_type": "code",
   "execution_count": 16,
   "id": "35108bf7-d9ab-4851-9091-9e5e899ff747",
   "metadata": {},
   "outputs": [
    {
     "data": {
      "text/plain": [
       "140709286015912"
      ]
     },
     "execution_count": 16,
     "metadata": {},
     "output_type": "execute_result"
    }
   ],
   "source": [
    "id(b) # Notice the loactions are the same as above"
   ]
  },
  {
   "cell_type": "code",
   "execution_count": null,
   "id": "a8aca4ec-ce16-4c00-8aea-67035a618d80",
   "metadata": {},
   "outputs": [],
   "source": [
    "# Now if I call a in my Python script, it will treat it as the number 5 "
   ]
  },
  {
   "cell_type": "code",
   "execution_count": 17,
   "id": "dbbe2feb-ee6a-4fbc-ac44-b7cdba6839bd",
   "metadata": {},
   "outputs": [
    {
     "data": {
      "text/plain": [
       "10"
      ]
     },
     "execution_count": 17,
     "metadata": {},
     "output_type": "execute_result"
    }
   ],
   "source": [
    "# adding the objects or numbers 5 + 5 \n",
    "a + a"
   ]
  },
  {
   "cell_type": "markdown",
   "id": "d96ea80f-1868-4a97-9aa3-ce4f6292cbf0",
   "metadata": {},
   "source": [
    "What happend on reassignment?. Will Python let us write it over?"
   ]
  },
  {
   "cell_type": "code",
   "execution_count": null,
   "id": "ec99c782-f23e-4aac-8e95-1a619a33f068",
   "metadata": {},
   "outputs": [],
   "source": [
    "a = 10 # variable are overwritten "
   ]
  },
  {
   "cell_type": "markdown",
   "id": "35d74b26-412c-488c-b584-292e877bc95a",
   "metadata": {},
   "source": [
    "**The names used when creating variables need to follow a few rules**<br>\n",
    "1. Names can not start with numbers<br>\n",
    "2. There can be no spaces in the name, use _ instead<br>\n",
    "3. Can us use any symbols: ''',<>/?|()!@#$%^&*~-+<br>\n",
    "4. It's considered best practice (PEP8) that names are lowercase\n",
    "5. Avoid using the character 'l' (lowercase letter el), 'O'(uppercase letter oh), or 'I'(uppercase letter eye)"
   ]
  },
  {
   "cell_type": "code",
   "execution_count": 18,
   "id": "9b5a794a-0bf7-4cc9-8314-0cc238f12042",
   "metadata": {},
   "outputs": [
    {
     "data": {
      "text/plain": [
       "3.0"
      ]
     },
     "execution_count": 18,
     "metadata": {},
     "output_type": "execute_result"
    }
   ],
   "source": [
    "# Use object names to keep better track of what's going on in your code\n",
    "beans_price = 15\n",
    "discount = 0.2\n",
    "\n",
    "savings = beans_price * discount\n",
    "savings"
   ]
  },
  {
   "cell_type": "markdown",
   "id": "3aa77493-df23-494e-9d66-f49a4342d546",
   "metadata": {},
   "source": [
    "<font color='black'><div class=\"alert alert-info\"><strong>5. Dynamic typing and Type Casting</strong><br>"
   ]
  },
  {
   "cell_type": "markdown",
   "id": "e11fa939-7c16-4da4-a2ea-296b6e2dafc7",
   "metadata": {},
   "source": [
    "Python is a dynamically typed programming language, meaning\n",
    "- You don't declear variable types before using\n",
    "- Types can change automatically"
   ]
  },
  {
   "cell_type": "code",
   "execution_count": 19,
   "id": "91e81579-562c-4e5b-b777-45ccefa24b90",
   "metadata": {},
   "outputs": [],
   "source": [
    "name = 'Seiya'"
   ]
  },
  {
   "cell_type": "code",
   "execution_count": 20,
   "id": "28a16ace-2fc5-4847-b9b0-ee9f3744468c",
   "metadata": {},
   "outputs": [],
   "source": [
    "name = \"Mary\""
   ]
  },
  {
   "cell_type": "markdown",
   "id": "d12e744e-dd52-4ef2-aab5-aebf18ded50e",
   "metadata": {},
   "source": [
    "<font color='green'><strong>Pros of Dynamic typing</strong><br>\n",
    "- very easy to work with<br>\n",
    "- faster development time<br>\n",
    "</div></font>"
   ]
  },
  {
   "cell_type": "markdown",
   "id": "0cb6685e-65c4-4455-aeb2-a61297a6706d",
   "metadata": {},
   "source": [
    "<font color='red'><strong>Cons of Dynamic typing</strong><br>\n",
    "- may result in unexpected bugs\n",
    "- you need to be aware of the type()"
   ]
  },
  {
   "cell_type": "markdown",
   "id": "3e51b40f-de91-4bdf-ae92-18bd73ca678b",
   "metadata": {},
   "source": [
    "Casting is the process of converting from one data type to another "
   ]
  },
  {
   "cell_type": "code",
   "execution_count": 21,
   "id": "f827c962-b7af-4061-a6bd-0367cc94f7f4",
   "metadata": {},
   "outputs": [],
   "source": [
    "# lets store the the string \"10\" to a variable named 'Pay'\n",
    "\n",
    "pay = \"10\" # Note this is a string (text) and not a number. \n",
    "           # The reason is that the 10 is within two quotes "
   ]
  },
  {
   "cell_type": "code",
   "execution_count": 22,
   "id": "4fbe9ac3-a058-41c4-827f-c8dbaf4c8266",
   "metadata": {},
   "outputs": [],
   "source": [
    "# Now, if we add the integer 20 to pay, what do you think would happen?"
   ]
  },
  {
   "cell_type": "code",
   "execution_count": 23,
   "id": "76e9a86b-27ae-41c6-a241-d5018da127eb",
   "metadata": {},
   "outputs": [
    {
     "ename": "TypeError",
     "evalue": "can only concatenate str (not \"int\") to str",
     "output_type": "error",
     "traceback": [
      "\u001b[31m---------------------------------------------------------------------------\u001b[39m",
      "\u001b[31mTypeError\u001b[39m                                 Traceback (most recent call last)",
      "\u001b[36mCell\u001b[39m\u001b[36m \u001b[39m\u001b[32mIn[23]\u001b[39m\u001b[32m, line 1\u001b[39m\n\u001b[32m----> \u001b[39m\u001b[32m1\u001b[39m \u001b[43mpay\u001b[49m\u001b[43m \u001b[49m\u001b[43m+\u001b[49m\u001b[43m \u001b[49m\u001b[32;43m20\u001b[39;49m\n",
      "\u001b[31mTypeError\u001b[39m: can only concatenate str (not \"int\") to str"
     ]
    }
   ],
   "source": [
    "pay + 20"
   ]
  },
  {
   "cell_type": "code",
   "execution_count": null,
   "id": "8d0eaf49-53a2-426d-8079-3558eb6d73b6",
   "metadata": {},
   "outputs": [],
   "source": [
    "# Wow! We got an exception that states\n",
    "# TypeError: can only concatenate str (not \"int\") to str\n",
    "\n",
    "# The message is not that clear, what it simply means is that you can not\n",
    "# join a string (\"10\" saved in a pay variable) to an integer."
   ]
  },
  {
   "cell_type": "code",
   "execution_count": null,
   "id": "116a2d9c-8ffb-438c-a098-3a7e207f6691",
   "metadata": {},
   "outputs": [],
   "source": [
    "# To mitigate this issue, we convert the string (\"10\") saved in the variable pay\n",
    "# to an integer. The process of converting, which is given below, is known as \"casting\""
   ]
  },
  {
   "cell_type": "code",
   "execution_count": 24,
   "id": "5cc54803-eb47-4689-8304-16a98fcd2d8b",
   "metadata": {},
   "outputs": [
    {
     "data": {
      "text/plain": [
       "str"
      ]
     },
     "execution_count": 24,
     "metadata": {},
     "output_type": "execute_result"
    }
   ],
   "source": [
    "# Note pay holds the string \"10\".\n",
    "# How do we check if the type of variable is pay?\n",
    "\n",
    "type(pay) # As you can see below, it returns 'str', which stands for 'String'\n",
    "\n"
   ]
  },
  {
   "cell_type": "code",
   "execution_count": 25,
   "id": "a411f273-6637-4853-a5ac-bd21335652cf",
   "metadata": {},
   "outputs": [
    {
     "data": {
      "text/plain": [
       "int"
      ]
     },
     "execution_count": 25,
     "metadata": {},
     "output_type": "execute_result"
    }
   ],
   "source": [
    "# Let's assume we have a variable called 'extra_pay' with a value 20\n",
    "extra_pay = 20\n",
    "type(extra_pay) # Just like above, let's check the type of object (will talk about this in class) returned\n",
    "\n",
    "# The result below returned 'int', which stands for integer"
   ]
  },
  {
   "cell_type": "code",
   "execution_count": 26,
   "id": "6576166a-0540-4e3a-8be8-d3d4318a263b",
   "metadata": {},
   "outputs": [
    {
     "data": {
      "text/plain": [
       "30"
      ]
     },
     "execution_count": 26,
     "metadata": {},
     "output_type": "execute_result"
    }
   ],
   "source": [
    "# Now, back to casting. To add pay and extra_pay (i.e \"10\" + 20), we need to convert \"10\" to 10\n",
    "# or convert string 10 to integer 10 (casting)\n",
    "pay_rise = int(pay) + extra_pay\n",
    "pay_rise                                             "
   ]
  },
  {
   "cell_type": "markdown",
   "id": "d00ad367-84dd-4b5f-ad6e-000ae25d201f",
   "metadata": {},
   "source": [
    "<div class=\"alert alert-danger\"></i><i class=\"icon-attention-alt\"></i><strong>**Try it out**</strong><br><br>What output of the following questions be?<br><br>\n",
    "<strong>1, What would happen if you add a float and an integer?</strong><br>\n",
    "<strong>2, What would happen if you cast a float as an integer?</strong><br>\n",
    "<strong>2, What would happen if you cast an integer as a float?</strong><br>\n",
    "<strong>2, What would happen if you cast a string \"Hello\" as a float or integer?</strong><br>\n",
    "</div>"
   ]
  },
  {
   "cell_type": "code",
   "execution_count": 27,
   "id": "faae06f7-2dac-4c8f-878d-2ddb48603d92",
   "metadata": {},
   "outputs": [
    {
     "data": {
      "text/plain": [
       "'C:\\\\Users\\\\Seiya\\\\Desktop\\\\cft_lecture3'"
      ]
     },
     "execution_count": 27,
     "metadata": {},
     "output_type": "execute_result"
    }
   ],
   "source": [
    "pwd"
   ]
  }
 ],
 "metadata": {
  "kernelspec": {
   "display_name": "Python 3 (ipykernel)",
   "language": "python",
   "name": "python3"
  },
  "language_info": {
   "codemirror_mode": {
    "name": "ipython",
    "version": 3
   },
   "file_extension": ".py",
   "mimetype": "text/x-python",
   "name": "python",
   "nbconvert_exporter": "python",
   "pygments_lexer": "ipython3",
   "version": "3.11.9"
  }
 },
 "nbformat": 4,
 "nbformat_minor": 5
}
