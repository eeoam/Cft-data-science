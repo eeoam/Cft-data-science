{
 "cells": [
  {
   "cell_type": "markdown",
   "metadata": {},
   "source": [
    "<font color='green'><div class=\"alert alert-success\"><strong><H1>Numbers</H1></strong><br>\n",
    "We'll learn about the following topics:<br>\n",
    "    <strong>1.) Tuples<br>\n",
    "    <strong>2.) Dictionary <br>\n",
    "    <strong>3.) set<br>\n",
    "</div></font>"
   ]
  },
  {
   "cell_type": "markdown",
   "metadata": {},
   "source": [
    " <div class=\"alert alert-success\"></i><strong>1.0 Tuple\n",
    " </strong></div> A Tuple is an ordered, heterogeneous and immutable collection of elements.\n",
    "<br>If you have data that doesn't change, implementing it as a tuple will guarantee that it remains write-protected, such as longitude and latitude, and weekdays.<br>"
   ]
  },
  {
   "cell_type": "code",
   "execution_count": 11,
   "metadata": {},
   "outputs": [],
   "source": [
    "# To create an empty tuple\n",
    "empty_tuple = ()"
   ]
  },
  {
   "cell_type": "code",
   "execution_count": 12,
   "metadata": {},
   "outputs": [
    {
     "data": {
      "text/plain": [
       "('Monday', 'Tuesday', 'Wednesday', 'Thursday', 'Friday', 'Saturday', 'Sunday')"
      ]
     },
     "execution_count": 12,
     "metadata": {},
     "output_type": "execute_result"
    }
   ],
   "source": [
    "# to create a tuple, one could define a series of elements separated by a comma, like below:\n",
    "week_days = \"Monday\", \"Tuesday\", \"Wednesday\", \"Thursday\", \"Friday\", \"Saturday\", \"Sunday\"\n",
    "week_days"
   ]
  },
  {
   "cell_type": "code",
   "execution_count": 13,
   "metadata": {},
   "outputs": [
    {
     "data": {
      "text/plain": [
       "tuple"
      ]
     },
     "execution_count": 13,
     "metadata": {},
     "output_type": "execute_result"
    }
   ],
   "source": [
    "# Let's verify that this is a tuple by passing the variable tuple1 in type method as below\n",
    "type(week_days)"
   ]
  },
  {
   "cell_type": "code",
   "execution_count": 14,
   "metadata": {},
   "outputs": [
    {
     "data": {
      "text/plain": [
       "(3, 4, 7, 9)"
      ]
     },
     "execution_count": 14,
     "metadata": {},
     "output_type": "execute_result"
    }
   ],
   "source": [
    "# Though the above way of defining tuple is fine, it is strongly recommended NOT TO USE IT, rather\n",
    "# It is best to define tuples by passing elements between parentheses as shown below:\n",
    "my_numbers = (3, 4, 7, 9)\n",
    "my_numbers"
   ]
  },
  {
   "cell_type": "code",
   "execution_count": 15,
   "metadata": {},
   "outputs": [
    {
     "data": {
      "text/plain": [
       "tuple"
      ]
     },
     "execution_count": 15,
     "metadata": {},
     "output_type": "execute_result"
    }
   ],
   "source": [
    "# Again let us verify that the variable my_numbers is actually a tuple\n",
    "type(my_numbers)"
   ]
  },
  {
   "cell_type": "markdown",
   "metadata": {},
   "source": [
    "<div class=\"alert alert-danger\"></i><i class=\"icon-attention-alt\"></i>**Try it out**<br>How do we create a tuple with a single element?\n",
    "</div>"
   ]
  },
  {
   "cell_type": "code",
   "execution_count": 16,
   "metadata": {},
   "outputs": [
    {
     "data": {
      "text/plain": [
       "('Peter', 17, 'John', 18, 'Mary', 20)"
      ]
     },
     "execution_count": 16,
     "metadata": {},
     "output_type": "execute_result"
    }
   ],
   "source": [
    "# Note a tuple can hold any data type.\n",
    "# sequence or iterator can be converted to a tuple by invoking tuple\n",
    "this_is_a_list = [\"Peter\",17, \"John\", 18, \"Mary\", 20]\n",
    "this_is_a_list_now_tuple = tuple(this_is_a_list)\n",
    "this_is_a_list_now_tuple"
   ]
  },
  {
   "cell_type": "code",
   "execution_count": 17,
   "metadata": {},
   "outputs": [
    {
     "name": "stdout",
     "output_type": "stream",
     "text": [
      "('C', 'o', 'n', 'g', 'r', 'a', 't', 'u', 'l', 'a', 't', 'i', 'o', 'n', 's', '!')\n"
     ]
    }
   ],
   "source": [
    "# A tuple of string\n",
    "am_a_string = \"Congratulations!\"\n",
    "am_a_string_now_tuple = tuple(am_a_string)\n",
    "print(am_a_string_now_tuple)"
   ]
  },
  {
   "cell_type": "code",
   "execution_count": 18,
   "metadata": {},
   "outputs": [],
   "source": [
    "# Accessing Elements in a Tuple\n",
    "# All slicing and indexing techniques from list can be carried out on tuples"
   ]
  },
  {
   "cell_type": "code",
   "execution_count": 19,
   "metadata": {},
   "outputs": [
    {
     "data": {
      "text/plain": [
       "(1, 4, 6, 'cars', 0, 2, 'keys')"
      ]
     },
     "execution_count": 19,
     "metadata": {},
     "output_type": "execute_result"
    }
   ],
   "source": [
    "# Tuples can be concatenated\n",
    "tuple1 = (1, 4, 6, \"cars\")\n",
    "tuple2 = (0, 2, \"keys\")\n",
    "\n",
    "tuple1 + tuple2"
   ]
  },
  {
   "cell_type": "code",
   "execution_count": 20,
   "metadata": {},
   "outputs": [
    {
     "ename": "TypeError",
     "evalue": "'tuple' object does not support item assignment",
     "output_type": "error",
     "traceback": [
      "\u001b[31m---------------------------------------------------------------------------\u001b[39m",
      "\u001b[31mTypeError\u001b[39m                                 Traceback (most recent call last)",
      "\u001b[36mCell\u001b[39m\u001b[36m \u001b[39m\u001b[32mIn[20]\u001b[39m\u001b[32m, line 5\u001b[39m\n\u001b[32m      1\u001b[39m \u001b[38;5;66;03m# Tuples are immutable, However, If an object inside a tuple is mutable, such as a list, you can \u001b[39;00m\n\u001b[32m      2\u001b[39m \u001b[38;5;66;03m# modify it in-place, let's now try to change an element that is NOT mutable in a tuple, in this case\u001b[39;00m\n\u001b[32m      3\u001b[39m \u001b[38;5;66;03m# the first element: This returns an error\u001b[39;00m\n\u001b[32m      4\u001b[39m words = \u001b[38;5;28mtuple\u001b[39m([\u001b[33m'\u001b[39m\u001b[33mbasic\u001b[39m\u001b[33m'\u001b[39m, [\u001b[33m\"\u001b[39m\u001b[33mMonday\u001b[39m\u001b[33m\"\u001b[39m, \u001b[33m\"\u001b[39m\u001b[33mSaturday\u001b[39m\u001b[33m\"\u001b[39m], \u001b[38;5;28;01mTrue\u001b[39;00m])\n\u001b[32m----> \u001b[39m\u001b[32m5\u001b[39m \u001b[43mwords\u001b[49m\u001b[43m[\u001b[49m\u001b[32;43m0\u001b[39;49m\u001b[43m]\u001b[49m = \u001b[33m\"\u001b[39m\u001b[33mCredit\u001b[39m\u001b[33m\"\u001b[39m\n",
      "\u001b[31mTypeError\u001b[39m: 'tuple' object does not support item assignment"
     ]
    }
   ],
   "source": [
    "# Tuples are immutable, However, If an object inside a tuple is mutable, such as a list, you can \n",
    "# modify it in-place, let's now try to change an element that is NOT mutable in a tuple, in this case\n",
    "# the first element: This returns an error\n",
    "words = tuple(['basic', [\"Monday\", \"Saturday\"], True])\n",
    "words[0] = \"Credit\""
   ]
  },
  {
   "cell_type": "code",
   "execution_count": 21,
   "metadata": {},
   "outputs": [],
   "source": [
    "# Observing the variable words, we see that it does hold a list within the tuple and lists are mutable\n",
    "# This implies that we could change elements in the list, confused? let have a go!\n",
    "# Firstly, identify the index of the mutable element, in this case, the list is of index 1\n",
    "words[1].append(\"Sunday\")"
   ]
  },
  {
   "cell_type": "code",
   "execution_count": 22,
   "metadata": {},
   "outputs": [
    {
     "data": {
      "text/plain": [
       "('basic', ['Monday', 'Saturday', 'Sunday'], True)"
      ]
     },
     "execution_count": 22,
     "metadata": {},
     "output_type": "execute_result"
    }
   ],
   "source": [
    "# Let's confirm the above code worked\n",
    "words"
   ]
  },
  {
   "cell_type": "markdown",
   "metadata": {},
   "source": [
    "<div class=\"alert alert-danger\"></i><i class=\"icon-attention-alt\"></i>**Try it out**<br>Complete the mutable list with all the days of the week in their right order: your final\n",
    "output should look like:<br> \n",
    "('basic', ['Monday','Tuesday','Wednesday','Thursday','Friday','Saturday', 'Sunday'], True)\n",
    "</div>"
   ]
  },
  {
   "cell_type": "markdown",
   "metadata": {},
   "source": [
    " <div class=\"alert alert-success\"></i><strong>1.1 Deleting a Tuple\n",
    " </strong></div>Elements of a tuple CAN NOT be deleted, however the entire tuple variable can be deleted using the \"del\" keyword"
   ]
  },
  {
   "cell_type": "code",
   "execution_count": 23,
   "metadata": {},
   "outputs": [],
   "source": [
    "# Create a dummy tuple and uncomment the lines one at a time run\n",
    "# del attribute\n",
    "\n",
    "# This code would through an error\n",
    "# del words[0]\n",
    "\n",
    "# This code works\n",
    "# del words"
   ]
  },
  {
   "cell_type": "code",
   "execution_count": 24,
   "metadata": {},
   "outputs": [
    {
     "name": "stdout",
     "output_type": "stream",
     "text": [
      "Monday\n",
      "202\n",
      "Woolwich\n"
     ]
    }
   ],
   "source": [
    "# Tuple unpacking\n",
    "weekday, passcode, town = (\"Monday\", 202, \"Woolwich\")\n",
    "print(weekday)\n",
    "print(passcode)\n",
    "print(town)"
   ]
  },
  {
   "cell_type": "markdown",
   "metadata": {},
   "source": [
    "<div class=\"alert alert-info\"><i class=\"icon-lightbulb\"></i><strong>Discussion</strong><br>List all Python Tuple Methods\n",
    "</div>"
   ]
  },
  {
   "cell_type": "code",
   "execution_count": 25,
   "metadata": {},
   "outputs": [
    {
     "name": "stdout",
     "output_type": "stream",
     "text": [
      "['__add__', '__class__', '__class_getitem__', '__contains__', '__delattr__', '__dir__', '__doc__', '__eq__', '__format__', '__ge__', '__getattribute__', '__getitem__', '__getnewargs__', '__getstate__', '__gt__', '__hash__', '__init__', '__init_subclass__', '__iter__', '__le__', '__len__', '__lt__', '__mul__', '__ne__', '__new__', '__reduce__', '__reduce_ex__', '__repr__', '__rmul__', '__setattr__', '__sizeof__', '__str__', '__subclasshook__', 'count', 'index']\n"
     ]
    }
   ],
   "source": [
    "print(dir(words))"
   ]
  },
  {
   "cell_type": "code",
   "execution_count": 26,
   "metadata": {},
   "outputs": [
    {
     "name": "stdout",
     "output_type": "stream",
     "text": [
      "('e', 'l', 'e', 'm', 'e', 'n', 't', 's')\n",
      "True\n",
      "True\n"
     ]
    }
   ],
   "source": [
    "#Tuple Membership Test\n",
    "string1 = tuple(\"elements\")\n",
    "print(string1)\n",
    "print(\"e\" in string1)\n",
    "print(\"z\" not in string1)"
   ]
  },
  {
   "cell_type": "markdown",
   "metadata": {},
   "source": [
    " <div class=\"alert alert-success\"></i><strong>2.0 dict (Dictionary)\n",
    " </strong></div>A very important built-in Python data structure is the dict also known as the hash map or associative array. \n",
    "It is a collection of key-value pairs, where key and value are Python objects. \n",
    "One way to creating a dict is to use curly braces {} and colons to separate keys and values or by passing a key value pair to a dict method."
   ]
  },
  {
   "cell_type": "code",
   "execution_count": 27,
   "metadata": {},
   "outputs": [],
   "source": [
    "# Create an empty dictionary, by assigning a variable to an empty curly braces\n",
    "an_empty_dict = {}"
   ]
  },
  {
   "cell_type": "code",
   "execution_count": 28,
   "metadata": {},
   "outputs": [
    {
     "data": {
      "text/plain": [
       "{'Joe': 30, 'Jane': 26, 'Philip': 14}"
      ]
     },
     "execution_count": 28,
     "metadata": {},
     "output_type": "execute_result"
    }
   ],
   "source": [
    "# A populated dictionary with key, value pairs\n",
    "student_names_age = {'Joe':30,'Jane':26,'Philip':14}\n",
    "student_names_age"
   ]
  },
  {
   "cell_type": "code",
   "execution_count": 29,
   "metadata": {
    "scrolled": true
   },
   "outputs": [
    {
     "data": {
      "text/plain": [
       "{'Mark': 17, 'Sandra': 19, 'Mary': 29}"
      ]
     },
     "execution_count": 29,
     "metadata": {},
     "output_type": "execute_result"
    }
   ],
   "source": [
    "# The other way of defining a dictionary is using the dict method, here we defined a list of tuple\n",
    "# holding a name and age values.\n",
    "student_names_age_list = [(\"Mark\", 17), (\"Sandra\", 19), (\"Mary\", 29)]\n",
    "student_names_age_list_dict = dict(student_names_age_list)\n",
    "student_names_age_list_dict"
   ]
  },
  {
   "cell_type": "markdown",
   "metadata": {},
   "source": [
    "One can access, insert, or set elements of a dictionary using the same syntax as for accessing elements\n",
    "of a list."
   ]
  },
  {
   "cell_type": "code",
   "execution_count": 30,
   "metadata": {},
   "outputs": [
    {
     "name": "stdout",
     "output_type": "stream",
     "text": [
      "{'Mark': 17, 'Sandra': 19, 'Mary': 29, 'Donald': 25}\n"
     ]
    }
   ],
   "source": [
    "# Let's insert the name Donald and an age of 25 to the student_names_age_list_dict variable\n",
    "student_names_age_list_dict[\"Donald\"] = 25\n",
    "print(student_names_age_list_dict)"
   ]
  },
  {
   "cell_type": "code",
   "execution_count": 31,
   "metadata": {},
   "outputs": [
    {
     "name": "stdout",
     "output_type": "stream",
     "text": [
      "{'Mark': 17, 'Sandra': 29, 'Mary': 29, 'Donald': 25}\n"
     ]
    }
   ],
   "source": [
    "# Let's set the age value of Sandra from 19 to 29\n",
    "student_names_age_list_dict['Sandra'] = 29\n",
    "print(student_names_age_list_dict)"
   ]
  },
  {
   "cell_type": "code",
   "execution_count": 32,
   "metadata": {},
   "outputs": [
    {
     "name": "stdout",
     "output_type": "stream",
     "text": [
      "{'Sunday': 7, 'Monday': 5, 'Tuesday': 9, 'Wednesday': 4}\n"
     ]
    }
   ],
   "source": [
    "#One could also join two dictionaries, using the update method\n",
    "first_dictionary = {'Sunday': 7, 'Monday': 5}\n",
    "second_dictionary = {'Tuesday': 9, 'Wednesday': 4}\n",
    "\n",
    "first_dictionary.update(second_dictionary)\n",
    "print(first_dictionary)"
   ]
  },
  {
   "cell_type": "code",
   "execution_count": 33,
   "metadata": {},
   "outputs": [
    {
     "data": {
      "text/plain": [
       "7"
      ]
     },
     "execution_count": 33,
     "metadata": {},
     "output_type": "execute_result"
    }
   ],
   "source": [
    "# Access elements from a dictionary\n",
    "first_dictionary['Sunday']"
   ]
  },
  {
   "cell_type": "code",
   "execution_count": 34,
   "metadata": {},
   "outputs": [
    {
     "ename": "KeyError",
     "evalue": "'Friday'",
     "output_type": "error",
     "traceback": [
      "\u001b[31m---------------------------------------------------------------------------\u001b[39m",
      "\u001b[31mKeyError\u001b[39m                                  Traceback (most recent call last)",
      "\u001b[36mCell\u001b[39m\u001b[36m \u001b[39m\u001b[32mIn[34]\u001b[39m\u001b[32m, line 2\u001b[39m\n\u001b[32m      1\u001b[39m \u001b[38;5;66;03m# If you try to access key NOT in the dictionary, we would get an error\u001b[39;00m\n\u001b[32m----> \u001b[39m\u001b[32m2\u001b[39m \u001b[43mfirst_dictionary\u001b[49m\u001b[43m[\u001b[49m\u001b[33;43m'\u001b[39;49m\u001b[33;43mFriday\u001b[39;49m\u001b[33;43m'\u001b[39;49m\u001b[43m]\u001b[49m\n",
      "\u001b[31mKeyError\u001b[39m: 'Friday'"
     ]
    }
   ],
   "source": [
    "# If you try to access key NOT in the dictionary, we would get an error\n",
    "first_dictionary['Friday']"
   ]
  },
  {
   "cell_type": "code",
   "execution_count": 35,
   "metadata": {},
   "outputs": [
    {
     "data": {
      "text/plain": [
       "'No such key'"
      ]
     },
     "execution_count": 35,
     "metadata": {},
     "output_type": "execute_result"
    }
   ],
   "source": [
    "# However, you could still try to access a key NOT IN the dictionary without returning errors\n",
    "# by using the .get() method\n",
    "# Let's try to access the Friday key again.\n",
    "first_dictionary.get('Friday','No such key')"
   ]
  },
  {
   "cell_type": "code",
   "execution_count": 36,
   "metadata": {},
   "outputs": [
    {
     "data": {
      "text/plain": [
       "['Sunday', 'Monday', 'Tuesday', 'Wednesday']"
      ]
     },
     "execution_count": 36,
     "metadata": {},
     "output_type": "execute_result"
    }
   ],
   "source": [
    "# Keys\n",
    "# To list all keys, run the code below\n",
    "list(first_dictionary.keys())"
   ]
  },
  {
   "cell_type": "code",
   "execution_count": 37,
   "metadata": {},
   "outputs": [
    {
     "data": {
      "text/plain": [
       "[7, 5, 9, 4]"
      ]
     },
     "execution_count": 37,
     "metadata": {},
     "output_type": "execute_result"
    }
   ],
   "source": [
    "# values\n",
    "# Similarly, to list all the vales in the dictionary, run the code below\n",
    "list(first_dictionary.values())"
   ]
  },
  {
   "cell_type": "code",
   "execution_count": 38,
   "metadata": {},
   "outputs": [
    {
     "data": {
      "text/plain": [
       "('Wednesday', 4)"
      ]
     },
     "execution_count": 38,
     "metadata": {},
     "output_type": "execute_result"
    }
   ],
   "source": [
    "# Delete or remove elements from a dictionary\n",
    "# To delete key value pairs, use any of the methods, pop(), popitem() or del()\n",
    "del first_dictionary['Sunday'] # This would delete 'Sunday' and its corresponding value, 7\n",
    "\n",
    "first_dictionary.pop('Tuesday') # This would show the deleted value\n",
    "\n",
    "first_dictionary.popitem()"
   ]
  },
  {
   "cell_type": "markdown",
   "metadata": {},
   "source": [
    " <div class=\"alert alert-success\"></i><strong>3.0 Set\n",
    " </strong></div>A set is an unordered collection of unique, mutable objects.However, sets are mutable and can be created in two ways via the set function or via a set literal with curly braces:"
   ]
  },
  {
   "cell_type": "code",
   "execution_count": 39,
   "metadata": {},
   "outputs": [
    {
     "name": "stdout",
     "output_type": "stream",
     "text": [
      "{10, 15, 50, 20, 24, 60}\n"
     ]
    }
   ],
   "source": [
    "# create a set calling the set methods\n",
    "p = set([10, 15, 20, 20, 24, 50, 50, 60])\n",
    "print(p)"
   ]
  },
  {
   "cell_type": "code",
   "execution_count": 40,
   "metadata": {},
   "outputs": [
    {
     "ename": "TypeError",
     "evalue": "'set' object is not subscriptable",
     "output_type": "error",
     "traceback": [
      "\u001b[31m---------------------------------------------------------------------------\u001b[39m",
      "\u001b[31mTypeError\u001b[39m                                 Traceback (most recent call last)",
      "\u001b[36mCell\u001b[39m\u001b[36m \u001b[39m\u001b[32mIn[40]\u001b[39m\u001b[32m, line 2\u001b[39m\n\u001b[32m      1\u001b[39m \u001b[38;5;66;03m# Note: Sets does not support indexing, running the code below would give a syntax error\u001b[39;00m\n\u001b[32m----> \u001b[39m\u001b[32m2\u001b[39m \u001b[43mp\u001b[49m\u001b[43m[\u001b[49m\u001b[32;43m0\u001b[39;49m\u001b[43m]\u001b[49m\n",
      "\u001b[31mTypeError\u001b[39m: 'set' object is not subscriptable"
     ]
    }
   ],
   "source": [
    "# Note: Sets does not support indexing, running the code below would give a syntax error\n",
    "p[0]"
   ]
  },
  {
   "cell_type": "code",
   "execution_count": 41,
   "metadata": {},
   "outputs": [
    {
     "name": "stdout",
     "output_type": "stream",
     "text": [
      "<class 'set'>\n"
     ]
    }
   ],
   "source": [
    "# Verify the object type\n",
    "print(type(p))"
   ]
  },
  {
   "cell_type": "code",
   "execution_count": 42,
   "metadata": {},
   "outputs": [
    {
     "name": "stdout",
     "output_type": "stream",
     "text": [
      "{100, 10, 15, 50, 20, 24, 60}\n"
     ]
    }
   ],
   "source": [
    "# to add a singel item or element to a set, use the add method\n",
    "p.add(100)\n",
    "print(p)"
   ]
  },
  {
   "cell_type": "code",
   "execution_count": 43,
   "metadata": {},
   "outputs": [
    {
     "name": "stdout",
     "output_type": "stream",
     "text": [
      "{100, 10, 12, 15, 50, 20, 24, 56, 60}\n"
     ]
    }
   ],
   "source": [
    "# to add several items to a set use the update method\n",
    "p.update([20,12,56,100,])\n",
    "print(p)"
   ]
  },
  {
   "cell_type": "code",
   "execution_count": 44,
   "metadata": {},
   "outputs": [
    {
     "name": "stdout",
     "output_type": "stream",
     "text": [
      "{10, 12, 15, 50, 20, 24, 56, 60}\n"
     ]
    }
   ],
   "source": [
    "# To remove an element from a set use the remove method\n",
    "# As you can see 100 has been removed\n",
    "p.remove(100)\n",
    "print(p)"
   ]
  },
  {
   "cell_type": "code",
   "execution_count": 45,
   "metadata": {},
   "outputs": [
    {
     "ename": "KeyError",
     "evalue": "300",
     "output_type": "error",
     "traceback": [
      "\u001b[31m---------------------------------------------------------------------------\u001b[39m",
      "\u001b[31mKeyError\u001b[39m                                  Traceback (most recent call last)",
      "\u001b[36mCell\u001b[39m\u001b[36m \u001b[39m\u001b[32mIn[45]\u001b[39m\u001b[32m, line 2\u001b[39m\n\u001b[32m      1\u001b[39m \u001b[38;5;66;03m# On trying to remove an item that does not exist throws an error\u001b[39;00m\n\u001b[32m----> \u001b[39m\u001b[32m2\u001b[39m \u001b[43mp\u001b[49m\u001b[43m.\u001b[49m\u001b[43mremove\u001b[49m\u001b[43m(\u001b[49m\u001b[32;43m300\u001b[39;49m\u001b[43m)\u001b[49m\n",
      "\u001b[31mKeyError\u001b[39m: 300"
     ]
    }
   ],
   "source": [
    "# On trying to remove an item that does not exist throws an error\n",
    "p.remove(300)"
   ]
  },
  {
   "cell_type": "code",
   "execution_count": 46,
   "metadata": {},
   "outputs": [
    {
     "name": "stdout",
     "output_type": "stream",
     "text": [
      "{10, 12, 15, 50, 20, 24, 56, 60}\n"
     ]
    }
   ],
   "source": [
    "# We could get a nicer output even when an item we intend to delete does not exist in the set, \n",
    "# using discard method\n",
    "p.discard(300)\n",
    "print(p)"
   ]
  },
  {
   "cell_type": "markdown",
   "metadata": {},
   "source": [
    " <div class=\"alert alert-success\"></i><strong>4.0 mathematical set operations</strong>\n",
    " </div>"
   ]
  },
  {
   "cell_type": "code",
   "execution_count": 47,
   "metadata": {},
   "outputs": [],
   "source": [
    "# lets consider these two sets\n",
    "set1 = {\"Orange\", \"Apple\", \"Grapes\", \"Melon\", \"Berries\"}\n",
    "set2 = {\"Grapes\", \"Melon\", \"Berries\", \"Apricot\", \"Banana\", \"Beetroot\"}"
   ]
  },
  {
   "cell_type": "code",
   "execution_count": 48,
   "metadata": {},
   "outputs": [
    {
     "name": "stdout",
     "output_type": "stream",
     "text": [
      "{'Melon', 'Beetroot', 'Apricot', 'Banana', 'Grapes', 'Berries', 'Apple', 'Orange'}\n"
     ]
    }
   ],
   "source": [
    "# Union\n",
    "# The union of two sets is the set of distinct elements occurring in both set. \n",
    "# This can be computed with either the union method or the | binary operator\n",
    "print(set1.union(set2))"
   ]
  },
  {
   "cell_type": "code",
   "execution_count": 49,
   "metadata": {},
   "outputs": [
    {
     "name": "stdout",
     "output_type": "stream",
     "text": [
      "{'Melon', 'Beetroot', 'Apricot', 'Banana', 'Grapes', 'Berries', 'Apple', 'Orange'}\n"
     ]
    }
   ],
   "source": [
    "print(set1 | set2)"
   ]
  },
  {
   "cell_type": "code",
   "execution_count": 50,
   "metadata": {},
   "outputs": [
    {
     "data": {
      "text/plain": [
       "{'Berries', 'Grapes', 'Melon'}"
      ]
     },
     "execution_count": 50,
     "metadata": {},
     "output_type": "execute_result"
    }
   ],
   "source": [
    "# Intersection\n",
    "# The intersection contains elements occurring in both sets. \n",
    "# The & operator or the intersection method can be used\n",
    "set1.intersection(set2)"
   ]
  },
  {
   "cell_type": "code",
   "execution_count": 51,
   "metadata": {},
   "outputs": [
    {
     "data": {
      "text/plain": [
       "{'Berries', 'Grapes', 'Melon'}"
      ]
     },
     "execution_count": 51,
     "metadata": {},
     "output_type": "execute_result"
    }
   ],
   "source": [
    "set1 & set2"
   ]
  },
  {
   "cell_type": "code",
   "execution_count": 52,
   "metadata": {},
   "outputs": [
    {
     "data": {
      "text/plain": [
       "{'Apple', 'Orange'}"
      ]
     },
     "execution_count": 52,
     "metadata": {},
     "output_type": "execute_result"
    }
   ],
   "source": [
    "# This code would return all the elements in set1 that are not in set2\n",
    "set1.difference(set2)"
   ]
  },
  {
   "cell_type": "code",
   "execution_count": null,
   "metadata": {},
   "outputs": [],
   "source": []
  }
 ],
 "metadata": {
  "kernelspec": {
   "display_name": "Python 3 (ipykernel)",
   "language": "python",
   "name": "python3"
  },
  "language_info": {
   "codemirror_mode": {
    "name": "ipython",
    "version": 3
   },
   "file_extension": ".py",
   "mimetype": "text/x-python",
   "name": "python",
   "nbconvert_exporter": "python",
   "pygments_lexer": "ipython3",
   "version": "3.11.9"
  }
 },
 "nbformat": 4,
 "nbformat_minor": 4
}
