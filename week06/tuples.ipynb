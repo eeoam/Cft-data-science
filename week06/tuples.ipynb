{
 "cells": [
  {
   "cell_type": "markdown",
   "id": "d20b4c0b",
   "metadata": {},
   "source": [
    "# Tuples"
   ]
  },
  {
   "cell_type": "code",
   "execution_count": 11,
   "id": "e5e7065c",
   "metadata": {},
   "outputs": [
    {
     "name": "stdout",
     "output_type": "stream",
     "text": [
      "()\n"
     ]
    }
   ],
   "source": [
    "empty_tuple = tuple()\n",
    "\n",
    "print(empty_tuple)"
   ]
  },
  {
   "cell_type": "code",
   "execution_count": 2,
   "id": "9964e536",
   "metadata": {},
   "outputs": [
    {
     "name": "stdout",
     "output_type": "stream",
     "text": [
      "('History', 'Math', 'Physics', 'CompSci')\n",
      "('History', 'Math', 'Physics', 'CompSci')\n"
     ]
    }
   ],
   "source": [
    "tuple_1 = (\"History\", \"Math\", \"Physics\", \"CompSci\")\n",
    "tuple_2 = tuple_1\n",
    "\n",
    "\n",
    "# Tuples are immutable so assignment not supported\n",
    "#tuple_1[0] = \"Art\"\n",
    "\n",
    "print(tuple_1)\n",
    "print(tuple_2)"
   ]
  },
  {
   "cell_type": "markdown",
   "id": "8ec9d13c",
   "metadata": {},
   "source": [
    "# Sets"
   ]
  },
  {
   "cell_type": "code",
   "execution_count": 12,
   "id": "7e6b4059",
   "metadata": {},
   "outputs": [
    {
     "name": "stdout",
     "output_type": "stream",
     "text": [
      "set()\n"
     ]
    }
   ],
   "source": [
    "empty_set = set()\n",
    "print(empty_set)"
   ]
  },
  {
   "cell_type": "code",
   "execution_count": null,
   "id": "01e9014d",
   "metadata": {},
   "outputs": [
    {
     "name": "stdout",
     "output_type": "stream",
     "text": [
      "{'Computing', 'History', 'Physics', 'Maths'}\n"
     ]
    }
   ],
   "source": [
    "courses = {\"History\", \"Maths\", \"Physics\", \"Computing\"}\n",
    "\n",
    "print(courses)"
   ]
  },
  {
   "cell_type": "code",
   "execution_count": null,
   "id": "63e8db6a",
   "metadata": {},
   "outputs": [
    {
     "name": "stdout",
     "output_type": "stream",
     "text": [
      "{'Computing', 'History', 'Physics', 'Maths'}\n"
     ]
    }
   ],
   "source": [
    "courses1 = {\"History\", \"Maths\", \"Physics\", \"Computing\", \"Maths\"}\n",
    "\n",
    "print(courses1)"
   ]
  },
  {
   "cell_type": "code",
   "execution_count": 6,
   "id": "2f203223",
   "metadata": {},
   "outputs": [
    {
     "name": "stdout",
     "output_type": "stream",
     "text": [
      "True\n"
     ]
    }
   ],
   "source": [
    "print(\"Maths\" in courses1)"
   ]
  },
  {
   "cell_type": "code",
   "execution_count": null,
   "id": "f1f52120",
   "metadata": {},
   "outputs": [
    {
     "name": "stdout",
     "output_type": "stream",
     "text": [
      "{'History', 'Maths'}\n"
     ]
    }
   ],
   "source": [
    "courses2 = {\"History\", \"Art\", \"Maths\", \"Design\"}\n",
    "\n",
    "# In both courses1 and courses2\n",
    "print(courses1.intersection(courses2))"
   ]
  },
  {
   "cell_type": "code",
   "execution_count": 9,
   "id": "ba4b14f5",
   "metadata": {},
   "outputs": [
    {
     "name": "stdout",
     "output_type": "stream",
     "text": [
      "{'Computing', 'Physics'}\n"
     ]
    }
   ],
   "source": [
    "# In courses1 but not courses2\n",
    "print(courses1.difference(courses2))"
   ]
  },
  {
   "cell_type": "code",
   "execution_count": 10,
   "id": "edadd182",
   "metadata": {},
   "outputs": [
    {
     "name": "stdout",
     "output_type": "stream",
     "text": [
      "{'Physics', 'Art', 'Computing', 'History', 'Design', 'Maths'}\n"
     ]
    }
   ],
   "source": [
    "# In either courses1 or courses2\n",
    "print(courses1.union(courses2))"
   ]
  },
  {
   "cell_type": "markdown",
   "id": "0770dcc0",
   "metadata": {},
   "source": [
    "# Dictionaries"
   ]
  },
  {
   "cell_type": "code",
   "execution_count": 13,
   "id": "a1e9d274",
   "metadata": {},
   "outputs": [
    {
     "name": "stdout",
     "output_type": "stream",
     "text": [
      "{}\n"
     ]
    }
   ],
   "source": [
    "empty_dict = {}\n",
    "print(empty_dict)"
   ]
  },
  {
   "cell_type": "code",
   "execution_count": 14,
   "id": "f6e1c8c3",
   "metadata": {},
   "outputs": [
    {
     "name": "stdout",
     "output_type": "stream",
     "text": [
      "{'name': 'John', 'age': 25, 'courses': ['Maths', 'Computing']}\n"
     ]
    }
   ],
   "source": [
    "student = { \"name\": \"John\", \"age\":25, \"courses\" : [\"Maths\", \"Computing\"]}\n",
    "\n",
    "print(student)"
   ]
  },
  {
   "cell_type": "code",
   "execution_count": 15,
   "id": "ccad188d",
   "metadata": {},
   "outputs": [
    {
     "name": "stdout",
     "output_type": "stream",
     "text": [
      "John\n"
     ]
    }
   ],
   "source": [
    "print(student[\"name\"])"
   ]
  },
  {
   "cell_type": "code",
   "execution_count": 16,
   "id": "a61f5d14",
   "metadata": {},
   "outputs": [
    {
     "name": "stdout",
     "output_type": "stream",
     "text": [
      "['Maths', 'Computing']\n"
     ]
    }
   ],
   "source": [
    "print(student[\"courses\"])"
   ]
  },
  {
   "cell_type": "code",
   "execution_count": 17,
   "id": "8c0af670",
   "metadata": {},
   "outputs": [
    {
     "ename": "KeyError",
     "evalue": "'phone'",
     "output_type": "error",
     "traceback": [
      "\u001b[31m---------------------------------------------------------------------------\u001b[39m",
      "\u001b[31mKeyError\u001b[39m                                  Traceback (most recent call last)",
      "\u001b[36mCell\u001b[39m\u001b[36m \u001b[39m\u001b[32mIn[17]\u001b[39m\u001b[32m, line 2\u001b[39m\n\u001b[32m      1\u001b[39m \u001b[38;5;66;03m# What if a key does not exist?\u001b[39;00m\n\u001b[32m----> \u001b[39m\u001b[32m2\u001b[39m \u001b[38;5;28mprint\u001b[39m(\u001b[43mstudent\u001b[49m\u001b[43m[\u001b[49m\u001b[33;43m\"\u001b[39;49m\u001b[33;43mphone\u001b[39;49m\u001b[33;43m\"\u001b[39;49m\u001b[43m]\u001b[49m)\n",
      "\u001b[31mKeyError\u001b[39m: 'phone'"
     ]
    }
   ],
   "source": [
    "# What if a key does not exist?\n",
    "print(student[\"phone\"])"
   ]
  },
  {
   "cell_type": "code",
   "execution_count": null,
   "id": "491444b2",
   "metadata": {},
   "outputs": [
    {
     "name": "stdout",
     "output_type": "stream",
     "text": [
      "None\n"
     ]
    }
   ],
   "source": [
    "# Use get to avoid crashing with a KeyError\n",
    "print(student.get(\"phone\"))"
   ]
  },
  {
   "cell_type": "code",
   "execution_count": 19,
   "id": "44692703",
   "metadata": {},
   "outputs": [
    {
     "name": "stdout",
     "output_type": "stream",
     "text": [
      "phone Not Found\n"
     ]
    }
   ],
   "source": [
    "# Even better, specify a default value:\n",
    "print(student.get(\"phone\", \"phone Not Found\"))"
   ]
  },
  {
   "cell_type": "code",
   "execution_count": null,
   "id": "e78df66d",
   "metadata": {},
   "outputs": [
    {
     "name": "stdout",
     "output_type": "stream",
     "text": [
      "123-4567\n"
     ]
    }
   ],
   "source": [
    "# Adding an entry to the dictionary\n",
    "student[\"phone\"] = \"123-4567\"\n",
    "\n",
    "print(student.get(\"phone\", \"phone Not Found\"))"
   ]
  },
  {
   "cell_type": "code",
   "execution_count": null,
   "id": "a9a35e1b",
   "metadata": {},
   "outputs": [
    {
     "name": "stdout",
     "output_type": "stream",
     "text": [
      "{'name': 'Jane', 'age': 25, 'courses': ['Maths', 'Computing'], 'phone': '123-4567'}\n"
     ]
    }
   ],
   "source": [
    "# Update an entry\n",
    "student[\"name\"] = \"Jane\"\n",
    "\n",
    "print(student)"
   ]
  },
  {
   "cell_type": "code",
   "execution_count": 24,
   "id": "7d0ab7b8",
   "metadata": {},
   "outputs": [
    {
     "name": "stdout",
     "output_type": "stream",
     "text": [
      "{'name': 'James', 'age': 26, 'courses': ['Maths', 'Computing'], 'phone': '234-5678'}\n"
     ]
    }
   ],
   "source": [
    "# Update multiple entries\n",
    "student.update({\"name\": \"James\", \"age\":26, \"phone\":\"234-5678\"})\n",
    "\n",
    "print(student)"
   ]
  },
  {
   "cell_type": "code",
   "execution_count": 25,
   "id": "8f1cbfcb",
   "metadata": {},
   "outputs": [
    {
     "name": "stdout",
     "output_type": "stream",
     "text": [
      "{'name': 'James', 'courses': ['Maths', 'Computing'], 'phone': '234-5678'}\n"
     ]
    }
   ],
   "source": [
    "# Delete an entry\n",
    "del student[\"age\"]\n",
    "print(student)"
   ]
  },
  {
   "cell_type": "code",
   "execution_count": 26,
   "id": "509abbc8",
   "metadata": {},
   "outputs": [
    {
     "name": "stdout",
     "output_type": "stream",
     "text": [
      "{'name': 'James', 'courses': ['Maths', 'Computing']}\n",
      "234-5678\n"
     ]
    }
   ],
   "source": [
    "# remove an entry and get its value\n",
    "phone = student.pop(\"phone\")\n",
    "\n",
    "print(student)\n",
    "print(phone)"
   ]
  },
  {
   "cell_type": "code",
   "execution_count": 29,
   "id": "3fd27da4",
   "metadata": {},
   "outputs": [
    {
     "name": "stdout",
     "output_type": "stream",
     "text": [
      "4\n",
      "dict_keys(['name', 'age', 'courses', 'phone'])\n",
      "dict_values(['James', 26, ['Maths', 'Computing'], '234-5678'])\n",
      "dict_items([('name', 'James'), ('age', 26), ('courses', ['Maths', 'Computing']), ('phone', '234-5678')])\n"
     ]
    }
   ],
   "source": [
    "student = {'name': 'James', 'age': 26, 'courses': ['Maths', 'Computing'], 'phone': '234-5678'}\n",
    "\n",
    "# How many entries?\n",
    "print(len(student))\n",
    "\n",
    "# What are the keys?\n",
    "print(student.keys())\n",
    "\n",
    "# What the values?\n",
    "print(student.values())\n",
    "\n",
    "# What are the keys and values?\n",
    "print(student.items())"
   ]
  },
  {
   "cell_type": "code",
   "execution_count": 31,
   "id": "9f7fce42",
   "metadata": {},
   "outputs": [
    {
     "name": "stdout",
     "output_type": "stream",
     "text": [
      "name\n",
      "age\n",
      "courses\n",
      "phone\n"
     ]
    }
   ],
   "source": [
    "# Loop through keys only\n",
    "for key in student:\n",
    "    print(key)"
   ]
  },
  {
   "cell_type": "code",
   "execution_count": 32,
   "id": "d3757e75",
   "metadata": {},
   "outputs": [
    {
     "name": "stdout",
     "output_type": "stream",
     "text": [
      "name James\n",
      "age 26\n",
      "courses ['Maths', 'Computing']\n",
      "phone 234-5678\n"
     ]
    }
   ],
   "source": [
    "# Loop through entries\n",
    "for key , value in student.items():\n",
    "    print(key, value)"
   ]
  }
 ],
 "metadata": {
  "kernelspec": {
   "display_name": "Python 3",
   "language": "python",
   "name": "python3"
  },
  "language_info": {
   "codemirror_mode": {
    "name": "ipython",
    "version": 3
   },
   "file_extension": ".py",
   "mimetype": "text/x-python",
   "name": "python",
   "nbconvert_exporter": "python",
   "pygments_lexer": "ipython3",
   "version": "3.11.8"
  }
 },
 "nbformat": 4,
 "nbformat_minor": 5
}
