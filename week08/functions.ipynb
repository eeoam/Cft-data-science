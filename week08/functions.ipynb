{
 "cells": [
  {
   "cell_type": "markdown",
   "id": "afc78219",
   "metadata": {},
   "source": [
    "# Functions"
   ]
  },
  {
   "cell_type": "code",
   "execution_count": null,
   "id": "a4b520f4",
   "metadata": {},
   "outputs": [
    {
     "name": "stdout",
     "output_type": "stream",
     "text": [
      "<function hello_func at 0x7aa219e39bc0>\n",
      "None\n"
     ]
    }
   ],
   "source": [
    "# 0\n",
    "def hello_func():\n",
    "    pass\n",
    "\n",
    "print(hello_func)\n",
    "print(hello_func())"
   ]
  },
  {
   "cell_type": "code",
   "execution_count": null,
   "id": "eef8a790",
   "metadata": {},
   "outputs": [
    {
     "name": "stdout",
     "output_type": "stream",
     "text": [
      "Hello function!\n"
     ]
    }
   ],
   "source": [
    "# 1\n",
    "def hello_func():\n",
    "    print(\"Hello function!\")\n",
    "\n",
    "hello_func()"
   ]
  },
  {
   "cell_type": "code",
   "execution_count": 6,
   "id": "349784dc",
   "metadata": {},
   "outputs": [
    {
     "name": "stdout",
     "output_type": "stream",
     "text": [
      "Hello Function!\n",
      "HELLO FUNCTION!\n"
     ]
    }
   ],
   "source": [
    "# 2\n",
    "def hello_func():\n",
    "    return \"Hello Function!\"\n",
    "\n",
    "print(hello_func())\n",
    "print(hello_func().upper())"
   ]
  },
  {
   "cell_type": "code",
   "execution_count": 8,
   "id": "798bb729",
   "metadata": {},
   "outputs": [
    {
     "name": "stdout",
     "output_type": "stream",
     "text": [
      "Hi function\n"
     ]
    }
   ],
   "source": [
    "# 3\n",
    "def f(greeting):\n",
    "    return f\"{greeting} function\"\n",
    "\n",
    "print(f(\"Hi\"))"
   ]
  },
  {
   "cell_type": "code",
   "execution_count": null,
   "id": "73fdb89a",
   "metadata": {},
   "outputs": [
    {
     "name": "stdout",
     "output_type": "stream",
     "text": [
      "Hi, sir\n",
      "Hi, Eric\n"
     ]
    }
   ],
   "source": [
    "# 4\n",
    "def f(greeting, name=\"sir\"): # named & optional arguments must follow mandatory arguments\n",
    "    return f\"{greeting}, {name}\"\n",
    "\n",
    "print(f(\"Hi\"))\n",
    "print(f(\"Hi\", \"Eric\"))"
   ]
  },
  {
   "cell_type": "code",
   "execution_count": 11,
   "id": "a84510fa",
   "metadata": {},
   "outputs": [
    {
     "name": "stdout",
     "output_type": "stream",
     "text": [
      "('Math', 'Art')\n",
      "{'name': 'John', 'age': '22'}\n"
     ]
    }
   ],
   "source": [
    "# 5\n",
    "def student_info(*args, **kwargs):\n",
    "    print(args)\n",
    "    print(kwargs)\n",
    "\n",
    "student_info(\"Math\", \"Art\", name=\"John\", age=\"22\")"
   ]
  },
  {
   "cell_type": "code",
   "execution_count": null,
   "id": "ce6b204a",
   "metadata": {},
   "outputs": [
    {
     "name": "stdout",
     "output_type": "stream",
     "text": [
      "(['Math', 'Art'], {'name': 'John', 'age': 22})\n",
      "{}\n",
      "('Math', 'Art')\n",
      "{'name': 'John', 'age': 22}\n"
     ]
    }
   ],
   "source": [
    "courses = [ \"Math\", \"Art\" ]\n",
    "info = { \"name\": \"John\", \"age\": 22 }\n",
    "\n",
    "student_info(courses, info)\n",
    "student_info (*courses, **info) # same as student_info(\"Math\", \"Art\", name=\"John\", age=\"22\")"
   ]
  },
  {
   "cell_type": "code",
   "execution_count": null,
   "id": "9cc1d5a7",
   "metadata": {},
   "outputs": [
    {
     "name": "stdout",
     "output_type": "stream",
     "text": [
      "False\n"
     ]
    }
   ],
   "source": [
    "# 6 (Reproduced from the standard library)\n",
    "\n",
    "# Number of days per month. First value placeholder for indexing purposes.\n",
    "month_days = [ 0 , 31 , 28 , 31 , 30 , 31 , 30 , 31 , 31 , 30 , 31 , 30 , 31 ]\n",
    "\n",
    "def is_leap(year):\n",
    "    \"\"\"Return True for leap years, False for non-leap years.\"\"\" \n",
    "\n",
    "    return year % 4 == 0 and (year % 100 != 0 or year % 400 == 0)\n",
    "\n",
    "def days_in_month(year , month):\n",
    "    \"\"\"Return number of days in given month of given year.\"\"\"\n",
    "\n",
    "    if not 1 <= month <= 12:\n",
    "        return \"Invalid Month\"\n",
    "\n",
    "    if month == 2 and is_leap(year):\n",
    "        return 29\n",
    "\n",
    "    return month_days[month]\n",
    "\n"
   ]
  },
  {
   "cell_type": "code",
   "execution_count": 14,
   "id": "f60aa922",
   "metadata": {},
   "outputs": [
    {
     "name": "stdout",
     "output_type": "stream",
     "text": [
      "False\n"
     ]
    }
   ],
   "source": [
    "print(is_leap(2017))"
   ]
  },
  {
   "cell_type": "code",
   "execution_count": 15,
   "id": "585553bf",
   "metadata": {},
   "outputs": [
    {
     "name": "stdout",
     "output_type": "stream",
     "text": [
      "True\n"
     ]
    }
   ],
   "source": [
    "print(is_leap(2020))"
   ]
  },
  {
   "cell_type": "code",
   "execution_count": 16,
   "id": "becd5942",
   "metadata": {},
   "outputs": [
    {
     "name": "stdout",
     "output_type": "stream",
     "text": [
      "28\n"
     ]
    }
   ],
   "source": [
    "print(days_in_month(2017, 2))"
   ]
  },
  {
   "cell_type": "code",
   "execution_count": 17,
   "id": "8bb49f87",
   "metadata": {},
   "outputs": [
    {
     "name": "stdout",
     "output_type": "stream",
     "text": [
      "29\n"
     ]
    }
   ],
   "source": [
    "print(days_in_month(2020, 2))"
   ]
  }
 ],
 "metadata": {
  "kernelspec": {
   "display_name": "Python 3",
   "language": "python",
   "name": "python3"
  },
  "language_info": {
   "codemirror_mode": {
    "name": "ipython",
    "version": 3
   },
   "file_extension": ".py",
   "mimetype": "text/x-python",
   "name": "python",
   "nbconvert_exporter": "python",
   "pygments_lexer": "ipython3",
   "version": "3.11.8"
  }
 },
 "nbformat": 4,
 "nbformat_minor": 5
}
